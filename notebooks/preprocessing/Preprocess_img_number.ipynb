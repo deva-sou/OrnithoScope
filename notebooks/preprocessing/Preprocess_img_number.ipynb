{
 "cells": [
  {
   "cell_type": "markdown",
   "id": "77940585-d62d-423b-84e3-709339101c9a",
   "metadata": {},
   "source": [
    "Import data"
   ]
  },
  {
   "cell_type": "code",
   "execution_count": 21,
   "id": "b1b77b79-c09e-451e-92b8-33e272d8533d",
   "metadata": {},
   "outputs": [],
   "source": [
    "import os, os.path\n",
    "import pandas as pd\n",
    "from xml.dom import minidom\n",
    "import matplotlib.pyplot as plt\n",
    "import numpy as np\n",
    "import seaborn as sns"
   ]
  },
  {
   "cell_type": "code",
   "execution_count": 2,
   "id": "362d91b5-5319-4dc8-a402-5927b9f054cf",
   "metadata": {},
   "outputs": [
    {
     "data": {
      "text/html": [
       "<div>\n",
       "<style scoped>\n",
       "    .dataframe tbody tr th:only-of-type {\n",
       "        vertical-align: middle;\n",
       "    }\n",
       "\n",
       "    .dataframe tbody tr th {\n",
       "        vertical-align: top;\n",
       "    }\n",
       "\n",
       "    .dataframe thead th {\n",
       "        text-align: right;\n",
       "    }\n",
       "</style>\n",
       "<table border=\"1\" class=\"dataframe\">\n",
       "  <thead>\n",
       "    <tr style=\"text-align: right;\">\n",
       "      <th></th>\n",
       "      <th>task_name</th>\n",
       "      <th>img_number</th>\n",
       "      <th>usable_img</th>\n",
       "      <th>obj_detected_number</th>\n",
       "      <th>detected_ojects_number</th>\n",
       "    </tr>\n",
       "  </thead>\n",
       "  <tbody>\n",
       "  </tbody>\n",
       "</table>\n",
       "</div>"
      ],
      "text/plain": [
       "Empty DataFrame\n",
       "Columns: [task_name, img_number, usable_img, obj_detected_number, detected_ojects_number]\n",
       "Index: []"
      ]
     },
     "execution_count": 2,
     "metadata": {},
     "output_type": "execute_result"
    }
   ],
   "source": [
    "columns_names_df = [\"task_name\",\"img_number\",\"usable_img\",\"obj_detected_number\",\"detected_ojects_number\"]\n",
    "df = pd.DataFrame(columns = columns_names_df)\n",
    "df"
   ]
  },
  {
   "cell_type": "code",
   "execution_count": null,
   "id": "4876b4b4-2eac-4b89-a31e-fc7c999189db",
   "metadata": {},
   "outputs": [],
   "source": [
    "path = '/home/acarlier/OrnithoMate/p0133_bird_data/annotations/'\n",
    "tasks_dir = sorted(os.listdir(path))\n",
    "\n",
    "unwanted_list = ['unknown', 'human', 'noBird']\n",
    "\n",
    "def get_info_from_xml(xml_path):\n",
    "    mydoc = minidom.parse(xml_path)\n",
    "    items = mydoc.getElementsByTagName('object')\n",
    "    nb_obj = len(items)\n",
    "    nb_obj_real = 0\n",
    "    birds = []\n",
    "    for k in range(nb_obj):\n",
    "        bird = items[k].childNodes[7].childNodes[1].childNodes[3].childNodes[0].data\n",
    "        if bird not in unwanted_list:\n",
    "            birds.append(bird)\n",
    "            nb_obj_real += 1\n",
    "        if bird == '1L':\n",
    "            print(xml_path)\n",
    "            \n",
    "    return nb_obj_real, birds\n",
    "\n",
    "\n",
    "total_img = 0\n",
    "total_obj = 0\n",
    "total_obj_dict = {}\n",
    "for i in range(len(tasks_dir)):\n",
    "    # Pour chaque tâche\n",
    "    task_name = tasks_dir[i]\n",
    "    \n",
    "    task_dict = {}\n",
    "    \n",
    "    complete_path = path + task_name + '/Annotations/bird/' + task_name + '/'\n",
    "    # Lister toutes les images de la tâche\n",
    "    image_paths = sorted(os.listdir(complete_path))\n",
    "\n",
    "    nb_img_real = 0\n",
    "    nb_obj_real = 0\n",
    "    for img in range(len(image_paths)):\n",
    "        nb_obj, birds = get_info_from_xml(complete_path + image_paths[img])\n",
    "        \n",
    "        if nb_obj > 0:\n",
    "            nb_img_real += 1\n",
    "            nb_obj_real += len(birds)\n",
    "            \n",
    "            for b in birds:\n",
    "                if b in task_dict:\n",
    "                    task_dict[b] += 1\n",
    "                else:\n",
    "                    task_dict[b] = 1\n",
    "                    \n",
    "                if b in total_obj_dict:\n",
    "                    total_obj_dict[b] += 1\n",
    "                else:\n",
    "                    total_obj_dict[b] = 1\n",
    "    \n",
    "    total_img += nb_img_real\n",
    "    total_obj += nb_obj_real        \n",
    "    #print(task_name, len(image_paths), nb_img_real, nb_obj_real, task_dict)\n",
    "    df = df.append({'task_name': task_name, 'img_number':len(image_paths),\n",
    "                   'usable_img':nb_img_real,'obj_detected_number':nb_obj_real,'detected_ojects_number':task_dict},ignore_index=True)\n",
    "print('Total images ', total_img, total_obj, total_obj_dict)\n"
   ]
  },
  {
   "cell_type": "code",
   "execution_count": 8,
   "id": "8c0b33a2-34be-422d-add3-9a152c927048",
   "metadata": {},
   "outputs": [
    {
     "data": {
      "text/html": [
       "<div>\n",
       "<style scoped>\n",
       "    .dataframe tbody tr th:only-of-type {\n",
       "        vertical-align: middle;\n",
       "    }\n",
       "\n",
       "    .dataframe tbody tr th {\n",
       "        vertical-align: top;\n",
       "    }\n",
       "\n",
       "    .dataframe thead th {\n",
       "        text-align: right;\n",
       "    }\n",
       "</style>\n",
       "<table border=\"1\" class=\"dataframe\">\n",
       "  <thead>\n",
       "    <tr style=\"text-align: right;\">\n",
       "      <th></th>\n",
       "      <th>task_name</th>\n",
       "      <th>img_number</th>\n",
       "      <th>usable_img</th>\n",
       "      <th>obj_detected_number</th>\n",
       "      <th>detected_ojects_number</th>\n",
       "    </tr>\n",
       "  </thead>\n",
       "  <tbody>\n",
       "    <tr>\n",
       "      <th>0</th>\n",
       "      <td>task_05-01-2021</td>\n",
       "      <td>948</td>\n",
       "      <td>740</td>\n",
       "      <td>812</td>\n",
       "      <td>{'MESCHA': 287, 'SITTOR': 182, 'MESBLE': 69, '...</td>\n",
       "    </tr>\n",
       "    <tr>\n",
       "      <th>1</th>\n",
       "      <td>task_06-01-2021</td>\n",
       "      <td>324</td>\n",
       "      <td>225</td>\n",
       "      <td>268</td>\n",
       "      <td>{'MESBLE': 22, 'MESCHA': 135, 'SITTOR': 32, 'M...</td>\n",
       "    </tr>\n",
       "    <tr>\n",
       "      <th>2</th>\n",
       "      <td>task_18-01-2021</td>\n",
       "      <td>297</td>\n",
       "      <td>244</td>\n",
       "      <td>245</td>\n",
       "      <td>{'MESNON': 73, 'ROUGOR': 5, 'MESBLE': 91, 'MES...</td>\n",
       "    </tr>\n",
       "    <tr>\n",
       "      <th>3</th>\n",
       "      <td>task_19-01-2021</td>\n",
       "      <td>737</td>\n",
       "      <td>543</td>\n",
       "      <td>554</td>\n",
       "      <td>{'MESCHA': 344, 'MESNON': 79, 'MESBLE': 74, 'R...</td>\n",
       "    </tr>\n",
       "    <tr>\n",
       "      <th>4</th>\n",
       "      <td>task_2021-03-01_07</td>\n",
       "      <td>162</td>\n",
       "      <td>124</td>\n",
       "      <td>130</td>\n",
       "      <td>{'MESBLE': 6, 'MESCHA': 17, 'VEREUR': 107}</td>\n",
       "    </tr>\n",
       "  </tbody>\n",
       "</table>\n",
       "</div>"
      ],
      "text/plain": [
       "            task_name img_number usable_img obj_detected_number  \\\n",
       "0     task_05-01-2021        948        740                 812   \n",
       "1     task_06-01-2021        324        225                 268   \n",
       "2     task_18-01-2021        297        244                 245   \n",
       "3     task_19-01-2021        737        543                 554   \n",
       "4  task_2021-03-01_07        162        124                 130   \n",
       "\n",
       "                              detected_ojects_number  \n",
       "0  {'MESCHA': 287, 'SITTOR': 182, 'MESBLE': 69, '...  \n",
       "1  {'MESBLE': 22, 'MESCHA': 135, 'SITTOR': 32, 'M...  \n",
       "2  {'MESNON': 73, 'ROUGOR': 5, 'MESBLE': 91, 'MES...  \n",
       "3  {'MESCHA': 344, 'MESNON': 79, 'MESBLE': 74, 'R...  \n",
       "4         {'MESBLE': 6, 'MESCHA': 17, 'VEREUR': 107}  "
      ]
     },
     "execution_count": 8,
     "metadata": {},
     "output_type": "execute_result"
    }
   ],
   "source": [
    "df.head()"
   ]
  },
  {
   "cell_type": "code",
   "execution_count": 43,
   "id": "e3c15e30-81ef-4ee7-a0d8-ebb54c498d12",
   "metadata": {
    "scrolled": true,
    "tags": []
   },
   "outputs": [
    {
     "data": {
      "text/plain": [
       "<Figure size 1008x1008 with 0 Axes>"
      ]
     },
     "metadata": {},
     "output_type": "display_data"
    },
    {
     "data": {
      "image/png": "[encoded data removed]",
      "text/plain": [
       "<Figure size 432x288 with 1 Axes>"
      ]
     },
     "metadata": {
      "needs_background": "light"
     },
     "output_type": "display_data"
    }
   ],
   "source": [
    "plt.figure(figsize=(14,14));\n",
    "df.plot();"
   ]
  },
  {
   "cell_type": "code",
   "execution_count": null,
   "id": "cf756aa8-91b6-4bd5-9285-85763d3837e1",
   "metadata": {},
   "outputs": [],
   "source": []
  }
 ],
 "metadata": {
  "kernelspec": {
   "display_name": "Python 3 (ipykernel)",
   "language": "python",
   "name": "python3"
  },
  "language_info": {
   "codemirror_mode": {
    "name": "ipython",
    "version": 3
   },
   "file_extension": ".py",
   "mimetype": "text/x-python",
   "name": "python",
   "nbconvert_exporter": "python",
   "pygments_lexer": "ipython3",
   "version": "3.9.7"
  }
 },
 "nbformat": 4,
 "nbformat_minor": 5
}

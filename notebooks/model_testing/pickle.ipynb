{
 "cells": [
  {
   "cell_type": "code",
   "execution_count": 1,
   "metadata": {},
   "outputs": [],
   "source": [
    "import pandas as pd\n",
    "import pickle"
   ]
  },
  {
   "cell_type": "code",
   "execution_count": 2,
   "metadata": {},
   "outputs": [],
   "source": [
    "input_csv_path = '/home/acarlier/code/OrnithoScope/data/input.csv'\n",
    "columns_names = [\"split_value\", \"file_path\", \"label\",\n",
    "                      \"x_min\", \"y_min\", \"empty_1\", \"empty_2\",\n",
    "                      \"x_max\", \"y_max\", \"empty_3\"]\n",
    "\n",
    "def get_classes_from_input():\n",
    "    input = pd.read_csv(input_csv_path, names = columns_names)\n",
    "    return input[\"label\"].unique().tolist()"
   ]
  },
  {
   "cell_type": "code",
   "execution_count": 3,
   "metadata": {},
   "outputs": [],
   "source": [
    "results = pickle.load( open( \"/home/acarlier/code/OrnithoScope/saved_models/results.p\", \"rb\" ) )"
   ]
  },
  {
   "cell_type": "code",
   "execution_count": 4,
   "metadata": {},
   "outputs": [
    {
     "data": {
      "text/plain": [
       "[[{'bounding_box': array([0.10898745, 0.25329775, 0.68961984, 0.4730904 ], dtype=float32),\n",
       "   'class_id': 7.0,\n",
       "   'score': 0.66796875}],\n",
       " [{'bounding_box': array([0.4092438, 0.5277908, 1.0296512, 0.7281122], dtype=float32),\n",
       "   'class_id': 0.0,\n",
       "   'score': 0.375}],\n",
       " [{'bounding_box': array([0.5509056, 0.5129066, 0.9888495, 0.9870934], dtype=float32),\n",
       "   'class_id': 0.0,\n",
       "   'score': 0.9296875}],\n",
       " [{'bounding_box': array([0.39843464, 0.30333823, 0.6451436 , 0.5669474 ], dtype=float32),\n",
       "   'class_id': 7.0,\n",
       "   'score': 0.84765625}],\n",
       " [],\n",
       " [{'bounding_box': array([0.41062987, 0.13668333, 0.8865938 , 0.38762027], dtype=float32),\n",
       "   'class_id': 0.0,\n",
       "   'score': 0.91796875}],\n",
       " [{'bounding_box': array([0.46652228, 0.13806312, 0.668348  , 0.5108628 ], dtype=float32),\n",
       "   'class_id': 7.0,\n",
       "   'score': 0.8125},\n",
       "  {'bounding_box': array([0.8450288, 0.8830899, 0.993529 , 0.998536 ], dtype=float32),\n",
       "   'class_id': 0.0,\n",
       "   'score': 0.76953125}],\n",
       " [{'bounding_box': array([0.43046698, 0.2513759 , 0.6197371 , 0.51850164], dtype=float32),\n",
       "   'class_id': 0.0,\n",
       "   'score': 0.8984375}],\n",
       " [{'bounding_box': array([0.38969195, 0.09086055, 0.7972007 , 0.4293654 ], dtype=float32),\n",
       "   'class_id': 0.0,\n",
       "   'score': 0.88671875}],\n",
       " [{'bounding_box': array([0.3573898 , 0.27911854, 0.62606126, 0.5624156 ], dtype=float32),\n",
       "   'class_id': 0.0,\n",
       "   'score': 0.8359375}]]"
      ]
     },
     "execution_count": 4,
     "metadata": {},
     "output_type": "execute_result"
    }
   ],
   "source": [
    "results"
   ]
  }
 ],
 "metadata": {
  "interpreter": {
   "hash": "19c3081fe3265570dc101441fe38429c8bca377ba2301426b88b33379fbbcf85"
  },
  "kernelspec": {
   "display_name": "Python 3.8.10 ('ornithoScope_virtualenv': venv)",
   "language": "python",
   "name": "python3"
  },
  "language_info": {
   "codemirror_mode": {
    "name": "ipython",
    "version": 3
   },
   "file_extension": ".py",
   "mimetype": "text/x-python",
   "name": "python",
   "nbconvert_exporter": "python",
   "pygments_lexer": "ipython3",
   "version": "3.8.10"
  },
  "orig_nbformat": 4
 },
 "nbformat": 4,
 "nbformat_minor": 2
}

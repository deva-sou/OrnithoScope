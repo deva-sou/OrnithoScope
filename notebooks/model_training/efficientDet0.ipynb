{
 "cells": [
  {
   "cell_type": "markdown",
   "id": "1512bab4",
   "metadata": {},
   "source": [
    "# IMPORTS"
   ]
  },
  {
   "cell_type": "code",
   "execution_count": 29,
   "metadata": {
    "collapsed": false,
    "pycharm": {
     "name": "#%%\n"
    }
   },
   "outputs": [],
   "source": [
    "import numpy as np\n",
    "import os\n",
    "import pandas as pd"
   ]
  },
  {
   "cell_type": "code",
   "execution_count": 2,
   "id": "3a94c0c3",
   "metadata": {},
   "outputs": [
    {
     "name": "stdout",
     "output_type": "stream",
     "text": [
      "<module 'tensorflow._api.v2.version' from '/home/acarlier/code/OrnithoScope/ornithoScope_virtualenv/lib/python3.8/site-packages/tensorflow/_api/v2/version/__init__.py'>\n"
     ]
    }
   ],
   "source": [
    "import tensorflow as tf\n",
    "print(tf.version)\n",
    "from tflite_model_maker.config import ExportFormat\n",
    "from tflite_model_maker import model_spec\n",
    "from tflite_model_maker import object_detector\n",
    "\n",
    "assert tf.__version__.startswith('2')\n",
    "tf.get_logger().setLevel('ERROR')\n",
    "from absl import logging\n",
    "logging.set_verbosity(logging.ERROR)"
   ]
  },
  {
   "cell_type": "code",
   "execution_count": 4,
   "metadata": {
    "collapsed": false,
    "pycharm": {
     "name": "#%%\n"
    }
   },
   "outputs": [
    {
     "name": "stderr",
     "output_type": "stream",
     "text": [
      "2022-03-14 11:39:57.270123: I tensorflow/core/common_runtime/gpu/gpu_device.cc:1525] Created device /device:GPU:0 with 9957 MB memory:  -> device: 0, name: NVIDIA GeForce GTX 1080 Ti, pci bus id: 0000:03:00.0, compute capability: 6.1\n",
      "2022-03-14 11:39:57.270464: I tensorflow/core/common_runtime/gpu/gpu_device.cc:1525] Created device /device:GPU:1 with 10406 MB memory:  -> device: 1, name: NVIDIA GeForce GTX 1080 Ti, pci bus id: 0000:a1:00.0, compute capability: 6.1\n"
     ]
    },
    {
     "data": {
      "text/plain": [
       "True"
      ]
     },
     "execution_count": 4,
     "metadata": {},
     "output_type": "execute_result"
    }
   ],
   "source": [
    "tf.test.is_gpu_available()"
   ]
  },
  {
   "cell_type": "markdown",
   "id": "81799919",
   "metadata": {},
   "source": [
    "# ENTRAINEMENT"
   ]
  },
  {
   "cell_type": "code",
   "execution_count": 5,
   "metadata": {
    "collapsed": false,
    "pycharm": {
     "name": "#%%\n"
    }
   },
   "outputs": [
    {
     "name": "stderr",
     "output_type": "stream",
     "text": [
      "2022-03-14 11:40:02.795759: I tensorflow/core/common_runtime/gpu/gpu_device.cc:1525] Created device /job:localhost/replica:0/task:0/device:GPU:0 with 9957 MB memory:  -> device: 0, name: NVIDIA GeForce GTX 1080 Ti, pci bus id: 0000:03:00.0, compute capability: 6.1\n",
      "2022-03-14 11:40:02.796331: I tensorflow/core/common_runtime/gpu/gpu_device.cc:1525] Created device /job:localhost/replica:0/task:0/device:GPU:1 with 10406 MB memory:  -> device: 1, name: NVIDIA GeForce GTX 1080 Ti, pci bus id: 0000:a1:00.0, compute capability: 6.1\n"
     ]
    }
   ],
   "source": [
    "spec = model_spec.get('efficientdet_lite0')"
   ]
  },
  {
   "cell_type": "code",
   "execution_count": 6,
   "metadata": {
    "collapsed": false,
    "pycharm": {
     "name": "#%%\n"
    }
   },
   "outputs": [],
   "source": [
    "train_data, validation_data, test_data = object_detector.DataLoader.from_csv('/home/acarlier/code/OrnithoScope/data/input.csv')"
   ]
  },
  {
   "cell_type": "code",
   "execution_count": 7,
   "metadata": {
    "collapsed": false,
    "pycharm": {
     "name": "#%%\n"
    }
   },
   "outputs": [
    {
     "name": "stdout",
     "output_type": "stream",
     "text": [
      "Epoch 1/50\n"
     ]
    },
    {
     "name": "stderr",
     "output_type": "stream",
     "text": [
      "2022-03-14 11:41:57.905355: I tensorflow/stream_executor/cuda/cuda_dnn.cc:368] Loaded cuDNN version 8302\n"
     ]
    },
    {
     "name": "stdout",
     "output_type": "stream",
     "text": [
      "1052/1052 [==============================] - 243s 196ms/step - det_loss: 0.7726 - cls_loss: 0.5660 - box_loss: 0.0041 - reg_l2_loss: 0.0660 - loss: 0.8386 - learning_rate: 0.0090 - gradient_norm: 2.8916 - val_det_loss: 0.7134 - val_cls_loss: 0.5596 - val_box_loss: 0.0031 - val_reg_l2_loss: 0.0665 - val_loss: 0.7800\n",
      "Epoch 2/50\n",
      "1052/1052 [==============================] - 199s 190ms/step - det_loss: 0.5411 - cls_loss: 0.3970 - box_loss: 0.0029 - reg_l2_loss: 0.0670 - loss: 0.6081 - learning_rate: 0.0100 - gradient_norm: 2.5090 - val_det_loss: 0.5936 - val_cls_loss: 0.4777 - val_box_loss: 0.0023 - val_reg_l2_loss: 0.0674 - val_loss: 0.6610\n",
      "Epoch 3/50\n",
      "1052/1052 [==============================] - 203s 193ms/step - det_loss: 0.4938 - cls_loss: 0.3638 - box_loss: 0.0026 - reg_l2_loss: 0.0678 - loss: 0.5616 - learning_rate: 0.0099 - gradient_norm: 2.3346 - val_det_loss: 0.7164 - val_cls_loss: 0.5673 - val_box_loss: 0.0030 - val_reg_l2_loss: 0.0681 - val_loss: 0.7845\n",
      "Epoch 4/50\n",
      "1052/1052 [==============================] - 205s 195ms/step - det_loss: 0.4721 - cls_loss: 0.3500 - box_loss: 0.0024 - reg_l2_loss: 0.0684 - loss: 0.5405 - learning_rate: 0.0099 - gradient_norm: 2.2302 - val_det_loss: 0.5366 - val_cls_loss: 0.4594 - val_box_loss: 0.0015 - val_reg_l2_loss: 0.0686 - val_loss: 0.6052\n",
      "Epoch 5/50\n",
      "1052/1052 [==============================] - 231s 220ms/step - det_loss: 0.4498 - cls_loss: 0.3364 - box_loss: 0.0023 - reg_l2_loss: 0.0689 - loss: 0.5187 - learning_rate: 0.0098 - gradient_norm: 2.1500 - val_det_loss: 0.5750 - val_cls_loss: 0.4735 - val_box_loss: 0.0020 - val_reg_l2_loss: 0.0691 - val_loss: 0.6441\n",
      "Epoch 6/50\n",
      "1052/1052 [==============================] - 206s 196ms/step - det_loss: 0.4381 - cls_loss: 0.3298 - box_loss: 0.0022 - reg_l2_loss: 0.0693 - loss: 0.5075 - learning_rate: 0.0097 - gradient_norm: 2.1389 - val_det_loss: 0.5606 - val_cls_loss: 0.4629 - val_box_loss: 0.0020 - val_reg_l2_loss: 0.0696 - val_loss: 0.6302\n",
      "Epoch 7/50\n",
      "1052/1052 [==============================] - 208s 198ms/step - det_loss: 0.4255 - cls_loss: 0.3199 - box_loss: 0.0021 - reg_l2_loss: 0.0698 - loss: 0.4953 - learning_rate: 0.0096 - gradient_norm: 2.0719 - val_det_loss: 0.5323 - val_cls_loss: 0.4134 - val_box_loss: 0.0024 - val_reg_l2_loss: 0.0699 - val_loss: 0.6023\n",
      "Epoch 8/50\n",
      "1052/1052 [==============================] - 207s 197ms/step - det_loss: 0.4163 - cls_loss: 0.3137 - box_loss: 0.0021 - reg_l2_loss: 0.0701 - loss: 0.4864 - learning_rate: 0.0094 - gradient_norm: 2.0536 - val_det_loss: 0.5510 - val_cls_loss: 0.4301 - val_box_loss: 0.0024 - val_reg_l2_loss: 0.0703 - val_loss: 0.6213\n",
      "Epoch 9/50\n",
      "1052/1052 [==============================] - 204s 194ms/step - det_loss: 0.4058 - cls_loss: 0.3059 - box_loss: 0.0020 - reg_l2_loss: 0.0705 - loss: 0.4763 - learning_rate: 0.0093 - gradient_norm: 2.0912 - val_det_loss: 0.5571 - val_cls_loss: 0.4511 - val_box_loss: 0.0021 - val_reg_l2_loss: 0.0707 - val_loss: 0.6277\n",
      "Epoch 10/50\n",
      "1052/1052 [==============================] - 225s 214ms/step - det_loss: 0.4008 - cls_loss: 0.3030 - box_loss: 0.0020 - reg_l2_loss: 0.0709 - loss: 0.4717 - learning_rate: 0.0091 - gradient_norm: 2.0770 - val_det_loss: 0.4935 - val_cls_loss: 0.4073 - val_box_loss: 0.0017 - val_reg_l2_loss: 0.0710 - val_loss: 0.5646\n",
      "Epoch 11/50\n",
      "1052/1052 [==============================] - 203s 192ms/step - det_loss: 0.3891 - cls_loss: 0.2948 - box_loss: 0.0019 - reg_l2_loss: 0.0712 - loss: 0.4603 - learning_rate: 0.0089 - gradient_norm: 2.0668 - val_det_loss: 0.5417 - val_cls_loss: 0.4170 - val_box_loss: 0.0025 - val_reg_l2_loss: 0.0713 - val_loss: 0.6130\n",
      "Epoch 12/50\n",
      "1052/1052 [==============================] - 203s 193ms/step - det_loss: 0.3785 - cls_loss: 0.2839 - box_loss: 0.0019 - reg_l2_loss: 0.0715 - loss: 0.4500 - learning_rate: 0.0087 - gradient_norm: 2.1592 - val_det_loss: 0.5045 - val_cls_loss: 0.3897 - val_box_loss: 0.0023 - val_reg_l2_loss: 0.0717 - val_loss: 0.5762\n",
      "Epoch 13/50\n",
      "1052/1052 [==============================] - 200s 191ms/step - det_loss: 0.3704 - cls_loss: 0.2775 - box_loss: 0.0019 - reg_l2_loss: 0.0719 - loss: 0.4422 - learning_rate: 0.0085 - gradient_norm: 2.1597 - val_det_loss: 0.5602 - val_cls_loss: 0.4254 - val_box_loss: 0.0027 - val_reg_l2_loss: 0.0720 - val_loss: 0.6322\n",
      "Epoch 14/50\n",
      "1052/1052 [==============================] - 202s 192ms/step - det_loss: 0.3596 - cls_loss: 0.2702 - box_loss: 0.0018 - reg_l2_loss: 0.0722 - loss: 0.4318 - learning_rate: 0.0082 - gradient_norm: 2.1662 - val_det_loss: 0.5241 - val_cls_loss: 0.4141 - val_box_loss: 0.0022 - val_reg_l2_loss: 0.0723 - val_loss: 0.5964\n",
      "Epoch 15/50\n",
      "1052/1052 [==============================] - 225s 214ms/step - det_loss: 0.3547 - cls_loss: 0.2644 - box_loss: 0.0018 - reg_l2_loss: 0.0725 - loss: 0.4272 - learning_rate: 0.0080 - gradient_norm: 2.1393 - val_det_loss: 0.5713 - val_cls_loss: 0.4709 - val_box_loss: 0.0020 - val_reg_l2_loss: 0.0726 - val_loss: 0.6439\n",
      "Epoch 16/50\n",
      "1052/1052 [==============================] - 203s 193ms/step - det_loss: 0.3431 - cls_loss: 0.2559 - box_loss: 0.0017 - reg_l2_loss: 0.0727 - loss: 0.4159 - learning_rate: 0.0077 - gradient_norm: 2.1627 - val_det_loss: 0.5693 - val_cls_loss: 0.4164 - val_box_loss: 0.0031 - val_reg_l2_loss: 0.0728 - val_loss: 0.6421\n",
      "Epoch 17/50\n",
      "1052/1052 [==============================] - 203s 193ms/step - det_loss: 0.3376 - cls_loss: 0.2516 - box_loss: 0.0017 - reg_l2_loss: 0.0730 - loss: 0.4106 - learning_rate: 0.0075 - gradient_norm: 2.1240 - val_det_loss: 0.4372 - val_cls_loss: 0.3529 - val_box_loss: 0.0017 - val_reg_l2_loss: 0.0730 - val_loss: 0.5103\n",
      "Epoch 18/50\n",
      "1052/1052 [==============================] - 202s 192ms/step - det_loss: 0.3287 - cls_loss: 0.2440 - box_loss: 0.0017 - reg_l2_loss: 0.0731 - loss: 0.4019 - learning_rate: 0.0072 - gradient_norm: 2.1654 - val_det_loss: 0.4859 - val_cls_loss: 0.4040 - val_box_loss: 0.0016 - val_reg_l2_loss: 0.0732 - val_loss: 0.5591\n",
      "Epoch 19/50\n",
      "1052/1052 [==============================] - 205s 195ms/step - det_loss: 0.3240 - cls_loss: 0.2401 - box_loss: 0.0017 - reg_l2_loss: 0.0733 - loss: 0.3973 - learning_rate: 0.0069 - gradient_norm: 2.1801 - val_det_loss: 0.5091 - val_cls_loss: 0.4212 - val_box_loss: 0.0018 - val_reg_l2_loss: 0.0734 - val_loss: 0.5825\n",
      "Epoch 20/50\n",
      "1052/1052 [==============================] - 228s 217ms/step - det_loss: 0.3159 - cls_loss: 0.2344 - box_loss: 0.0016 - reg_l2_loss: 0.0735 - loss: 0.3894 - learning_rate: 0.0066 - gradient_norm: 2.1574 - val_det_loss: 0.4699 - val_cls_loss: 0.3900 - val_box_loss: 0.0016 - val_reg_l2_loss: 0.0735 - val_loss: 0.5434\n",
      "Epoch 21/50\n",
      "1052/1052 [==============================] - 204s 194ms/step - det_loss: 0.3076 - cls_loss: 0.2280 - box_loss: 0.0016 - reg_l2_loss: 0.0736 - loss: 0.3811 - learning_rate: 0.0063 - gradient_norm: 2.1641 - val_det_loss: 0.4688 - val_cls_loss: 0.3827 - val_box_loss: 0.0017 - val_reg_l2_loss: 0.0736 - val_loss: 0.5424\n",
      "Epoch 22/50\n",
      "1052/1052 [==============================] - 208s 197ms/step - det_loss: 0.3055 - cls_loss: 0.2270 - box_loss: 0.0016 - reg_l2_loss: 0.0737 - loss: 0.3791 - learning_rate: 0.0060 - gradient_norm: 2.2196 - val_det_loss: 0.5519 - val_cls_loss: 0.4498 - val_box_loss: 0.0020 - val_reg_l2_loss: 0.0737 - val_loss: 0.6256\n",
      "Epoch 23/50\n",
      "1052/1052 [==============================] - 208s 198ms/step - det_loss: 0.2982 - cls_loss: 0.2219 - box_loss: 0.0015 - reg_l2_loss: 0.0738 - loss: 0.3720 - learning_rate: 0.0056 - gradient_norm: 2.1861 - val_det_loss: 0.4295 - val_cls_loss: 0.3609 - val_box_loss: 0.0014 - val_reg_l2_loss: 0.0738 - val_loss: 0.5033\n",
      "Epoch 24/50\n",
      "1052/1052 [==============================] - 209s 198ms/step - det_loss: 0.2928 - cls_loss: 0.2178 - box_loss: 0.0015 - reg_l2_loss: 0.0738 - loss: 0.3666 - learning_rate: 0.0053 - gradient_norm: 2.2113 - val_det_loss: 0.4826 - val_cls_loss: 0.3977 - val_box_loss: 0.0017 - val_reg_l2_loss: 0.0738 - val_loss: 0.5564\n",
      "Epoch 25/50\n",
      "1052/1052 [==============================] - 230s 218ms/step - det_loss: 0.2929 - cls_loss: 0.2172 - box_loss: 0.0015 - reg_l2_loss: 0.0739 - loss: 0.3668 - learning_rate: 0.0050 - gradient_norm: 2.2645 - val_det_loss: 0.4463 - val_cls_loss: 0.3726 - val_box_loss: 0.0015 - val_reg_l2_loss: 0.0739 - val_loss: 0.5202\n",
      "Epoch 26/50\n",
      "1052/1052 [==============================] - 209s 199ms/step - det_loss: 0.2818 - cls_loss: 0.2088 - box_loss: 0.0015 - reg_l2_loss: 0.0739 - loss: 0.3557 - learning_rate: 0.0047 - gradient_norm: 2.2224 - val_det_loss: 0.4407 - val_cls_loss: 0.3608 - val_box_loss: 0.0016 - val_reg_l2_loss: 0.0739 - val_loss: 0.5146\n",
      "Epoch 27/50\n",
      "1052/1052 [==============================] - 208s 198ms/step - det_loss: 0.2778 - cls_loss: 0.2064 - box_loss: 0.0014 - reg_l2_loss: 0.0739 - loss: 0.3518 - learning_rate: 0.0044 - gradient_norm: 2.2753 - val_det_loss: 0.4457 - val_cls_loss: 0.3444 - val_box_loss: 0.0020 - val_reg_l2_loss: 0.0739 - val_loss: 0.5196\n",
      "Epoch 28/50\n",
      "1052/1052 [==============================] - 208s 198ms/step - det_loss: 0.2732 - cls_loss: 0.2025 - box_loss: 0.0014 - reg_l2_loss: 0.0739 - loss: 0.3471 - learning_rate: 0.0040 - gradient_norm: 2.2481 - val_det_loss: 0.3727 - val_cls_loss: 0.3027 - val_box_loss: 0.0014 - val_reg_l2_loss: 0.0739 - val_loss: 0.4466\n",
      "Epoch 29/50\n",
      "1052/1052 [==============================] - 208s 198ms/step - det_loss: 0.2686 - cls_loss: 0.1996 - box_loss: 0.0014 - reg_l2_loss: 0.0739 - loss: 0.3425 - learning_rate: 0.0037 - gradient_norm: 2.2970 - val_det_loss: 0.3863 - val_cls_loss: 0.3195 - val_box_loss: 0.0013 - val_reg_l2_loss: 0.0739 - val_loss: 0.4602\n",
      "Epoch 30/50\n",
      "1052/1052 [==============================] - 226s 215ms/step - det_loss: 0.2627 - cls_loss: 0.1956 - box_loss: 0.0013 - reg_l2_loss: 0.0739 - loss: 0.3365 - learning_rate: 0.0034 - gradient_norm: 2.2146 - val_det_loss: 0.3806 - val_cls_loss: 0.3091 - val_box_loss: 0.0014 - val_reg_l2_loss: 0.0738 - val_loss: 0.4544\n",
      "Epoch 31/50\n",
      "1052/1052 [==============================] - 206s 195ms/step - det_loss: 0.2593 - cls_loss: 0.1922 - box_loss: 0.0013 - reg_l2_loss: 0.0738 - loss: 0.3331 - learning_rate: 0.0031 - gradient_norm: 2.2854 - val_det_loss: 0.3761 - val_cls_loss: 0.3047 - val_box_loss: 0.0014 - val_reg_l2_loss: 0.0738 - val_loss: 0.4499\n",
      "Epoch 32/50\n",
      "1052/1052 [==============================] - 207s 197ms/step - det_loss: 0.2545 - cls_loss: 0.1889 - box_loss: 0.0013 - reg_l2_loss: 0.0738 - loss: 0.3282 - learning_rate: 0.0028 - gradient_norm: 2.2533 - val_det_loss: 0.4339 - val_cls_loss: 0.3718 - val_box_loss: 0.0012 - val_reg_l2_loss: 0.0737 - val_loss: 0.5077\n",
      "Epoch 33/50\n",
      "1052/1052 [==============================] - 206s 196ms/step - det_loss: 0.2462 - cls_loss: 0.1846 - box_loss: 0.0012 - reg_l2_loss: 0.0737 - loss: 0.3200 - learning_rate: 0.0025 - gradient_norm: 2.2360 - val_det_loss: 0.3788 - val_cls_loss: 0.2988 - val_box_loss: 0.0016 - val_reg_l2_loss: 0.0737 - val_loss: 0.4525\n",
      "Epoch 34/50\n",
      "1052/1052 [==============================] - 204s 194ms/step - det_loss: 0.2430 - cls_loss: 0.1813 - box_loss: 0.0012 - reg_l2_loss: 0.0737 - loss: 0.3167 - learning_rate: 0.0023 - gradient_norm: 2.2282 - val_det_loss: 0.4224 - val_cls_loss: 0.3425 - val_box_loss: 0.0016 - val_reg_l2_loss: 0.0736 - val_loss: 0.4960\n",
      "Epoch 35/50\n",
      "1052/1052 [==============================] - 228s 216ms/step - det_loss: 0.2408 - cls_loss: 0.1799 - box_loss: 0.0012 - reg_l2_loss: 0.0736 - loss: 0.3144 - learning_rate: 0.0020 - gradient_norm: 2.2733 - val_det_loss: 0.3638 - val_cls_loss: 0.3069 - val_box_loss: 0.0011 - val_reg_l2_loss: 0.0736 - val_loss: 0.4374\n",
      "Epoch 36/50\n",
      "1052/1052 [==============================] - 207s 197ms/step - det_loss: 0.2362 - cls_loss: 0.1757 - box_loss: 0.0012 - reg_l2_loss: 0.0735 - loss: 0.3097 - learning_rate: 0.0018 - gradient_norm: 2.2274 - val_det_loss: 0.3675 - val_cls_loss: 0.3074 - val_box_loss: 0.0012 - val_reg_l2_loss: 0.0735 - val_loss: 0.4410\n",
      "Epoch 37/50\n",
      "1052/1052 [==============================] - 207s 197ms/step - det_loss: 0.2375 - cls_loss: 0.1767 - box_loss: 0.0012 - reg_l2_loss: 0.0735 - loss: 0.3110 - learning_rate: 0.0015 - gradient_norm: 2.2388 - val_det_loss: 0.3768 - val_cls_loss: 0.3084 - val_box_loss: 0.0014 - val_reg_l2_loss: 0.0735 - val_loss: 0.4503\n",
      "Epoch 38/50\n",
      "1052/1052 [==============================] - 207s 197ms/step - det_loss: 0.2346 - cls_loss: 0.1741 - box_loss: 0.0012 - reg_l2_loss: 0.0734 - loss: 0.3080 - learning_rate: 0.0013 - gradient_norm: 2.2639 - val_det_loss: 0.3527 - val_cls_loss: 0.2863 - val_box_loss: 0.0013 - val_reg_l2_loss: 0.0734 - val_loss: 0.4261\n",
      "Epoch 39/50\n",
      "1052/1052 [==============================] - 206s 196ms/step - det_loss: 0.2286 - cls_loss: 0.1706 - box_loss: 0.0012 - reg_l2_loss: 0.0734 - loss: 0.3020 - learning_rate: 0.0011 - gradient_norm: 2.2705 - val_det_loss: 0.3569 - val_cls_loss: 0.2945 - val_box_loss: 0.0012 - val_reg_l2_loss: 0.0734 - val_loss: 0.4303\n",
      "Epoch 40/50\n",
      "1052/1052 [==============================] - 230s 219ms/step - det_loss: 0.2287 - cls_loss: 0.1703 - box_loss: 0.0012 - reg_l2_loss: 0.0733 - loss: 0.3021 - learning_rate: 8.9984e-04 - gradient_norm: 2.2858 - val_det_loss: 0.3467 - val_cls_loss: 0.2866 - val_box_loss: 0.0012 - val_reg_l2_loss: 0.0733 - val_loss: 0.4200\n",
      "Epoch 41/50\n",
      "1052/1052 [==============================] - 205s 195ms/step - det_loss: 0.2260 - cls_loss: 0.1679 - box_loss: 0.0012 - reg_l2_loss: 0.0733 - loss: 0.2993 - learning_rate: 7.2502e-04 - gradient_norm: 2.2981 - val_det_loss: 0.3433 - val_cls_loss: 0.2826 - val_box_loss: 0.0012 - val_reg_l2_loss: 0.0733 - val_loss: 0.4166\n",
      "Epoch 42/50\n",
      "1052/1052 [==============================] - 192s 183ms/step - det_loss: 0.2218 - cls_loss: 0.1649 - box_loss: 0.0011 - reg_l2_loss: 0.0733 - loss: 0.2951 - learning_rate: 5.6776e-04 - gradient_norm: 2.2409 - val_det_loss: 0.3411 - val_cls_loss: 0.2832 - val_box_loss: 0.0012 - val_reg_l2_loss: 0.0733 - val_loss: 0.4143\n",
      "Epoch 43/50\n",
      "1052/1052 [==============================] - 196s 187ms/step - det_loss: 0.2231 - cls_loss: 0.1659 - box_loss: 0.0011 - reg_l2_loss: 0.0732 - loss: 0.2963 - learning_rate: 4.2872e-04 - gradient_norm: 2.2968 - val_det_loss: 0.3306 - val_cls_loss: 0.2687 - val_box_loss: 0.0012 - val_reg_l2_loss: 0.0732 - val_loss: 0.4039\n",
      "Epoch 44/50\n",
      "1052/1052 [==============================] - 195s 185ms/step - det_loss: 0.2232 - cls_loss: 0.1657 - box_loss: 0.0011 - reg_l2_loss: 0.0732 - loss: 0.2964 - learning_rate: 3.0846e-04 - gradient_norm: 2.3086 - val_det_loss: 0.3258 - val_cls_loss: 0.2680 - val_box_loss: 0.0012 - val_reg_l2_loss: 0.0732 - val_loss: 0.3990\n",
      "Epoch 45/50\n",
      "1052/1052 [==============================] - 216s 206ms/step - det_loss: 0.2219 - cls_loss: 0.1644 - box_loss: 0.0012 - reg_l2_loss: 0.0732 - loss: 0.2951 - learning_rate: 2.0748e-04 - gradient_norm: 2.2705 - val_det_loss: 0.3225 - val_cls_loss: 0.2648 - val_box_loss: 0.0012 - val_reg_l2_loss: 0.0732 - val_loss: 0.3957\n",
      "Epoch 46/50\n",
      "1052/1052 [==============================] - 196s 187ms/step - det_loss: 0.2243 - cls_loss: 0.1661 - box_loss: 0.0012 - reg_l2_loss: 0.0732 - loss: 0.2975 - learning_rate: 1.2620e-04 - gradient_norm: 2.2684 - val_det_loss: 0.3223 - val_cls_loss: 0.2654 - val_box_loss: 0.0011 - val_reg_l2_loss: 0.0732 - val_loss: 0.3955\n",
      "Epoch 47/50\n",
      "1052/1052 [==============================] - 200s 190ms/step - det_loss: 0.2216 - cls_loss: 0.1638 - box_loss: 0.0012 - reg_l2_loss: 0.0732 - loss: 0.2948 - learning_rate: 6.4938e-05 - gradient_norm: 2.2498 - val_det_loss: 0.3219 - val_cls_loss: 0.2668 - val_box_loss: 0.0011 - val_reg_l2_loss: 0.0732 - val_loss: 0.3951\n",
      "Epoch 48/50\n",
      "1052/1052 [==============================] - 193s 183ms/step - det_loss: 0.2196 - cls_loss: 0.1615 - box_loss: 0.0012 - reg_l2_loss: 0.0732 - loss: 0.2928 - learning_rate: 2.3958e-05 - gradient_norm: 2.2438 - val_det_loss: 0.3246 - val_cls_loss: 0.2689 - val_box_loss: 0.0011 - val_reg_l2_loss: 0.0732 - val_loss: 0.3978\n",
      "Epoch 49/50\n",
      "1052/1052 [==============================] - 192s 183ms/step - det_loss: 0.2231 - cls_loss: 0.1655 - box_loss: 0.0012 - reg_l2_loss: 0.0732 - loss: 0.2963 - learning_rate: 3.4264e-06 - gradient_norm: 2.2724 - val_det_loss: 0.3245 - val_cls_loss: 0.2692 - val_box_loss: 0.0011 - val_reg_l2_loss: 0.0732 - val_loss: 0.3977\n",
      "Epoch 50/50\n",
      "1052/1052 [==============================] - 214s 204ms/step - det_loss: 0.2170 - cls_loss: 0.1607 - box_loss: 0.0011 - reg_l2_loss: 0.0732 - loss: 0.2902 - learning_rate: 3.4264e-06 - gradient_norm: 2.1871 - val_det_loss: 0.3241 - val_cls_loss: 0.2685 - val_box_loss: 0.0011 - val_reg_l2_loss: 0.0732 - val_loss: 0.3973\n"
     ]
    }
   ],
   "source": [
    "model = object_detector.create(train_data, model_spec=spec, epochs=50, batch_size=8, train_whole_model=True, validation_data=validation_data)"
   ]
  },
  {
   "cell_type": "code",
   "execution_count": 8,
   "metadata": {
    "collapsed": false,
    "pycharm": {
     "name": "#%%\n"
    }
   },
   "outputs": [
    {
     "name": "stdout",
     "output_type": "stream",
     "text": [
      "55/55 [==============================] - 101s 1s/step\n",
      "\n"
     ]
    },
    {
     "data": {
      "text/plain": [
       "{'AP': 0.40350127,\n",
       " 'AP50': 0.5478838,\n",
       " 'AP75': 0.44571948,\n",
       " 'APs': 0.0,\n",
       " 'APm': 0.0,\n",
       " 'APl': 0.4036552,\n",
       " 'ARmax1': 0.5927001,\n",
       " 'ARmax10': 0.6639989,\n",
       " 'ARmax100': 0.66608953,\n",
       " 'ARs': 0.0,\n",
       " 'ARm': 0.0,\n",
       " 'ARl': 0.6662592,\n",
       " 'AP_/MESCHA': 0.64758575,\n",
       " 'AP_/SITTOR': 0.3549136,\n",
       " 'AP_/MESBLE': 0.43575662,\n",
       " 'AP_/MESNON': 0.45686665,\n",
       " 'AP_/PINARB': 0.5723666,\n",
       " 'AP_/ACCMOU': 0.39830184,\n",
       " 'AP_/ROUGOR': 0.22403891,\n",
       " 'AP_/VEREUR': 0.7389513,\n",
       " 'AP_/MOIDOM': 0.005171572,\n",
       " 'AP_/TOUTUR': 0.32516152,\n",
       " 'AP_/ECUROU': 0.47493652,\n",
       " 'AP_/PIEBAV': 0.8081875,\n",
       " 'AP_/MULGRI': 0.047354482,\n",
       " 'AP_/CAMPAG': -1.0,\n",
       " 'AP_/MESNOI': 0.15942481,\n",
       " 'AP_/MESHUP': -1.0}"
      ]
     },
     "execution_count": 8,
     "metadata": {},
     "output_type": "execute_result"
    }
   ],
   "source": [
    "model.evaluate(test_data)"
   ]
  },
  {
   "cell_type": "code",
   "execution_count": 10,
   "metadata": {
    "collapsed": false,
    "pycharm": {
     "name": "#%%\n"
    }
   },
   "outputs": [
    {
     "name": "stderr",
     "output_type": "stream",
     "text": [
      "2022-03-14 15:06:57.699146: W tensorflow/core/common_runtime/graph_constructor.cc:803] Node 'resample_p7/PartitionedCall' has 1 outputs but the _output_shapes attribute specifies shapes for 3 outputs. Output shapes may be inaccurate.\n",
      "2022-03-14 15:07:06.158312: W tensorflow/compiler/mlir/lite/python/tf_tfl_flatbuffer_helpers.cc:357] Ignored output_format.\n",
      "2022-03-14 15:07:06.158356: W tensorflow/compiler/mlir/lite/python/tf_tfl_flatbuffer_helpers.cc:360] Ignored drop_control_dependency.\n",
      "2022-03-14 15:07:06.158764: I tensorflow/cc/saved_model/reader.cc:43] Reading SavedModel from: /tmp/tmpku64qk4i\n",
      "2022-03-14 15:07:06.272452: I tensorflow/cc/saved_model/reader.cc:78] Reading meta graph with tags { serve }\n",
      "2022-03-14 15:07:06.272506: I tensorflow/cc/saved_model/reader.cc:119] Reading SavedModel debug info (if present) from: /tmp/tmpku64qk4i\n",
      "2022-03-14 15:07:06.644190: I tensorflow/cc/saved_model/loader.cc:228] Restoring SavedModel bundle.\n",
      "2022-03-14 15:07:09.021896: I tensorflow/cc/saved_model/loader.cc:212] Running initialization op on SavedModel bundle at path: /tmp/tmpku64qk4i\n",
      "2022-03-14 15:07:10.084806: I tensorflow/cc/saved_model/loader.cc:301] SavedModel load for tags { serve }; Status: success: OK. Took 3926043 microseconds.\n",
      "2022-03-14 15:07:14.094545: I tensorflow/compiler/mlir/lite/flatbuffer_export.cc:1963] Estimated count of arithmetic ops: 1.804 G  ops, equivalently 0.902 G  MACs\n",
      "\n"
     ]
    },
    {
     "name": "stdout",
     "output_type": "stream",
     "text": [
      "Estimated count of arithmetic ops: 1.804 G  ops, equivalently 0.902 G  MACs\n"
     ]
    },
    {
     "name": "stderr",
     "output_type": "stream",
     "text": [
      "fully_quantize: 0, inference_type: 6, input_inference_type: 3, output_inference_type: 0\n",
      "2022-03-14 15:09:30.099949: I tensorflow/compiler/mlir/lite/flatbuffer_export.cc:1963] Estimated count of arithmetic ops: 1.804 G  ops, equivalently 0.902 G  MACs\n",
      "\n"
     ]
    },
    {
     "name": "stdout",
     "output_type": "stream",
     "text": [
      "Estimated count of arithmetic ops: 1.804 G  ops, equivalently 0.902 G  MACs\n"
     ]
    }
   ],
   "source": [
    "model.export(export_dir='/home/acarlier/code/OrnithoScope/saved_models')"
   ]
  },
  {
   "cell_type": "markdown",
   "id": "b0a92699",
   "metadata": {},
   "source": [
    "# POST ENTRAINEMENT"
   ]
  },
  {
   "cell_type": "code",
   "execution_count": 52,
   "id": "b1617d64",
   "metadata": {},
   "outputs": [],
   "source": [
    "#@title Load the trained TFLite model and define some visualization functions\n",
    "\n",
    "import cv2\n",
    "\n",
    "from PIL import Image, ImageDraw\n",
    "\n",
    "model_path = '/home/acarlier/code/OrnithoScope/saved_models/model_efficientDet0.tflite'\n",
    "\n",
    "# Load the labels into a list\n",
    "classes = ['???'] * model.model_spec.config.num_classes\n",
    "label_map = model.model_spec.config.label_map\n",
    "for label_id, label_name in label_map.as_dict().items():\n",
    "  classes[label_id-1] = label_name\n",
    "\n",
    "# Define a list of colors for visualization\n",
    "COLORS = np.random.randint(0, 255, size=(len(classes), 3), dtype=np.uint8)\n",
    "\n",
    "def preprocess_image(image_path, input_size):\n",
    "  \"\"\"Preprocess the input image to feed to the TFLite model\"\"\"\n",
    "  img = tf.io.read_file(image_path)\n",
    "  img = tf.io.decode_image(img, channels=3)\n",
    "  img = tf.image.convert_image_dtype(img, tf.uint8)\n",
    "  original_image = img\n",
    "  resized_img = tf.image.resize(img, input_size)\n",
    "  resized_img = resized_img[tf.newaxis, :]\n",
    "  resized_img = tf.cast(resized_img, dtype=tf.uint8)\n",
    "  return resized_img, original_image\n",
    "\n",
    "\n",
    "def detect_objects(interpreter, image, threshold):\n",
    "  \"\"\"Returns a list of detection results, each a dictionary of object info.\"\"\"\n",
    "\n",
    "  signature_fn = interpreter.get_signature_runner()\n",
    "\n",
    "  # Feed the input image to the model\n",
    "  output = signature_fn(images=image)\n",
    "\n",
    "  # Get all outputs from the model\n",
    "  count = int(np.squeeze(output['output_0']))\n",
    "  scores = np.squeeze(output['output_1'])\n",
    "  classes = np.squeeze(output['output_2'])\n",
    "  boxes = np.squeeze(output['output_3'])\n",
    "\n",
    "  results = []\n",
    "  for i in range(count):\n",
    "    if scores[i] >= threshold:\n",
    "      result = {\n",
    "        'bounding_box': boxes[i],\n",
    "        'class_id': classes[i],\n",
    "        'score': scores[i]\n",
    "      }\n",
    "      results.append(result)\n",
    "  return results\n",
    "\n",
    "\n",
    "def run_odt_and_draw_results(image_path, interpreter, threshold=0.5):\n",
    "  \"\"\"Run object detection on the input image and draw the detection results\"\"\"\n",
    "  # Load the input shape required by the model\n",
    "  _, input_height, input_width, _ = interpreter.get_input_details()[0]['shape']\n",
    "\n",
    "  # Load the input image and preprocess it\n",
    "  preprocessed_image, original_image = preprocess_image(\n",
    "      image_path,\n",
    "      (input_height, input_width)\n",
    "    )\n",
    "\n",
    "  # Run object detection on the input image\n",
    "  results = detect_objects(interpreter, preprocessed_image, threshold=threshold)\n",
    "\n",
    "  # Plot the detection results on the input image\n",
    "  original_image_np = original_image.numpy().astype(np.uint8)\n",
    "  for obj in results:\n",
    "    # Convert the object bounding box from relative coordinates to absolute\n",
    "    # coordinates based on the original image resolution\n",
    "    ymin, xmin, ymax, xmax = obj['bounding_box']\n",
    "    xmin = int(xmin * original_image_np.shape[1])\n",
    "    xmax = int(xmax * original_image_np.shape[1])\n",
    "    ymin = int(ymin * original_image_np.shape[0])\n",
    "    ymax = int(ymax * original_image_np.shape[0])\n",
    "\n",
    "    # Find the class index of the current object\n",
    "    class_id = int(obj['class_id'])\n",
    "\n",
    "    # Draw the bounding box and label on the image\n",
    "    color = [int(c) for c in COLORS[class_id]]\n",
    "    cv2.rectangle(original_image_np, (xmin, ymin), (xmax, ymax), color, 2)\n",
    "    # Make adjustments to make the label visible for all objects\n",
    "    y = ymin - 15 if ymin - 15 > 15 else ymin + 15\n",
    "    label = \"{}: {:.0f}%\".format(classes[class_id], obj['score'] * 100)\n",
    "    cv2.putText(original_image_np, label, (xmin, y),\n",
    "        cv2.FONT_HERSHEY_SIMPLEX, 0.5, color, 2)\n",
    "\n",
    "  # Return the final image\n",
    "  original_uint8 = original_image_np.astype(np.uint8)\n",
    "  return original_uint8"
   ]
  },
  {
   "cell_type": "code",
   "execution_count": 53,
   "id": "2121c01e",
   "metadata": {},
   "outputs": [
    {
     "name": "stdout",
     "output_type": "stream",
     "text": [
      "20210301-090700_(18.0).jpg\n",
      "zsh:1: no matches found: /home/acarlier/code/test_model_dataset/20210301-090700_(18.0).jpg\n"
     ]
    }
   ],
   "source": [
    "INPUT_IMAGE_URL = \"/home/acarlier/code/test_model_dataset/20210301-090002_(13.0).jpg\" #@param {type:\"string\"}\n",
    "DETECTION_THRESHOLD = 0.3 #@param {type:\"number\"}\n",
    "\n",
    "TEMP_FILE = '/home/acarlier/code/test_model_dataset/20210301-090700_(18.0).jpg'\n",
    "FILE_NAME = TEMP_FILE.split(\"/\")[-1]\n",
    "print(FILE_NAME)\n",
    "!wget -q -O $TEMP_FILE $INPUT_IMAGE_URL\n",
    "im = Image.open(TEMP_FILE)\n",
    "im.thumbnail((512, 512), Image.ANTIALIAS)\n",
    "im.save(TEMP_FILE, 'PNG')\n",
    "\n",
    "# Load the TFLite model\n",
    "interpreter = tf.lite.Interpreter(model_path=model_path)\n",
    "interpreter.allocate_tensors()\n",
    "\n",
    "# Run inference and draw detection result on the local copy of the original file\n",
    "detection_result_image = run_odt_and_draw_results(\n",
    "    TEMP_FILE,\n",
    "    interpreter,\n",
    "    threshold=DETECTION_THRESHOLD\n",
    ")\n",
    "\n",
    "# Show the detection result\n",
    "#Image.fromarray(detection_result_image)\n",
    "result = Image.fromarray(detection_result_image)\n",
    "result.save(\"/home/acarlier/code/output_image/{}\".format(FILE_NAME), \"JPEG\")\n",
    "result.show()"
   ]
  },
  {
   "cell_type": "code",
   "execution_count": 54,
   "id": "d1e470ec",
   "metadata": {},
   "outputs": [
    {
     "name": "stdout",
     "output_type": "stream",
     "text": [
      "  split_value                file_path   label   x_min   y_min  empty_1  \\\n",
      "0    TRAINING  2021-01-05-15-58-14.jpg  MESCHA  0.5558  0.3581      NaN   \n",
      "1    TRAINING  2021-01-05-15-58-14.jpg  SITTOR  0.4613  0.5550      NaN   \n",
      "2    TRAINING  2021-01-05-15-58-16.jpg  MESCHA  0.4402  0.2056      NaN   \n",
      "3    TRAINING  2021-01-05-15-58-16.jpg  SITTOR  0.5870  0.4947      NaN   \n",
      "4    TRAINING  2021-01-05-15-58-21.jpg  MESCHA  0.5286  0.4823      NaN   \n",
      "\n",
      "   empty_2   x_max   y_max  empty_3  \n",
      "0      NaN  0.7055  0.5479      NaN  \n",
      "1      NaN  0.9990  1.0000      NaN  \n",
      "2      NaN  0.5508  0.3687      NaN  \n",
      "3      NaN  0.9899  0.9310      NaN  \n",
      "4      NaN  1.0000  0.9629      NaN  \n"
     ]
    }
   ],
   "source": [
    "input = pd.read_csv('/home/acarlier/code/OrnithoScope/data/input.csv', names = [\"split_value\", \"file_path\", \"label\",\n",
    "                      \"x_min\", \"y_min\", \"empty_1\", \"empty_2\",\n",
    "                      \"x_max\", \"y_max\", \"empty_3\"])\n",
    "input_test = input.head()\n",
    "input['file_path'] = input['file_path'].map(lambda x: x.split(\"/\")[-1])\n",
    "print(input.head())\n",
    "image_output_path = \"/home/acarlier/code/output_image/20210301-090700_(18.0).jpg\"\n",
    "image_output_path_file_name = image_output_path.split(\"/\")[-1]"
   ]
  },
  {
   "cell_type": "code",
   "execution_count": 70,
   "id": "bfe596b6",
   "metadata": {},
   "outputs": [
    {
     "name": "stdout",
     "output_type": "stream",
     "text": [
      "     split_value                   file_path   label   x_min   y_min  empty_1  \\\n",
      "2173        TEST  20210301-090700_(18.0).jpg  VEREUR  0.4161  0.3989      NaN   \n",
      "2174        TEST  20210301-090700_(18.0).jpg  MESCHA  0.6312  0.4947      NaN   \n",
      "\n",
      "      empty_2   x_max   y_max  empty_3  \n",
      "2173      NaN  0.5357  0.6508      NaN  \n",
      "2174      NaN  0.9638  0.8512      NaN  \n"
     ]
    }
   ],
   "source": [
    "input_specific_img = input[input['file_path'] == image_output_path_file_name]\n",
    "print(input_specific_img)\n",
    "\n",
    "x_min_output = input_specific_img['x_min'].to_list()\n",
    "y_min_output = input_specific_img['y_min'].to_list()\n",
    "x_max_output = input_specific_img['x_max'].to_list()\n",
    "y_max_output = input_specific_img['y_max'].to_list()"
   ]
  },
  {
   "cell_type": "code",
   "execution_count": 74,
   "id": "e540b659",
   "metadata": {},
   "outputs": [
    {
     "name": "stdout",
     "output_type": "stream",
     "text": [
      "512 290\n"
     ]
    }
   ],
   "source": [
    "with Image.open(image_output_path) as im:\n",
    "    w, h = im.size\n",
    "    print(w,h)\n",
    "    draw = ImageDraw.Draw(im)\n",
    "    for i in range(len(x_min_output)):\n",
    "        #draw.rectangle([(x_min_output*w, y_min_output*h),(x_max_output*w, y_max_output*h)])\n",
    "        draw.rectangle([(x_min_output[i]*w,y_min_output[i]*h),(x_max_output[i]*w,y_max_output[i]*h)],outline=\"white\")\n",
    "\n",
    "    # write to stdout\n",
    "    im.save(\"/home/acarlier/code/output_image/out_{}\".format(FILE_NAME), \"JPEG\")"
   ]
  }
 ],
 "metadata": {
  "kernelspec": {
   "display_name": "Python 3 (ipykernel)",
   "language": "python",
   "name": "python3"
  },
  "language_info": {
   "codemirror_mode": {
    "name": "ipython",
    "version": 3
   },
   "file_extension": ".py",
   "mimetype": "text/x-python",
   "name": "python",
   "nbconvert_exporter": "python",
   "pygments_lexer": "ipython3",
   "version": "3.8.10"
  }
 },
 "nbformat": 4,
 "nbformat_minor": 5
}

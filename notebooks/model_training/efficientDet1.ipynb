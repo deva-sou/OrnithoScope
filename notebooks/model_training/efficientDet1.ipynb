{
 "cells": [
  {
   "cell_type": "code",
   "execution_count": 1,
   "id": "57a6e8d9",
   "metadata": {
    "collapsed": false,
    "pycharm": {
     "name": "#%%\n"
    }
   },
   "outputs": [
    {
     "name": "stdout",
     "output_type": "stream",
     "text": [
      "<module 'tensorflow._api.v2.version' from '/home/acarlier/Desktop/tflite/lib/python3.8/site-packages/tensorflow/_api/v2/version/__init__.py'>\n",
      "GPU available?  True\n"
     ]
    },
    {
     "name": "stderr",
     "output_type": "stream",
     "text": [
      "2022-03-07 10:57:09.044645: I tensorflow/core/platform/cpu_feature_guard.cc:151] This TensorFlow binary is optimized with oneAPI Deep Neural Network Library (oneDNN) to use the following CPU instructions in performance-critical operations:  AVX2 FMA\n",
      "To enable them in other operations, rebuild TensorFlow with the appropriate compiler flags.\n",
      "2022-03-07 10:57:10.511559: I tensorflow/core/common_runtime/gpu/gpu_device.cc:1525] Created device /device:GPU:0 with 10081 MB memory:  -> device: 0, name: NVIDIA GeForce GTX 1080 Ti, pci bus id: 0000:03:00.0, compute capability: 6.1\n",
      "2022-03-07 10:57:10.512197: I tensorflow/core/common_runtime/gpu/gpu_device.cc:1525] Created device /device:GPU:1 with 10406 MB memory:  -> device: 1, name: NVIDIA GeForce GTX 1080 Ti, pci bus id: 0000:a1:00.0, compute capability: 6.1\n"
     ]
    }
   ],
   "source": [
    "import numpy as np\n",
    "import os\n",
    "import tensorflow as tf\n",
    "print(tf.version)\n",
    "from tflite_model_maker.config import ExportFormat\n",
    "from tflite_model_maker import model_spec\n",
    "from tflite_model_maker import object_detector\n",
    "\n",
    "assert tf.__version__.startswith('2')\n",
    "tf.get_logger().setLevel('ERROR')\n",
    "from absl import logging\n",
    "logging.set_verbosity(logging.ERROR)\n",
    "print(\"GPU available? \",tf.test.is_gpu_available())"
   ]
  },
  {
   "cell_type": "code",
   "execution_count": null,
   "id": "8c577cd2",
   "metadata": {},
   "outputs": [],
   "source": []
  },
  {
   "cell_type": "code",
   "execution_count": 5,
   "id": "69b8efba",
   "metadata": {
    "collapsed": false,
    "pycharm": {
     "name": "#%%\n"
    }
   },
   "outputs": [],
   "source": [
    "spec = model_spec.get('efficientdet_lite1')"
   ]
  },
  {
   "cell_type": "code",
   "execution_count": 6,
   "id": "883e8d6a",
   "metadata": {},
   "outputs": [
    {
     "ename": "KeyboardInterrupt",
     "evalue": "",
     "output_type": "error",
     "traceback": [
      "\u001b[0;31m---------------------------------------------------------------------------\u001b[0m",
      "\u001b[0;31mKeyboardInterrupt\u001b[0m                         Traceback (most recent call last)",
      "\u001b[1;32m/home/acarlier/code/OrnithoScope/notebooks/model_training/efficientDet1.ipynb Cell 4'\u001b[0m in \u001b[0;36m<cell line: 1>\u001b[0;34m()\u001b[0m\n\u001b[0;32m----> <a href='vscode-notebook-cell:/home/acarlier/code/OrnithoScope/notebooks/model_training/efficientDet1.ipynb#ch0000002?line=0'>1</a>\u001b[0m train_data, validation_data, test_data \u001b[39m=\u001b[39m object_detector\u001b[39m.\u001b[39;49mDataLoader\u001b[39m.\u001b[39;49mfrom_csv(\u001b[39m'\u001b[39;49m\u001b[39m/home/acarlier/code/OrnithoScope/data/input.csv\u001b[39;49m\u001b[39m'\u001b[39;49m)\n",
      "File \u001b[0;32m~/Desktop/tflite/lib/python3.8/site-packages/tensorflow_examples/lite/model_maker/core/data_util/object_detector_dataloader.py:292\u001b[0m, in \u001b[0;36mDataLoader.from_csv\u001b[0;34m(cls, filename, images_dir, delimiter, quotechar, num_shards, max_num_images, cache_dir, cache_prefix_filename)\u001b[0m\n\u001b[1;32m    <a href='file:///~/Desktop/tflite/lib/python3.8/site-packages/tensorflow_examples/lite/model_maker/core/data_util/object_detector_dataloader.py?line=289'>290</a>\u001b[0m   \u001b[39mfor\u001b[39;00m cache_files, csv_lines \u001b[39min\u001b[39;00m \u001b[39mzip\u001b[39m(cache_files_list, lines_list):\n\u001b[1;32m    <a href='file:///~/Desktop/tflite/lib/python3.8/site-packages/tensorflow_examples/lite/model_maker/core/data_util/object_detector_dataloader.py?line=290'>291</a>\u001b[0m     \u001b[39mif\u001b[39;00m csv_lines:\n\u001b[0;32m--> <a href='file:///~/Desktop/tflite/lib/python3.8/site-packages/tensorflow_examples/lite/model_maker/core/data_util/object_detector_dataloader.py?line=291'>292</a>\u001b[0m       cache_writer\u001b[39m.\u001b[39;49mwrite_files(cache_files, csv_lines\u001b[39m=\u001b[39;49mcsv_lines)\n\u001b[1;32m    <a href='file:///~/Desktop/tflite/lib/python3.8/site-packages/tensorflow_examples/lite/model_maker/core/data_util/object_detector_dataloader.py?line=293'>294</a>\u001b[0m \u001b[39m# Loads training & validation & test data from cache.\u001b[39;00m\n\u001b[1;32m    <a href='file:///~/Desktop/tflite/lib/python3.8/site-packages/tensorflow_examples/lite/model_maker/core/data_util/object_detector_dataloader.py?line=294'>295</a>\u001b[0m data \u001b[39m=\u001b[39m []\n",
      "File \u001b[0;32m~/Desktop/tflite/lib/python3.8/site-packages/tensorflow_examples/lite/model_maker/core/data_util/object_detector_dataloader_util.py:252\u001b[0m, in \u001b[0;36mCacheFilesWriter.write_files\u001b[0;34m(self, cache_files, *args, **kwargs)\u001b[0m\n\u001b[1;32m    <a href='file:///~/Desktop/tflite/lib/python3.8/site-packages/tensorflow_examples/lite/model_maker/core/data_util/object_detector_dataloader_util.py?line=249'>250</a>\u001b[0m \u001b[39mif\u001b[39;00m idx \u001b[39m%\u001b[39m \u001b[39m100\u001b[39m \u001b[39m==\u001b[39m \u001b[39m0\u001b[39m:\n\u001b[1;32m    <a href='file:///~/Desktop/tflite/lib/python3.8/site-packages/tensorflow_examples/lite/model_maker/core/data_util/object_detector_dataloader_util.py?line=250'>251</a>\u001b[0m   tf\u001b[39m.\u001b[39mcompat\u001b[39m.\u001b[39mv1\u001b[39m.\u001b[39mlogging\u001b[39m.\u001b[39minfo(\u001b[39m'\u001b[39m\u001b[39mOn image \u001b[39m\u001b[39m%d\u001b[39;00m\u001b[39m'\u001b[39m \u001b[39m%\u001b[39m idx)\n\u001b[0;32m--> <a href='file:///~/Desktop/tflite/lib/python3.8/site-packages/tensorflow_examples/lite/model_maker/core/data_util/object_detector_dataloader_util.py?line=251'>252</a>\u001b[0m tf_example \u001b[39m=\u001b[39m create_pascal_tfrecord\u001b[39m.\u001b[39;49mdict_to_tf_example(\n\u001b[1;32m    <a href='file:///~/Desktop/tflite/lib/python3.8/site-packages/tensorflow_examples/lite/model_maker/core/data_util/object_detector_dataloader_util.py?line=252'>253</a>\u001b[0m     xml_dict,\n\u001b[1;32m    <a href='file:///~/Desktop/tflite/lib/python3.8/site-packages/tensorflow_examples/lite/model_maker/core/data_util/object_detector_dataloader_util.py?line=253'>254</a>\u001b[0m     \u001b[39mself\u001b[39;49m\u001b[39m.\u001b[39;49mimages_dir,\n\u001b[1;32m    <a href='file:///~/Desktop/tflite/lib/python3.8/site-packages/tensorflow_examples/lite/model_maker/core/data_util/object_detector_dataloader_util.py?line=254'>255</a>\u001b[0m     \u001b[39mself\u001b[39;49m\u001b[39m.\u001b[39;49mlabel_name2id_dict,\n\u001b[1;32m    <a href='file:///~/Desktop/tflite/lib/python3.8/site-packages/tensorflow_examples/lite/model_maker/core/data_util/object_detector_dataloader_util.py?line=255'>256</a>\u001b[0m     \u001b[39mself\u001b[39;49m\u001b[39m.\u001b[39;49munique_id,\n\u001b[1;32m    <a href='file:///~/Desktop/tflite/lib/python3.8/site-packages/tensorflow_examples/lite/model_maker/core/data_util/object_detector_dataloader_util.py?line=256'>257</a>\u001b[0m     ignore_difficult_instances\u001b[39m=\u001b[39;49m\u001b[39mself\u001b[39;49m\u001b[39m.\u001b[39;49mignore_difficult_instances,\n\u001b[1;32m    <a href='file:///~/Desktop/tflite/lib/python3.8/site-packages/tensorflow_examples/lite/model_maker/core/data_util/object_detector_dataloader_util.py?line=257'>258</a>\u001b[0m     ann_json_dict\u001b[39m=\u001b[39;49mann_json_dict)\n\u001b[1;32m    <a href='file:///~/Desktop/tflite/lib/python3.8/site-packages/tensorflow_examples/lite/model_maker/core/data_util/object_detector_dataloader_util.py?line=258'>259</a>\u001b[0m writers[idx \u001b[39m%\u001b[39m \u001b[39mself\u001b[39m\u001b[39m.\u001b[39mnum_shards]\u001b[39m.\u001b[39mwrite(tf_example\u001b[39m.\u001b[39mSerializeToString())\n\u001b[1;32m    <a href='file:///~/Desktop/tflite/lib/python3.8/site-packages/tensorflow_examples/lite/model_maker/core/data_util/object_detector_dataloader_util.py?line=259'>260</a>\u001b[0m size \u001b[39m=\u001b[39m idx \u001b[39m+\u001b[39m \u001b[39m1\u001b[39m\n",
      "File \u001b[0;32m~/Desktop/tflite/lib/python3.8/site-packages/tensorflow_examples/lite/model_maker/third_party/efficientdet/dataset/create_pascal_tfrecord.py:132\u001b[0m, in \u001b[0;36mdict_to_tf_example\u001b[0;34m(data, images_dir, label_map_dict, unique_id, ignore_difficult_instances, ann_json_dict)\u001b[0m\n\u001b[1;32m    <a href='file:///~/Desktop/tflite/lib/python3.8/site-packages/tensorflow_examples/lite/model_maker/third_party/efficientdet/dataset/create_pascal_tfrecord.py?line=129'>130</a>\u001b[0m   encoded_jpg \u001b[39m=\u001b[39m fid\u001b[39m.\u001b[39mread()\n\u001b[1;32m    <a href='file:///~/Desktop/tflite/lib/python3.8/site-packages/tensorflow_examples/lite/model_maker/third_party/efficientdet/dataset/create_pascal_tfrecord.py?line=130'>131</a>\u001b[0m encoded_jpg_io \u001b[39m=\u001b[39m io\u001b[39m.\u001b[39mBytesIO(encoded_jpg)\n\u001b[0;32m--> <a href='file:///~/Desktop/tflite/lib/python3.8/site-packages/tensorflow_examples/lite/model_maker/third_party/efficientdet/dataset/create_pascal_tfrecord.py?line=131'>132</a>\u001b[0m image \u001b[39m=\u001b[39m PIL\u001b[39m.\u001b[39;49mImage\u001b[39m.\u001b[39;49mopen(encoded_jpg_io)\n\u001b[1;32m    <a href='file:///~/Desktop/tflite/lib/python3.8/site-packages/tensorflow_examples/lite/model_maker/third_party/efficientdet/dataset/create_pascal_tfrecord.py?line=132'>133</a>\u001b[0m \u001b[39mif\u001b[39;00m image\u001b[39m.\u001b[39mformat \u001b[39m!=\u001b[39m \u001b[39m'\u001b[39m\u001b[39mJPEG\u001b[39m\u001b[39m'\u001b[39m:\n\u001b[1;32m    <a href='file:///~/Desktop/tflite/lib/python3.8/site-packages/tensorflow_examples/lite/model_maker/third_party/efficientdet/dataset/create_pascal_tfrecord.py?line=133'>134</a>\u001b[0m   \u001b[39mraise\u001b[39;00m \u001b[39mValueError\u001b[39;00m(\u001b[39m'\u001b[39m\u001b[39mImage format not JPEG\u001b[39m\u001b[39m'\u001b[39m)\n",
      "File \u001b[0;32m~/Desktop/tflite/lib/python3.8/site-packages/PIL/Image.py:2994\u001b[0m, in \u001b[0;36mopen\u001b[0;34m(fp, mode, formats)\u001b[0m\n\u001b[1;32m   <a href='file:///~/Desktop/tflite/lib/python3.8/site-packages/PIL/Image.py?line=2990'>2991</a>\u001b[0m             \u001b[39mraise\u001b[39;00m\n\u001b[1;32m   <a href='file:///~/Desktop/tflite/lib/python3.8/site-packages/PIL/Image.py?line=2991'>2992</a>\u001b[0m     \u001b[39mreturn\u001b[39;00m \u001b[39mNone\u001b[39;00m\n\u001b[0;32m-> <a href='file:///~/Desktop/tflite/lib/python3.8/site-packages/PIL/Image.py?line=2993'>2994</a>\u001b[0m im \u001b[39m=\u001b[39m _open_core(fp, filename, prefix, formats)\n\u001b[1;32m   <a href='file:///~/Desktop/tflite/lib/python3.8/site-packages/PIL/Image.py?line=2995'>2996</a>\u001b[0m \u001b[39mif\u001b[39;00m im \u001b[39mis\u001b[39;00m \u001b[39mNone\u001b[39;00m:\n\u001b[1;32m   <a href='file:///~/Desktop/tflite/lib/python3.8/site-packages/PIL/Image.py?line=2996'>2997</a>\u001b[0m     \u001b[39mif\u001b[39;00m init():\n",
      "File \u001b[0;32m~/Desktop/tflite/lib/python3.8/site-packages/PIL/Image.py:2980\u001b[0m, in \u001b[0;36mopen.<locals>._open_core\u001b[0;34m(fp, filename, prefix, formats)\u001b[0m\n\u001b[1;32m   <a href='file:///~/Desktop/tflite/lib/python3.8/site-packages/PIL/Image.py?line=2977'>2978</a>\u001b[0m \u001b[39melif\u001b[39;00m result:\n\u001b[1;32m   <a href='file:///~/Desktop/tflite/lib/python3.8/site-packages/PIL/Image.py?line=2978'>2979</a>\u001b[0m     fp\u001b[39m.\u001b[39mseek(\u001b[39m0\u001b[39m)\n\u001b[0;32m-> <a href='file:///~/Desktop/tflite/lib/python3.8/site-packages/PIL/Image.py?line=2979'>2980</a>\u001b[0m     im \u001b[39m=\u001b[39m factory(fp, filename)\n\u001b[1;32m   <a href='file:///~/Desktop/tflite/lib/python3.8/site-packages/PIL/Image.py?line=2980'>2981</a>\u001b[0m     _decompression_bomb_check(im\u001b[39m.\u001b[39msize)\n\u001b[1;32m   <a href='file:///~/Desktop/tflite/lib/python3.8/site-packages/PIL/Image.py?line=2981'>2982</a>\u001b[0m     \u001b[39mreturn\u001b[39;00m im\n",
      "File \u001b[0;32m~/Desktop/tflite/lib/python3.8/site-packages/PIL/JpegImagePlugin.py:799\u001b[0m, in \u001b[0;36mjpeg_factory\u001b[0;34m(fp, filename)\u001b[0m\n\u001b[1;32m    <a href='file:///~/Desktop/tflite/lib/python3.8/site-packages/PIL/JpegImagePlugin.py?line=797'>798</a>\u001b[0m \u001b[39mdef\u001b[39;00m \u001b[39mjpeg_factory\u001b[39m(fp\u001b[39m=\u001b[39m\u001b[39mNone\u001b[39;00m, filename\u001b[39m=\u001b[39m\u001b[39mNone\u001b[39;00m):\n\u001b[0;32m--> <a href='file:///~/Desktop/tflite/lib/python3.8/site-packages/PIL/JpegImagePlugin.py?line=798'>799</a>\u001b[0m     im \u001b[39m=\u001b[39m JpegImageFile(fp, filename)\n\u001b[1;32m    <a href='file:///~/Desktop/tflite/lib/python3.8/site-packages/PIL/JpegImagePlugin.py?line=799'>800</a>\u001b[0m     \u001b[39mtry\u001b[39;00m:\n\u001b[1;32m    <a href='file:///~/Desktop/tflite/lib/python3.8/site-packages/PIL/JpegImagePlugin.py?line=800'>801</a>\u001b[0m         mpheader \u001b[39m=\u001b[39m im\u001b[39m.\u001b[39m_getmp()\n",
      "File \u001b[0;32m~/Desktop/tflite/lib/python3.8/site-packages/PIL/ImageFile.py:112\u001b[0m, in \u001b[0;36mImageFile.__init__\u001b[0;34m(self, fp, filename)\u001b[0m\n\u001b[1;32m    <a href='file:///~/Desktop/tflite/lib/python3.8/site-packages/PIL/ImageFile.py?line=109'>110</a>\u001b[0m \u001b[39mtry\u001b[39;00m:\n\u001b[1;32m    <a href='file:///~/Desktop/tflite/lib/python3.8/site-packages/PIL/ImageFile.py?line=110'>111</a>\u001b[0m     \u001b[39mtry\u001b[39;00m:\n\u001b[0;32m--> <a href='file:///~/Desktop/tflite/lib/python3.8/site-packages/PIL/ImageFile.py?line=111'>112</a>\u001b[0m         \u001b[39mself\u001b[39;49m\u001b[39m.\u001b[39;49m_open()\n\u001b[1;32m    <a href='file:///~/Desktop/tflite/lib/python3.8/site-packages/PIL/ImageFile.py?line=112'>113</a>\u001b[0m     \u001b[39mexcept\u001b[39;00m (\n\u001b[1;32m    <a href='file:///~/Desktop/tflite/lib/python3.8/site-packages/PIL/ImageFile.py?line=113'>114</a>\u001b[0m         \u001b[39mIndexError\u001b[39;00m,  \u001b[39m# end of data\u001b[39;00m\n\u001b[1;32m    <a href='file:///~/Desktop/tflite/lib/python3.8/site-packages/PIL/ImageFile.py?line=114'>115</a>\u001b[0m         \u001b[39mTypeError\u001b[39;00m,  \u001b[39m# end of data (ord)\u001b[39;00m\n\u001b[0;32m   (...)\u001b[0m\n\u001b[1;32m    <a href='file:///~/Desktop/tflite/lib/python3.8/site-packages/PIL/ImageFile.py?line=117'>118</a>\u001b[0m         struct\u001b[39m.\u001b[39merror,\n\u001b[1;32m    <a href='file:///~/Desktop/tflite/lib/python3.8/site-packages/PIL/ImageFile.py?line=118'>119</a>\u001b[0m     ) \u001b[39mas\u001b[39;00m v:\n\u001b[1;32m    <a href='file:///~/Desktop/tflite/lib/python3.8/site-packages/PIL/ImageFile.py?line=119'>120</a>\u001b[0m         \u001b[39mraise\u001b[39;00m \u001b[39mSyntaxError\u001b[39;00m(v) \u001b[39mfrom\u001b[39;00m \u001b[39mv\u001b[39;00m\n",
      "File \u001b[0;32m~/Desktop/tflite/lib/python3.8/site-packages/PIL/JpegImagePlugin.py:379\u001b[0m, in \u001b[0;36mJpegImageFile._open\u001b[0;34m(self)\u001b[0m\n\u001b[1;32m    <a href='file:///~/Desktop/tflite/lib/python3.8/site-packages/PIL/JpegImagePlugin.py?line=376'>377</a>\u001b[0m name, description, handler \u001b[39m=\u001b[39m MARKER[i]\n\u001b[1;32m    <a href='file:///~/Desktop/tflite/lib/python3.8/site-packages/PIL/JpegImagePlugin.py?line=377'>378</a>\u001b[0m \u001b[39mif\u001b[39;00m handler \u001b[39mis\u001b[39;00m \u001b[39mnot\u001b[39;00m \u001b[39mNone\u001b[39;00m:\n\u001b[0;32m--> <a href='file:///~/Desktop/tflite/lib/python3.8/site-packages/PIL/JpegImagePlugin.py?line=378'>379</a>\u001b[0m     handler(\u001b[39mself\u001b[39;49m, i)\n\u001b[1;32m    <a href='file:///~/Desktop/tflite/lib/python3.8/site-packages/PIL/JpegImagePlugin.py?line=379'>380</a>\u001b[0m \u001b[39mif\u001b[39;00m i \u001b[39m==\u001b[39m \u001b[39m0xFFDA\u001b[39m:  \u001b[39m# start of scan\u001b[39;00m\n\u001b[1;32m    <a href='file:///~/Desktop/tflite/lib/python3.8/site-packages/PIL/JpegImagePlugin.py?line=380'>381</a>\u001b[0m     rawmode \u001b[39m=\u001b[39m \u001b[39mself\u001b[39m\u001b[39m.\u001b[39mmode\n",
      "File \u001b[0;32m~/Desktop/tflite/lib/python3.8/site-packages/PIL/JpegImagePlugin.py:67\u001b[0m, in \u001b[0;36mAPP\u001b[0;34m(self, marker)\u001b[0m\n\u001b[1;32m     <a href='file:///~/Desktop/tflite/lib/python3.8/site-packages/PIL/JpegImagePlugin.py?line=63'>64</a>\u001b[0m n \u001b[39m=\u001b[39m i16(\u001b[39mself\u001b[39m\u001b[39m.\u001b[39mfp\u001b[39m.\u001b[39mread(\u001b[39m2\u001b[39m)) \u001b[39m-\u001b[39m \u001b[39m2\u001b[39m\n\u001b[1;32m     <a href='file:///~/Desktop/tflite/lib/python3.8/site-packages/PIL/JpegImagePlugin.py?line=64'>65</a>\u001b[0m s \u001b[39m=\u001b[39m ImageFile\u001b[39m.\u001b[39m_safe_read(\u001b[39mself\u001b[39m\u001b[39m.\u001b[39mfp, n)\n\u001b[0;32m---> <a href='file:///~/Desktop/tflite/lib/python3.8/site-packages/PIL/JpegImagePlugin.py?line=66'>67</a>\u001b[0m app \u001b[39m=\u001b[39m \u001b[39m\"\u001b[39;49m\u001b[39mAPP\u001b[39;49m\u001b[39m%d\u001b[39;49;00m\u001b[39m\"\u001b[39;49m \u001b[39m%\u001b[39;49m (marker \u001b[39m&\u001b[39;49m \u001b[39m15\u001b[39;49m)\n\u001b[1;32m     <a href='file:///~/Desktop/tflite/lib/python3.8/site-packages/PIL/JpegImagePlugin.py?line=68'>69</a>\u001b[0m \u001b[39mself\u001b[39m\u001b[39m.\u001b[39mapp[app] \u001b[39m=\u001b[39m s  \u001b[39m# compatibility\u001b[39;00m\n\u001b[1;32m     <a href='file:///~/Desktop/tflite/lib/python3.8/site-packages/PIL/JpegImagePlugin.py?line=69'>70</a>\u001b[0m \u001b[39mself\u001b[39m\u001b[39m.\u001b[39mapplist\u001b[39m.\u001b[39mappend((app, s))\n",
      "\u001b[0;31mKeyboardInterrupt\u001b[0m: "
     ]
    }
   ],
   "source": [
    "train_data, validation_data, test_data = object_detector.DataLoader.from_csv('/home/acarlier/code/OrnithoScope/data/input.csv')"
   ]
  },
  {
   "cell_type": "code",
   "execution_count": null,
   "id": "2642773e",
   "metadata": {},
   "outputs": [
    {
     "name": "stdout",
     "output_type": "stream",
     "text": [
      "Epoch 1/50\n"
     ]
    },
    {
     "name": "stderr",
     "output_type": "stream",
     "text": [
      "2022-03-07 11:00:34.741062: I tensorflow/stream_executor/cuda/cuda_dnn.cc:368] Loaded cuDNN version 8302\n"
     ]
    },
    {
     "name": "stdout",
     "output_type": "stream",
     "text": [
      "1052/1052 [==============================] - 337s 275ms/step - det_loss: 0.7230 - cls_loss: 0.5404 - box_loss: 0.0037 - reg_l2_loss: 0.0738 - loss: 0.7968 - learning_rate: 0.0090 - gradient_norm: 3.1209 - val_det_loss: 0.6099 - val_cls_loss: 0.4801 - val_box_loss: 0.0026 - val_reg_l2_loss: 0.0745 - val_loss: 0.6844\n",
      "Epoch 2/50\n",
      "1052/1052 [==============================] - 285s 271ms/step - det_loss: 0.5008 - cls_loss: 0.3751 - box_loss: 0.0025 - reg_l2_loss: 0.0751 - loss: 0.5759 - learning_rate: 0.0100 - gradient_norm: 2.5884 - val_det_loss: 0.5746 - val_cls_loss: 0.4553 - val_box_loss: 0.0024 - val_reg_l2_loss: 0.0755 - val_loss: 0.6501\n",
      "Epoch 3/50\n",
      "1052/1052 [==============================] - 285s 271ms/step - det_loss: 0.4599 - cls_loss: 0.3454 - box_loss: 0.0023 - reg_l2_loss: 0.0759 - loss: 0.5357 - learning_rate: 0.0099 - gradient_norm: 2.3995 - val_det_loss: 0.5621 - val_cls_loss: 0.4549 - val_box_loss: 0.0021 - val_reg_l2_loss: 0.0762 - val_loss: 0.6384\n",
      "Epoch 4/50\n",
      "1052/1052 [==============================] - 283s 269ms/step - det_loss: 0.4353 - cls_loss: 0.3275 - box_loss: 0.0022 - reg_l2_loss: 0.0766 - loss: 0.5119 - learning_rate: 0.0099 - gradient_norm: 2.3663 - val_det_loss: 0.7032 - val_cls_loss: 0.5179 - val_box_loss: 0.0037 - val_reg_l2_loss: 0.0769 - val_loss: 0.7801\n",
      "Epoch 5/50\n",
      "1052/1052 [==============================] - 310s 295ms/step - det_loss: 0.4157 - cls_loss: 0.3146 - box_loss: 0.0020 - reg_l2_loss: 0.0772 - loss: 0.4929 - learning_rate: 0.0098 - gradient_norm: 2.2480 - val_det_loss: 0.5541 - val_cls_loss: 0.4278 - val_box_loss: 0.0025 - val_reg_l2_loss: 0.0775 - val_loss: 0.6316\n",
      "Epoch 6/50\n",
      "1052/1052 [==============================] - 284s 270ms/step - det_loss: 0.3940 - cls_loss: 0.2991 - box_loss: 0.0019 - reg_l2_loss: 0.0777 - loss: 0.4717 - learning_rate: 0.0097 - gradient_norm: 2.1510 - val_det_loss: 0.5052 - val_cls_loss: 0.3876 - val_box_loss: 0.0024 - val_reg_l2_loss: 0.0779 - val_loss: 0.5832\n",
      "Epoch 7/50\n",
      "1052/1052 [==============================] - 279s 265ms/step - det_loss: 0.3922 - cls_loss: 0.2964 - box_loss: 0.0019 - reg_l2_loss: 0.0782 - loss: 0.4704 - learning_rate: 0.0096 - gradient_norm: 2.2037 - val_det_loss: 0.6293 - val_cls_loss: 0.5402 - val_box_loss: 0.0018 - val_reg_l2_loss: 0.0784 - val_loss: 0.7077\n",
      "Epoch 8/50\n",
      "1052/1052 [==============================] - 274s 261ms/step - det_loss: 0.3757 - cls_loss: 0.2865 - box_loss: 0.0018 - reg_l2_loss: 0.0786 - loss: 0.4544 - learning_rate: 0.0094 - gradient_norm: 2.1281 - val_det_loss: 0.5276 - val_cls_loss: 0.4440 - val_box_loss: 0.0017 - val_reg_l2_loss: 0.0788 - val_loss: 0.6064\n",
      "Epoch 9/50\n",
      "1052/1052 [==============================] - 270s 257ms/step - det_loss: 0.3642 - cls_loss: 0.2757 - box_loss: 0.0018 - reg_l2_loss: 0.0790 - loss: 0.4433 - learning_rate: 0.0093 - gradient_norm: 2.1536 - val_det_loss: 0.4556 - val_cls_loss: 0.3674 - val_box_loss: 0.0018 - val_reg_l2_loss: 0.0792 - val_loss: 0.5348\n",
      "Epoch 10/50\n",
      "1052/1052 [==============================] - 292s 278ms/step - det_loss: 0.3479 - cls_loss: 0.2618 - box_loss: 0.0017 - reg_l2_loss: 0.0795 - loss: 0.4274 - learning_rate: 0.0091 - gradient_norm: 2.1982 - val_det_loss: 0.4640 - val_cls_loss: 0.4043 - val_box_loss: 0.0012 - val_reg_l2_loss: 0.0796 - val_loss: 0.5436\n",
      "Epoch 11/50\n",
      "1052/1052 [==============================] - 269s 256ms/step - det_loss: 0.3442 - cls_loss: 0.2596 - box_loss: 0.0017 - reg_l2_loss: 0.0799 - loss: 0.4241 - learning_rate: 0.0089 - gradient_norm: 2.2358 - val_det_loss: 0.4530 - val_cls_loss: 0.3599 - val_box_loss: 0.0019 - val_reg_l2_loss: 0.0801 - val_loss: 0.5331\n",
      "Epoch 12/50\n",
      "1052/1052 [==============================] - 268s 255ms/step - det_loss: 0.3327 - cls_loss: 0.2505 - box_loss: 0.0016 - reg_l2_loss: 0.0803 - loss: 0.4130 - learning_rate: 0.0087 - gradient_norm: 2.1801 - val_det_loss: 0.4745 - val_cls_loss: 0.4025 - val_box_loss: 0.0014 - val_reg_l2_loss: 0.0804 - val_loss: 0.5549\n",
      "Epoch 13/50\n",
      "1052/1052 [==============================] - 271s 258ms/step - det_loss: 0.3286 - cls_loss: 0.2466 - box_loss: 0.0016 - reg_l2_loss: 0.0806 - loss: 0.4093 - learning_rate: 0.0085 - gradient_norm: 2.2635 - val_det_loss: 0.4188 - val_cls_loss: 0.3383 - val_box_loss: 0.0016 - val_reg_l2_loss: 0.0808 - val_loss: 0.4996\n",
      "Epoch 14/50\n",
      "1052/1052 [==============================] - 270s 257ms/step - det_loss: 0.3186 - cls_loss: 0.2381 - box_loss: 0.0016 - reg_l2_loss: 0.0810 - loss: 0.3996 - learning_rate: 0.0082 - gradient_norm: 2.1965 - val_det_loss: 0.5145 - val_cls_loss: 0.4543 - val_box_loss: 0.0012 - val_reg_l2_loss: 0.0811 - val_loss: 0.5956\n",
      "Epoch 15/50\n",
      "1052/1052 [==============================] - 294s 279ms/step - det_loss: 0.3073 - cls_loss: 0.2307 - box_loss: 0.0015 - reg_l2_loss: 0.0812 - loss: 0.3885 - learning_rate: 0.0080 - gradient_norm: 2.1557 - val_det_loss: 0.5395 - val_cls_loss: 0.4603 - val_box_loss: 0.0016 - val_reg_l2_loss: 0.0814 - val_loss: 0.6208\n",
      "Epoch 16/50\n",
      "1052/1052 [==============================] - 269s 255ms/step - det_loss: 0.3023 - cls_loss: 0.2276 - box_loss: 0.0015 - reg_l2_loss: 0.0815 - loss: 0.3838 - learning_rate: 0.0077 - gradient_norm: 2.2092 - val_det_loss: 0.5642 - val_cls_loss: 0.4973 - val_box_loss: 0.0013 - val_reg_l2_loss: 0.0816 - val_loss: 0.6458\n",
      "Epoch 17/50\n",
      "1052/1052 [==============================] - 269s 256ms/step - det_loss: 0.2955 - cls_loss: 0.2213 - box_loss: 0.0015 - reg_l2_loss: 0.0817 - loss: 0.3773 - learning_rate: 0.0075 - gradient_norm: 2.2058 - val_det_loss: 0.4922 - val_cls_loss: 0.4141 - val_box_loss: 0.0016 - val_reg_l2_loss: 0.0818 - val_loss: 0.5740\n",
      "Epoch 18/50\n",
      "1052/1052 [==============================] - 269s 256ms/step - det_loss: 0.2875 - cls_loss: 0.2163 - box_loss: 0.0014 - reg_l2_loss: 0.0819 - loss: 0.3694 - learning_rate: 0.0072 - gradient_norm: 2.1298 - val_det_loss: 0.4269 - val_cls_loss: 0.3382 - val_box_loss: 0.0018 - val_reg_l2_loss: 0.0819 - val_loss: 0.5089\n",
      "Epoch 19/50\n",
      "1052/1052 [==============================] - 267s 254ms/step - det_loss: 0.2869 - cls_loss: 0.2158 - box_loss: 0.0014 - reg_l2_loss: 0.0820 - loss: 0.3690 - learning_rate: 0.0069 - gradient_norm: 2.2365 - val_det_loss: 0.4206 - val_cls_loss: 0.3575 - val_box_loss: 0.0013 - val_reg_l2_loss: 0.0821 - val_loss: 0.5028\n",
      "Epoch 20/50\n",
      "1052/1052 [==============================] - 294s 279ms/step - det_loss: 0.2824 - cls_loss: 0.2118 - box_loss: 0.0014 - reg_l2_loss: 0.0822 - loss: 0.3646 - learning_rate: 0.0066 - gradient_norm: 2.1836 - val_det_loss: 0.5694 - val_cls_loss: 0.4645 - val_box_loss: 0.0021 - val_reg_l2_loss: 0.0822 - val_loss: 0.6516\n",
      "Epoch 21/50\n",
      "1052/1052 [==============================] - 279s 265ms/step - det_loss: 0.2766 - cls_loss: 0.2082 - box_loss: 0.0014 - reg_l2_loss: 0.0823 - loss: 0.3589 - learning_rate: 0.0063 - gradient_norm: 2.2206 - val_det_loss: 0.4876 - val_cls_loss: 0.4070 - val_box_loss: 0.0016 - val_reg_l2_loss: 0.0823 - val_loss: 0.5699\n",
      "Epoch 22/50\n",
      "1052/1052 [==============================] - 271s 258ms/step - det_loss: 0.2697 - cls_loss: 0.2012 - box_loss: 0.0014 - reg_l2_loss: 0.0824 - loss: 0.3520 - learning_rate: 0.0060 - gradient_norm: 2.2183 - val_det_loss: 0.5124 - val_cls_loss: 0.4392 - val_box_loss: 0.0015 - val_reg_l2_loss: 0.0824 - val_loss: 0.5948\n",
      "Epoch 23/50\n",
      "1052/1052 [==============================] - 272s 259ms/step - det_loss: 0.2629 - cls_loss: 0.1969 - box_loss: 0.0013 - reg_l2_loss: 0.0825 - loss: 0.3454 - learning_rate: 0.0056 - gradient_norm: 2.2112 - val_det_loss: 0.3667 - val_cls_loss: 0.2908 - val_box_loss: 0.0015 - val_reg_l2_loss: 0.0825 - val_loss: 0.4492\n",
      "Epoch 24/50\n",
      "1052/1052 [==============================] - 272s 259ms/step - det_loss: 0.2556 - cls_loss: 0.1913 - box_loss: 0.0013 - reg_l2_loss: 0.0825 - loss: 0.3381 - learning_rate: 0.0053 - gradient_norm: 2.1686 - val_det_loss: 0.2995 - val_cls_loss: 0.2605 - val_box_loss: 7.8002e-04 - val_reg_l2_loss: 0.0825 - val_loss: 0.3820\n",
      "Epoch 25/50\n",
      "1052/1052 [==============================] - 294s 280ms/step - det_loss: 0.2543 - cls_loss: 0.1908 - box_loss: 0.0013 - reg_l2_loss: 0.0825 - loss: 0.3368 - learning_rate: 0.0050 - gradient_norm: 2.1827 - val_det_loss: 0.3579 - val_cls_loss: 0.3055 - val_box_loss: 0.0010 - val_reg_l2_loss: 0.0825 - val_loss: 0.4403\n",
      "Epoch 26/50\n",
      "1052/1052 [==============================] - 272s 258ms/step - det_loss: 0.2490 - cls_loss: 0.1872 - box_loss: 0.0012 - reg_l2_loss: 0.0825 - loss: 0.3315 - learning_rate: 0.0047 - gradient_norm: 2.2221 - val_det_loss: 0.4615 - val_cls_loss: 0.4043 - val_box_loss: 0.0011 - val_reg_l2_loss: 0.0825 - val_loss: 0.5439\n",
      "Epoch 27/50\n",
      "1052/1052 [==============================] - 270s 256ms/step - det_loss: 0.2419 - cls_loss: 0.1819 - box_loss: 0.0012 - reg_l2_loss: 0.0825 - loss: 0.3244 - learning_rate: 0.0044 - gradient_norm: 2.2361 - val_det_loss: 0.3743 - val_cls_loss: 0.3321 - val_box_loss: 8.4379e-04 - val_reg_l2_loss: 0.0824 - val_loss: 0.4567\n",
      "Epoch 28/50\n",
      "1052/1052 [==============================] - 270s 257ms/step - det_loss: 0.2371 - cls_loss: 0.1787 - box_loss: 0.0012 - reg_l2_loss: 0.0824 - loss: 0.3195 - learning_rate: 0.0040 - gradient_norm: 2.1508 - val_det_loss: 0.3378 - val_cls_loss: 0.2928 - val_box_loss: 9.0050e-04 - val_reg_l2_loss: 0.0824 - val_loss: 0.4202\n",
      "Epoch 29/50\n",
      "1052/1052 [==============================] - 271s 257ms/step - det_loss: 0.2337 - cls_loss: 0.1756 - box_loss: 0.0012 - reg_l2_loss: 0.0824 - loss: 0.3160 - learning_rate: 0.0037 - gradient_norm: 2.1721 - val_det_loss: 0.3527 - val_cls_loss: 0.3011 - val_box_loss: 0.0010 - val_reg_l2_loss: 0.0823 - val_loss: 0.4351\n",
      "Epoch 30/50\n",
      "1052/1052 [==============================] - 295s 280ms/step - det_loss: 0.2269 - cls_loss: 0.1709 - box_loss: 0.0011 - reg_l2_loss: 0.0823 - loss: 0.3092 - learning_rate: 0.0034 - gradient_norm: 2.2098 - val_det_loss: 0.3969 - val_cls_loss: 0.3198 - val_box_loss: 0.0015 - val_reg_l2_loss: 0.0823 - val_loss: 0.4792\n",
      "Epoch 31/50\n",
      "1052/1052 [==============================] - 270s 256ms/step - det_loss: 0.2250 - cls_loss: 0.1692 - box_loss: 0.0011 - reg_l2_loss: 0.0823 - loss: 0.3073 - learning_rate: 0.0031 - gradient_norm: 2.2586 - val_det_loss: 0.3325 - val_cls_loss: 0.2898 - val_box_loss: 8.5352e-04 - val_reg_l2_loss: 0.0822 - val_loss: 0.4147\n",
      "Epoch 32/50\n",
      "1052/1052 [==============================] - 273s 259ms/step - det_loss: 0.2194 - cls_loss: 0.1656 - box_loss: 0.0011 - reg_l2_loss: 0.0822 - loss: 0.3016 - learning_rate: 0.0028 - gradient_norm: 2.2120 - val_det_loss: 0.3230 - val_cls_loss: 0.2708 - val_box_loss: 0.0010 - val_reg_l2_loss: 0.0821 - val_loss: 0.4052\n",
      "Epoch 33/50\n",
      "1052/1052 [==============================] - 271s 257ms/step - det_loss: 0.2138 - cls_loss: 0.1608 - box_loss: 0.0011 - reg_l2_loss: 0.0821 - loss: 0.2959 - learning_rate: 0.0025 - gradient_norm: 2.1564 - val_det_loss: 0.3243 - val_cls_loss: 0.2841 - val_box_loss: 8.0284e-04 - val_reg_l2_loss: 0.0821 - val_loss: 0.4064\n",
      "Epoch 34/50\n",
      "1052/1052 [==============================] - 270s 257ms/step - det_loss: 0.2137 - cls_loss: 0.1611 - box_loss: 0.0011 - reg_l2_loss: 0.0820 - loss: 0.2957 - learning_rate: 0.0023 - gradient_norm: 2.2380 - val_det_loss: 0.3078 - val_cls_loss: 0.2770 - val_box_loss: 6.1541e-04 - val_reg_l2_loss: 0.0820 - val_loss: 0.3898\n",
      "Epoch 35/50\n",
      "1052/1052 [==============================] - 291s 277ms/step - det_loss: 0.2088 - cls_loss: 0.1571 - box_loss: 0.0010 - reg_l2_loss: 0.0820 - loss: 0.2908 - learning_rate: 0.0020 - gradient_norm: 2.2362 - val_det_loss: 0.3266 - val_cls_loss: 0.2732 - val_box_loss: 0.0011 - val_reg_l2_loss: 0.0819 - val_loss: 0.4085\n",
      "Epoch 36/50\n",
      "1052/1052 [==============================] - 271s 258ms/step - det_loss: 0.2095 - cls_loss: 0.1575 - box_loss: 0.0010 - reg_l2_loss: 0.0819 - loss: 0.2914 - learning_rate: 0.0018 - gradient_norm: 2.2287 - val_det_loss: 0.2513 - val_cls_loss: 0.2246 - val_box_loss: 5.3540e-04 - val_reg_l2_loss: 0.0819 - val_loss: 0.3332\n",
      "Epoch 37/50\n",
      "1052/1052 [==============================] - 275s 262ms/step - det_loss: 0.2019 - cls_loss: 0.1521 - box_loss: 9.9588e-04 - reg_l2_loss: 0.0818 - loss: 0.2837 - learning_rate: 0.0015 - gradient_norm: 2.1576 - val_det_loss: 0.2852 - val_cls_loss: 0.2435 - val_box_loss: 8.3510e-04 - val_reg_l2_loss: 0.0818 - val_loss: 0.3670\n",
      "Epoch 38/50\n",
      "1052/1052 [==============================] - 277s 263ms/step - det_loss: 0.2021 - cls_loss: 0.1519 - box_loss: 0.0010 - reg_l2_loss: 0.0818 - loss: 0.2838 - learning_rate: 0.0013 - gradient_norm: 2.2073 - val_det_loss: 0.2596 - val_cls_loss: 0.2322 - val_box_loss: 5.4796e-04 - val_reg_l2_loss: 0.0817 - val_loss: 0.3413\n",
      "Epoch 39/50\n",
      "1052/1052 [==============================] - 278s 264ms/step - det_loss: 0.2000 - cls_loss: 0.1501 - box_loss: 9.9960e-04 - reg_l2_loss: 0.0817 - loss: 0.2817 - learning_rate: 0.0011 - gradient_norm: 2.2182 - val_det_loss: 0.2563 - val_cls_loss: 0.2339 - val_box_loss: 4.4925e-04 - val_reg_l2_loss: 0.0817 - val_loss: 0.3380\n",
      "Epoch 40/50\n",
      "1052/1052 [==============================] - 295s 280ms/step - det_loss: 0.1942 - cls_loss: 0.1466 - box_loss: 9.5144e-04 - reg_l2_loss: 0.0817 - loss: 0.2759 - learning_rate: 8.9984e-04 - gradient_norm: 2.1662 - val_det_loss: 0.2580 - val_cls_loss: 0.2337 - val_box_loss: 4.8599e-04 - val_reg_l2_loss: 0.0816 - val_loss: 0.3396\n",
      "Epoch 41/50\n",
      "1052/1052 [==============================] - 270s 256ms/step - det_loss: 0.1968 - cls_loss: 0.1477 - box_loss: 9.8106e-04 - reg_l2_loss: 0.0816 - loss: 0.2784 - learning_rate: 7.2502e-04 - gradient_norm: 2.2012 - val_det_loss: 0.2513 - val_cls_loss: 0.2279 - val_box_loss: 4.6838e-04 - val_reg_l2_loss: 0.0816 - val_loss: 0.3329\n",
      "Epoch 42/50\n",
      "1052/1052 [==============================] - 269s 256ms/step - det_loss: 0.1930 - cls_loss: 0.1445 - box_loss: 9.6861e-04 - reg_l2_loss: 0.0816 - loss: 0.2746 - learning_rate: 5.6776e-04 - gradient_norm: 2.1234 - val_det_loss: 0.2441 - val_cls_loss: 0.2205 - val_box_loss: 4.7295e-04 - val_reg_l2_loss: 0.0816 - val_loss: 0.3257\n",
      "Epoch 43/50\n",
      "1052/1052 [==============================] - 271s 257ms/step - det_loss: 0.1900 - cls_loss: 0.1424 - box_loss: 9.5135e-04 - reg_l2_loss: 0.0816 - loss: 0.2715 - learning_rate: 4.2872e-04 - gradient_norm: 2.1524 - val_det_loss: 0.2381 - val_cls_loss: 0.2156 - val_box_loss: 4.5056e-04 - val_reg_l2_loss: 0.0815 - val_loss: 0.3197\n",
      "Epoch 44/50\n",
      "1052/1052 [==============================] - 270s 257ms/step - det_loss: 0.1925 - cls_loss: 0.1436 - box_loss: 9.7839e-04 - reg_l2_loss: 0.0815 - loss: 0.2740 - learning_rate: 3.0846e-04 - gradient_norm: 2.1670 - val_det_loss: 0.2338 - val_cls_loss: 0.2119 - val_box_loss: 4.3762e-04 - val_reg_l2_loss: 0.0815 - val_loss: 0.3153\n",
      "Epoch 45/50\n",
      "1052/1052 [==============================] - 293s 278ms/step - det_loss: 0.1936 - cls_loss: 0.1449 - box_loss: 9.7451e-04 - reg_l2_loss: 0.0815 - loss: 0.2752 - learning_rate: 2.0748e-04 - gradient_norm: 2.1773 - val_det_loss: 0.2380 - val_cls_loss: 0.2159 - val_box_loss: 4.4279e-04 - val_reg_l2_loss: 0.0815 - val_loss: 0.3195\n",
      "Epoch 46/50\n",
      "1052/1052 [==============================] - 268s 255ms/step - det_loss: 0.1903 - cls_loss: 0.1423 - box_loss: 9.5858e-04 - reg_l2_loss: 0.0815 - loss: 0.2718 - learning_rate: 1.2620e-04 - gradient_norm: 2.1449 - val_det_loss: 0.2385 - val_cls_loss: 0.2176 - val_box_loss: 4.1699e-04 - val_reg_l2_loss: 0.0815 - val_loss: 0.3200\n",
      "Epoch 47/50\n",
      "1052/1052 [==============================] - 270s 256ms/step - det_loss: 0.1901 - cls_loss: 0.1421 - box_loss: 9.6057e-04 - reg_l2_loss: 0.0815 - loss: 0.2716 - learning_rate: 6.4938e-05 - gradient_norm: 2.1393 - val_det_loss: 0.2406 - val_cls_loss: 0.2197 - val_box_loss: 4.1811e-04 - val_reg_l2_loss: 0.0815 - val_loss: 0.3221\n",
      "Epoch 48/50\n",
      "1052/1052 [==============================] - 269s 256ms/step - det_loss: 0.1877 - cls_loss: 0.1400 - box_loss: 9.5360e-04 - reg_l2_loss: 0.0815 - loss: 0.2692 - learning_rate: 2.3958e-05 - gradient_norm: 2.0966 - val_det_loss: 0.2414 - val_cls_loss: 0.2203 - val_box_loss: 4.2192e-04 - val_reg_l2_loss: 0.0815 - val_loss: 0.3229\n",
      "Epoch 49/50\n",
      "1052/1052 [==============================] - 269s 256ms/step - det_loss: 0.1910 - cls_loss: 0.1425 - box_loss: 9.7102e-04 - reg_l2_loss: 0.0815 - loss: 0.2725 - learning_rate: 3.4264e-06 - gradient_norm: 2.1212 - val_det_loss: 0.2423 - val_cls_loss: 0.2209 - val_box_loss: 4.2868e-04 - val_reg_l2_loss: 0.0815 - val_loss: 0.3238\n",
      "Epoch 50/50\n",
      "1052/1052 [==============================] - 293s 279ms/step - det_loss: 0.1915 - cls_loss: 0.1427 - box_loss: 9.7528e-04 - reg_l2_loss: 0.0815 - loss: 0.2730 - learning_rate: 3.4264e-06 - gradient_norm: 2.1790 - val_det_loss: 0.2418 - val_cls_loss: 0.2206 - val_box_loss: 4.2272e-04 - val_reg_l2_loss: 0.0815 - val_loss: 0.3233\n"
     ]
    }
   ],
   "source": [
    "model = object_detector.create(train_data, model_spec=spec, epochs=50, batch_size=8, train_whole_model=True, validation_data=validation_data)"
   ]
  },
  {
   "cell_type": "code",
   "execution_count": 7,
   "id": "5c10217f",
   "metadata": {},
   "outputs": [
    {
     "name": "stdout",
     "output_type": "stream",
     "text": [
      "55/55 [==============================] - 104s 1s/step\n",
      "\n"
     ]
    },
    {
     "data": {
      "text/plain": [
       "{'AP': 0.44256458,\n",
       " 'AP50': 0.5849199,\n",
       " 'AP75': 0.49843588,\n",
       " 'APs': 0.0,\n",
       " 'APm': 0.0,\n",
       " 'APl': 0.4427226,\n",
       " 'ARmax1': 0.61067027,\n",
       " 'ARmax10': 0.68151987,\n",
       " 'ARmax100': 0.68543166,\n",
       " 'ARs': 0.0,\n",
       " 'ARm': 0.0,\n",
       " 'ARl': 0.6856036,\n",
       " 'AP_/MESCHA': 0.6608563,\n",
       " 'AP_/SITTOR': 0.23225628,\n",
       " 'AP_/MESBLE': 0.45923606,\n",
       " 'AP_/MESNON': 0.44640568,\n",
       " 'AP_/PINARB': 0.6586634,\n",
       " 'AP_/ACCMOU': 0.45011985,\n",
       " 'AP_/ROUGOR': 0.291742,\n",
       " 'AP_/VEREUR': 0.8040663,\n",
       " 'AP_/MOIDOM': 0.04796806,\n",
       " 'AP_/TOUTUR': 0.45361435,\n",
       " 'AP_/ECUROU': 0.7086992,\n",
       " 'AP_/PIEBAV': 0.79749256,\n",
       " 'AP_/MULGRI': 0.02553748,\n",
       " 'AP_/CAMPAG': -1.0,\n",
       " 'AP_/MESNOI': 0.15924649,\n",
       " 'AP_/MESHUP': -1.0}"
      ]
     },
     "execution_count": 7,
     "metadata": {},
     "output_type": "execute_result"
    }
   ],
   "source": [
    "model.evaluate(test_data)"
   ]
  },
  {
   "cell_type": "code",
   "execution_count": null,
   "id": "caefaeac",
   "metadata": {},
   "outputs": [],
   "source": []
  }
 ],
 "metadata": {
  "kernelspec": {
   "display_name": "Python 3 (ipykernel)",
   "language": "python",
   "name": "python3"
  },
  "language_info": {
   "codemirror_mode": {
    "name": "ipython",
    "version": 3
   },
   "file_extension": ".py",
   "mimetype": "text/x-python",
   "name": "python",
   "nbconvert_exporter": "python",
   "pygments_lexer": "ipython3",
   "version": "3.8.10"
  }
 },
 "nbformat": 4,
 "nbformat_minor": 5
}

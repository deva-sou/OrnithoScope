{
 "cells": [
  {
   "cell_type": "code",
   "execution_count": 1,
   "id": "57a6e8d9",
   "metadata": {
    "collapsed": false,
    "pycharm": {
     "name": "#%%\n"
    }
   },
   "outputs": [
    {
     "name": "stdout",
     "output_type": "stream",
     "text": [
      "<module 'tensorflow._api.v2.version' from '/home/acarlier/code/OrnithoScope/ornithoScope_virtualenv/lib/python3.8/site-packages/tensorflow/_api/v2/version/__init__.py'>\n",
      "GPU available?  True\n"
     ]
    },
    {
     "name": "stderr",
     "output_type": "stream",
     "text": [
      "2022-03-15 10:17:28.104346: I tensorflow/core/platform/cpu_feature_guard.cc:151] This TensorFlow binary is optimized with oneAPI Deep Neural Network Library (oneDNN) to use the following CPU instructions in performance-critical operations:  AVX2 FMA\n",
      "To enable them in other operations, rebuild TensorFlow with the appropriate compiler flags.\n",
      "2022-03-15 10:17:30.333040: I tensorflow/core/common_runtime/gpu/gpu_device.cc:1525] Created device /device:GPU:0 with 9982 MB memory:  -> device: 0, name: NVIDIA GeForce GTX 1080 Ti, pci bus id: 0000:03:00.0, compute capability: 6.1\n",
      "2022-03-15 10:17:30.335341: I tensorflow/core/common_runtime/gpu/gpu_device.cc:1525] Created device /device:GPU:1 with 10406 MB memory:  -> device: 1, name: NVIDIA GeForce GTX 1080 Ti, pci bus id: 0000:a1:00.0, compute capability: 6.1\n"
     ]
    }
   ],
   "source": [
    "import numpy as np\n",
    "import os\n",
    "import tensorflow as tf\n",
    "print(tf.version)\n",
    "from tflite_model_maker.config import ExportFormat\n",
    "from tflite_model_maker import model_spec\n",
    "from tflite_model_maker import object_detector\n",
    "\n",
    "assert tf.__version__.startswith('2')\n",
    "tf.get_logger().setLevel('ERROR')\n",
    "from absl import logging\n",
    "logging.set_verbosity(logging.ERROR)\n",
    "print(\"GPU available? \",tf.test.is_gpu_available())"
   ]
  },
  {
   "cell_type": "code",
   "execution_count": 2,
   "id": "69b8efba",
   "metadata": {
    "collapsed": false,
    "pycharm": {
     "name": "#%%\n"
    }
   },
   "outputs": [
    {
     "name": "stderr",
     "output_type": "stream",
     "text": [
      "2022-03-15 10:17:43.753478: I tensorflow/core/common_runtime/gpu/gpu_device.cc:1525] Created device /job:localhost/replica:0/task:0/device:GPU:0 with 9982 MB memory:  -> device: 0, name: NVIDIA GeForce GTX 1080 Ti, pci bus id: 0000:03:00.0, compute capability: 6.1\n",
      "2022-03-15 10:17:43.753837: I tensorflow/core/common_runtime/gpu/gpu_device.cc:1525] Created device /job:localhost/replica:0/task:0/device:GPU:1 with 10406 MB memory:  -> device: 1, name: NVIDIA GeForce GTX 1080 Ti, pci bus id: 0000:a1:00.0, compute capability: 6.1\n"
     ]
    }
   ],
   "source": [
    "spec = model_spec.get('efficientdet_lite1')"
   ]
  },
  {
   "cell_type": "code",
   "execution_count": 3,
   "id": "883e8d6a",
   "metadata": {},
   "outputs": [],
   "source": [
    "train_data, validation_data, test_data = object_detector.DataLoader.from_csv('/home/acarlier/code/OrnithoScope/data/input.csv')"
   ]
  },
  {
   "cell_type": "code",
   "execution_count": 4,
   "id": "2642773e",
   "metadata": {},
   "outputs": [
    {
     "name": "stderr",
     "output_type": "stream",
     "text": [
      "2022-03-15 13:06:50.398132: I tensorflow/stream_executor/cuda/cuda_driver.cc:739] failed to allocate 9.75G (10467409920 bytes) from device: CUDA_ERROR_OUT_OF_MEMORY: out of memory\n",
      "2022-03-15 13:06:50.399189: I tensorflow/stream_executor/cuda/cuda_driver.cc:739] failed to allocate 8.77G (9420668928 bytes) from device: CUDA_ERROR_OUT_OF_MEMORY: out of memory\n",
      "2022-03-15 13:06:50.400174: I tensorflow/stream_executor/cuda/cuda_driver.cc:739] failed to allocate 7.90G (8478601728 bytes) from device: CUDA_ERROR_OUT_OF_MEMORY: out of memory\n",
      "2022-03-15 13:06:50.401172: I tensorflow/stream_executor/cuda/cuda_driver.cc:739] failed to allocate 7.11G (7630741504 bytes) from device: CUDA_ERROR_OUT_OF_MEMORY: out of memory\n",
      "2022-03-15 13:06:50.402139: I tensorflow/stream_executor/cuda/cuda_driver.cc:739] failed to allocate 6.40G (6867666944 bytes) from device: CUDA_ERROR_OUT_OF_MEMORY: out of memory\n",
      "2022-03-15 13:06:50.403180: I tensorflow/stream_executor/cuda/cuda_driver.cc:739] failed to allocate 5.76G (6180899840 bytes) from device: CUDA_ERROR_OUT_OF_MEMORY: out of memory\n",
      "2022-03-15 13:06:50.404226: I tensorflow/stream_executor/cuda/cuda_driver.cc:739] failed to allocate 5.18G (5562809856 bytes) from device: CUDA_ERROR_OUT_OF_MEMORY: out of memory\n",
      "2022-03-15 13:06:50.405192: I tensorflow/stream_executor/cuda/cuda_driver.cc:739] failed to allocate 4.66G (5006528512 bytes) from device: CUDA_ERROR_OUT_OF_MEMORY: out of memory\n",
      "2022-03-15 13:06:50.406159: I tensorflow/stream_executor/cuda/cuda_driver.cc:739] failed to allocate 4.20G (4505875456 bytes) from device: CUDA_ERROR_OUT_OF_MEMORY: out of memory\n",
      "2022-03-15 13:06:50.407187: I tensorflow/stream_executor/cuda/cuda_driver.cc:739] failed to allocate 3.78G (4055287808 bytes) from device: CUDA_ERROR_OUT_OF_MEMORY: out of memory\n",
      "2022-03-15 13:06:50.408151: I tensorflow/stream_executor/cuda/cuda_driver.cc:739] failed to allocate 3.40G (3649758976 bytes) from device: CUDA_ERROR_OUT_OF_MEMORY: out of memory\n",
      "2022-03-15 13:06:50.409156: I tensorflow/stream_executor/cuda/cuda_driver.cc:739] failed to allocate 3.06G (3284783104 bytes) from device: CUDA_ERROR_OUT_OF_MEMORY: out of memory\n",
      "2022-03-15 13:06:50.410154: I tensorflow/stream_executor/cuda/cuda_driver.cc:739] failed to allocate 2.75G (2956304640 bytes) from device: CUDA_ERROR_OUT_OF_MEMORY: out of memory\n",
      "2022-03-15 13:06:50.411136: I tensorflow/stream_executor/cuda/cuda_driver.cc:739] failed to allocate 2.48G (2660674048 bytes) from device: CUDA_ERROR_OUT_OF_MEMORY: out of memory\n",
      "2022-03-15 13:06:50.412091: I tensorflow/stream_executor/cuda/cuda_driver.cc:739] failed to allocate 2.23G (2394606592 bytes) from device: CUDA_ERROR_OUT_OF_MEMORY: out of memory\n",
      "2022-03-15 13:06:50.413044: I tensorflow/stream_executor/cuda/cuda_driver.cc:739] failed to allocate 2.01G (2155145984 bytes) from device: CUDA_ERROR_OUT_OF_MEMORY: out of memory\n",
      "2022-03-15 13:06:50.414000: I tensorflow/stream_executor/cuda/cuda_driver.cc:739] failed to allocate 1.81G (1939631360 bytes) from device: CUDA_ERROR_OUT_OF_MEMORY: out of memory\n",
      "2022-03-15 13:06:50.414966: I tensorflow/stream_executor/cuda/cuda_driver.cc:739] failed to allocate 1.62G (1745668352 bytes) from device: CUDA_ERROR_OUT_OF_MEMORY: out of memory\n",
      "2022-03-15 13:06:50.415918: I tensorflow/stream_executor/cuda/cuda_driver.cc:739] failed to allocate 1.46G (1571101440 bytes) from device: CUDA_ERROR_OUT_OF_MEMORY: out of memory\n",
      "2022-03-15 13:06:50.416892: I tensorflow/stream_executor/cuda/cuda_driver.cc:739] failed to allocate 1.32G (1413991424 bytes) from device: CUDA_ERROR_OUT_OF_MEMORY: out of memory\n",
      "2022-03-15 13:06:50.417857: I tensorflow/stream_executor/cuda/cuda_driver.cc:739] failed to allocate 1.18G (1272592384 bytes) from device: CUDA_ERROR_OUT_OF_MEMORY: out of memory\n",
      "2022-03-15 13:06:50.418828: I tensorflow/stream_executor/cuda/cuda_driver.cc:739] failed to allocate 1.07G (1145333248 bytes) from device: CUDA_ERROR_OUT_OF_MEMORY: out of memory\n",
      "2022-03-15 13:06:50.419852: I tensorflow/stream_executor/cuda/cuda_driver.cc:739] failed to allocate 983.05M (1030799872 bytes) from device: CUDA_ERROR_OUT_OF_MEMORY: out of memory\n",
      "2022-03-15 13:06:50.420931: I tensorflow/stream_executor/cuda/cuda_driver.cc:739] failed to allocate 884.74M (927719936 bytes) from device: CUDA_ERROR_OUT_OF_MEMORY: out of memory\n",
      "2022-03-15 13:06:50.421884: I tensorflow/stream_executor/cuda/cuda_driver.cc:739] failed to allocate 796.27M (834948096 bytes) from device: CUDA_ERROR_OUT_OF_MEMORY: out of memory\n",
      "2022-03-15 13:06:50.422931: I tensorflow/stream_executor/cuda/cuda_driver.cc:739] failed to allocate 716.64M (751453440 bytes) from device: CUDA_ERROR_OUT_OF_MEMORY: out of memory\n",
      "2022-03-15 13:06:50.423892: I tensorflow/stream_executor/cuda/cuda_driver.cc:739] failed to allocate 644.98M (676308224 bytes) from device: CUDA_ERROR_OUT_OF_MEMORY: out of memory\n",
      "2022-03-15 13:06:50.424844: I tensorflow/stream_executor/cuda/cuda_driver.cc:739] failed to allocate 580.48M (608677376 bytes) from device: CUDA_ERROR_OUT_OF_MEMORY: out of memory\n"
     ]
    },
    {
     "ename": "KeyboardInterrupt",
     "evalue": "",
     "output_type": "error",
     "traceback": [
      "\u001b[0;31m---------------------------------------------------------------------------\u001b[0m",
      "\u001b[0;31mKeyboardInterrupt\u001b[0m                         Traceback (most recent call last)",
      "\u001b[1;32m/home/acarlier/code/OrnithoScope/notebooks/model_training/efficientDet1.ipynb Cell 4'\u001b[0m in \u001b[0;36m<cell line: 1>\u001b[0;34m()\u001b[0m\n\u001b[0;32m----> <a href='vscode-notebook-cell:/home/acarlier/code/OrnithoScope/notebooks/model_training/efficientDet1.ipynb#ch0000004?line=0'>1</a>\u001b[0m model \u001b[39m=\u001b[39m object_detector\u001b[39m.\u001b[39;49mcreate(train_data, model_spec\u001b[39m=\u001b[39;49mspec, epochs\u001b[39m=\u001b[39;49m\u001b[39m50\u001b[39;49m, batch_size\u001b[39m=\u001b[39;49m\u001b[39m8\u001b[39;49m, train_whole_model\u001b[39m=\u001b[39;49m\u001b[39mTrue\u001b[39;49;00m, validation_data\u001b[39m=\u001b[39;49mvalidation_data)\n",
      "File \u001b[0;32m~/code/OrnithoScope/ornithoScope_virtualenv/lib/python3.8/site-packages/tensorflow_examples/lite/model_maker/core/task/object_detector.py:260\u001b[0m, in \u001b[0;36mObjectDetector.create\u001b[0;34m(cls, train_data, model_spec, validation_data, epochs, batch_size, train_whole_model, do_train)\u001b[0m\n\u001b[1;32m    <a href='file:///home/acarlier/code/OrnithoScope/ornithoScope_virtualenv/lib/python3.8/site-packages/tensorflow_examples/lite/model_maker/core/task/object_detector.py?line=257'>258</a>\u001b[0m \u001b[39mif\u001b[39;00m do_train:\n\u001b[1;32m    <a href='file:///home/acarlier/code/OrnithoScope/ornithoScope_virtualenv/lib/python3.8/site-packages/tensorflow_examples/lite/model_maker/core/task/object_detector.py?line=258'>259</a>\u001b[0m   tf\u001b[39m.\u001b[39mcompat\u001b[39m.\u001b[39mv1\u001b[39m.\u001b[39mlogging\u001b[39m.\u001b[39minfo(\u001b[39m'\u001b[39m\u001b[39mRetraining the models...\u001b[39m\u001b[39m'\u001b[39m)\n\u001b[0;32m--> <a href='file:///home/acarlier/code/OrnithoScope/ornithoScope_virtualenv/lib/python3.8/site-packages/tensorflow_examples/lite/model_maker/core/task/object_detector.py?line=259'>260</a>\u001b[0m   object_detector\u001b[39m.\u001b[39;49mtrain(train_data, validation_data, epochs, batch_size)\n\u001b[1;32m    <a href='file:///home/acarlier/code/OrnithoScope/ornithoScope_virtualenv/lib/python3.8/site-packages/tensorflow_examples/lite/model_maker/core/task/object_detector.py?line=260'>261</a>\u001b[0m \u001b[39melse\u001b[39;00m:\n\u001b[1;32m    <a href='file:///home/acarlier/code/OrnithoScope/ornithoScope_virtualenv/lib/python3.8/site-packages/tensorflow_examples/lite/model_maker/core/task/object_detector.py?line=261'>262</a>\u001b[0m   object_detector\u001b[39m.\u001b[39mcreate_model()\n",
      "File \u001b[0;32m~/code/OrnithoScope/ornithoScope_virtualenv/lib/python3.8/site-packages/tensorflow_examples/lite/model_maker/core/task/object_detector.py:118\u001b[0m, in \u001b[0;36mObjectDetector.train\u001b[0;34m(self, train_data, validation_data, epochs, batch_size)\u001b[0m\n\u001b[1;32m    <a href='file:///home/acarlier/code/OrnithoScope/ornithoScope_virtualenv/lib/python3.8/site-packages/tensorflow_examples/lite/model_maker/core/task/object_detector.py?line=114'>115</a>\u001b[0m   validation_data \u001b[39m=\u001b[39m \u001b[39mNone\u001b[39;00m\n\u001b[1;32m    <a href='file:///home/acarlier/code/OrnithoScope/ornithoScope_virtualenv/lib/python3.8/site-packages/tensorflow_examples/lite/model_maker/core/task/object_detector.py?line=116'>117</a>\u001b[0m \u001b[39mwith\u001b[39;00m \u001b[39mself\u001b[39m\u001b[39m.\u001b[39mmodel_spec\u001b[39m.\u001b[39mds_strategy\u001b[39m.\u001b[39mscope():\n\u001b[0;32m--> <a href='file:///home/acarlier/code/OrnithoScope/ornithoScope_virtualenv/lib/python3.8/site-packages/tensorflow_examples/lite/model_maker/core/task/object_detector.py?line=117'>118</a>\u001b[0m   \u001b[39mself\u001b[39;49m\u001b[39m.\u001b[39;49mcreate_model()\n\u001b[1;32m    <a href='file:///home/acarlier/code/OrnithoScope/ornithoScope_virtualenv/lib/python3.8/site-packages/tensorflow_examples/lite/model_maker/core/task/object_detector.py?line=118'>119</a>\u001b[0m   train_ds, steps_per_epoch, _ \u001b[39m=\u001b[39m \u001b[39mself\u001b[39m\u001b[39m.\u001b[39m_get_dataset_and_steps(\n\u001b[1;32m    <a href='file:///home/acarlier/code/OrnithoScope/ornithoScope_virtualenv/lib/python3.8/site-packages/tensorflow_examples/lite/model_maker/core/task/object_detector.py?line=119'>120</a>\u001b[0m       train_data, batch_size, is_training\u001b[39m=\u001b[39m\u001b[39mTrue\u001b[39;00m)\n\u001b[1;32m    <a href='file:///home/acarlier/code/OrnithoScope/ornithoScope_virtualenv/lib/python3.8/site-packages/tensorflow_examples/lite/model_maker/core/task/object_detector.py?line=120'>121</a>\u001b[0m   validation_ds, validation_steps, val_json_file \u001b[39m=\u001b[39m \u001b[39mself\u001b[39m\u001b[39m.\u001b[39m_get_dataset_and_steps(\n\u001b[1;32m    <a href='file:///home/acarlier/code/OrnithoScope/ornithoScope_virtualenv/lib/python3.8/site-packages/tensorflow_examples/lite/model_maker/core/task/object_detector.py?line=121'>122</a>\u001b[0m       validation_data, batch_size, is_training\u001b[39m=\u001b[39m\u001b[39mFalse\u001b[39;00m)\n",
      "File \u001b[0;32m~/code/OrnithoScope/ornithoScope_virtualenv/lib/python3.8/site-packages/tensorflow_examples/lite/model_maker/core/task/object_detector.py:74\u001b[0m, in \u001b[0;36mObjectDetector.create_model\u001b[0;34m(self)\u001b[0m\n\u001b[1;32m     <a href='file:///home/acarlier/code/OrnithoScope/ornithoScope_virtualenv/lib/python3.8/site-packages/tensorflow_examples/lite/model_maker/core/task/object_detector.py?line=72'>73</a>\u001b[0m \u001b[39mdef\u001b[39;00m \u001b[39mcreate_model\u001b[39m(\u001b[39mself\u001b[39m) \u001b[39m-\u001b[39m\u001b[39m>\u001b[39m tf\u001b[39m.\u001b[39mkeras\u001b[39m.\u001b[39mModel:\n\u001b[0;32m---> <a href='file:///home/acarlier/code/OrnithoScope/ornithoScope_virtualenv/lib/python3.8/site-packages/tensorflow_examples/lite/model_maker/core/task/object_detector.py?line=73'>74</a>\u001b[0m   \u001b[39mself\u001b[39m\u001b[39m.\u001b[39mmodel \u001b[39m=\u001b[39m \u001b[39mself\u001b[39;49m\u001b[39m.\u001b[39;49mmodel_spec\u001b[39m.\u001b[39;49mcreate_model()\n\u001b[1;32m     <a href='file:///home/acarlier/code/OrnithoScope/ornithoScope_virtualenv/lib/python3.8/site-packages/tensorflow_examples/lite/model_maker/core/task/object_detector.py?line=74'>75</a>\u001b[0m   \u001b[39mreturn\u001b[39;00m \u001b[39mself\u001b[39m\u001b[39m.\u001b[39mmodel\n",
      "File \u001b[0;32m~/code/OrnithoScope/ornithoScope_virtualenv/lib/python3.8/site-packages/tensorflow_examples/lite/model_maker/core/task/model_spec/object_detector_spec.py:238\u001b[0m, in \u001b[0;36mEfficientDetModelSpec.create_model\u001b[0;34m(self)\u001b[0m\n\u001b[1;32m    <a href='file:///home/acarlier/code/OrnithoScope/ornithoScope_virtualenv/lib/python3.8/site-packages/tensorflow_examples/lite/model_maker/core/task/model_spec/object_detector_spec.py?line=235'>236</a>\u001b[0m \u001b[39mdef\u001b[39;00m \u001b[39mcreate_model\u001b[39m(\u001b[39mself\u001b[39m) \u001b[39m-\u001b[39m\u001b[39m>\u001b[39m tf\u001b[39m.\u001b[39mkeras\u001b[39m.\u001b[39mModel:\n\u001b[1;32m    <a href='file:///home/acarlier/code/OrnithoScope/ornithoScope_virtualenv/lib/python3.8/site-packages/tensorflow_examples/lite/model_maker/core/task/model_spec/object_detector_spec.py?line=236'>237</a>\u001b[0m   \u001b[39m\"\"\"Creates the EfficientDet model.\"\"\"\u001b[39;00m\n\u001b[0;32m--> <a href='file:///home/acarlier/code/OrnithoScope/ornithoScope_virtualenv/lib/python3.8/site-packages/tensorflow_examples/lite/model_maker/core/task/model_spec/object_detector_spec.py?line=237'>238</a>\u001b[0m   \u001b[39mreturn\u001b[39;00m train_lib\u001b[39m.\u001b[39;49mEfficientDetNetTrainHub(\n\u001b[1;32m    <a href='file:///home/acarlier/code/OrnithoScope/ornithoScope_virtualenv/lib/python3.8/site-packages/tensorflow_examples/lite/model_maker/core/task/model_spec/object_detector_spec.py?line=238'>239</a>\u001b[0m       config\u001b[39m=\u001b[39;49m\u001b[39mself\u001b[39;49m\u001b[39m.\u001b[39;49mconfig, hub_module_url\u001b[39m=\u001b[39;49m\u001b[39mself\u001b[39;49m\u001b[39m.\u001b[39;49muri)\n",
      "File \u001b[0;32m~/code/OrnithoScope/ornithoScope_virtualenv/lib/python3.8/site-packages/tensorflow_examples/lite/model_maker/third_party/efficientdet/keras/train_lib.py:862\u001b[0m, in \u001b[0;36mEfficientDetNetTrainHub.__init__\u001b[0;34m(self, config, hub_module_url, name)\u001b[0m\n\u001b[1;32m    <a href='file:///home/acarlier/code/OrnithoScope/ornithoScope_virtualenv/lib/python3.8/site-packages/tensorflow_examples/lite/model_maker/third_party/efficientdet/keras/train_lib.py?line=859'>860</a>\u001b[0m \u001b[39mself\u001b[39m\u001b[39m.\u001b[39mconfig \u001b[39m=\u001b[39m config\n\u001b[1;32m    <a href='file:///home/acarlier/code/OrnithoScope/ornithoScope_virtualenv/lib/python3.8/site-packages/tensorflow_examples/lite/model_maker/third_party/efficientdet/keras/train_lib.py?line=860'>861</a>\u001b[0m \u001b[39mself\u001b[39m\u001b[39m.\u001b[39mhub_module_url \u001b[39m=\u001b[39m hub_module_url\n\u001b[0;32m--> <a href='file:///home/acarlier/code/OrnithoScope/ornithoScope_virtualenv/lib/python3.8/site-packages/tensorflow_examples/lite/model_maker/third_party/efficientdet/keras/train_lib.py?line=861'>862</a>\u001b[0m \u001b[39mself\u001b[39m\u001b[39m.\u001b[39mbase_model \u001b[39m=\u001b[39m hub\u001b[39m.\u001b[39;49mKerasLayer(hub_module_url, trainable\u001b[39m=\u001b[39;49m\u001b[39mTrue\u001b[39;49;00m)\n\u001b[1;32m    <a href='file:///home/acarlier/code/OrnithoScope/ornithoScope_virtualenv/lib/python3.8/site-packages/tensorflow_examples/lite/model_maker/third_party/efficientdet/keras/train_lib.py?line=863'>864</a>\u001b[0m \u001b[39m# class/box output prediction network.\u001b[39;00m\n\u001b[1;32m    <a href='file:///home/acarlier/code/OrnithoScope/ornithoScope_virtualenv/lib/python3.8/site-packages/tensorflow_examples/lite/model_maker/third_party/efficientdet/keras/train_lib.py?line=864'>865</a>\u001b[0m num_anchors \u001b[39m=\u001b[39m \u001b[39mlen\u001b[39m(config\u001b[39m.\u001b[39maspect_ratios) \u001b[39m*\u001b[39m config\u001b[39m.\u001b[39mnum_scales\n",
      "File \u001b[0;32m~/code/OrnithoScope/ornithoScope_virtualenv/lib/python3.8/site-packages/tensorflow_hub/keras_layer.py:153\u001b[0m, in \u001b[0;36mKerasLayer.__init__\u001b[0;34m(self, handle, trainable, arguments, _sentinel, tags, signature, signature_outputs_as_dict, output_key, output_shape, load_options, **kwargs)\u001b[0m\n\u001b[1;32m    <a href='file:///home/acarlier/code/OrnithoScope/ornithoScope_virtualenv/lib/python3.8/site-packages/tensorflow_hub/keras_layer.py?line=148'>149</a>\u001b[0m   \u001b[39mself\u001b[39m\u001b[39m.\u001b[39m_output_shape \u001b[39m=\u001b[39m data_structures\u001b[39m.\u001b[39mNoDependency(\n\u001b[1;32m    <a href='file:///home/acarlier/code/OrnithoScope/ornithoScope_virtualenv/lib/python3.8/site-packages/tensorflow_hub/keras_layer.py?line=149'>150</a>\u001b[0m       _convert_nest_to_shapes(output_shape))\n\u001b[1;32m    <a href='file:///home/acarlier/code/OrnithoScope/ornithoScope_virtualenv/lib/python3.8/site-packages/tensorflow_hub/keras_layer.py?line=151'>152</a>\u001b[0m \u001b[39mself\u001b[39m\u001b[39m.\u001b[39m_load_options \u001b[39m=\u001b[39m load_options\n\u001b[0;32m--> <a href='file:///home/acarlier/code/OrnithoScope/ornithoScope_virtualenv/lib/python3.8/site-packages/tensorflow_hub/keras_layer.py?line=152'>153</a>\u001b[0m \u001b[39mself\u001b[39m\u001b[39m.\u001b[39m_func \u001b[39m=\u001b[39m load_module(handle, tags, \u001b[39mself\u001b[39;49m\u001b[39m.\u001b[39;49m_load_options)\n\u001b[1;32m    <a href='file:///home/acarlier/code/OrnithoScope/ornithoScope_virtualenv/lib/python3.8/site-packages/tensorflow_hub/keras_layer.py?line=153'>154</a>\u001b[0m \u001b[39mself\u001b[39m\u001b[39m.\u001b[39m_has_training_argument \u001b[39m=\u001b[39m func_has_training_argument(\u001b[39mself\u001b[39m\u001b[39m.\u001b[39m_func)\n\u001b[1;32m    <a href='file:///home/acarlier/code/OrnithoScope/ornithoScope_virtualenv/lib/python3.8/site-packages/tensorflow_hub/keras_layer.py?line=154'>155</a>\u001b[0m \u001b[39mself\u001b[39m\u001b[39m.\u001b[39m_is_hub_module_v1 \u001b[39m=\u001b[39m \u001b[39mgetattr\u001b[39m(\u001b[39mself\u001b[39m\u001b[39m.\u001b[39m_func, \u001b[39m\"\u001b[39m\u001b[39m_is_hub_module_v1\u001b[39m\u001b[39m\"\u001b[39m, \u001b[39mFalse\u001b[39;00m)\n",
      "File \u001b[0;32m~/code/OrnithoScope/ornithoScope_virtualenv/lib/python3.8/site-packages/tensorflow_hub/keras_layer.py:449\u001b[0m, in \u001b[0;36mload_module\u001b[0;34m(handle, tags, load_options)\u001b[0m\n\u001b[1;32m    <a href='file:///home/acarlier/code/OrnithoScope/ornithoScope_virtualenv/lib/python3.8/site-packages/tensorflow_hub/keras_layer.py?line=446'>447</a>\u001b[0m   \u001b[39mexcept\u001b[39;00m \u001b[39mImportError\u001b[39;00m:  \u001b[39m# Expected before TF2.4.\u001b[39;00m\n\u001b[1;32m    <a href='file:///home/acarlier/code/OrnithoScope/ornithoScope_virtualenv/lib/python3.8/site-packages/tensorflow_hub/keras_layer.py?line=447'>448</a>\u001b[0m     set_load_options \u001b[39m=\u001b[39m load_options\n\u001b[0;32m--> <a href='file:///home/acarlier/code/OrnithoScope/ornithoScope_virtualenv/lib/python3.8/site-packages/tensorflow_hub/keras_layer.py?line=448'>449</a>\u001b[0m \u001b[39mreturn\u001b[39;00m module_v2\u001b[39m.\u001b[39;49mload(handle, tags\u001b[39m=\u001b[39;49mtags, options\u001b[39m=\u001b[39;49mset_load_options)\n",
      "File \u001b[0;32m~/code/OrnithoScope/ornithoScope_virtualenv/lib/python3.8/site-packages/tensorflow_hub/module_v2.py:106\u001b[0m, in \u001b[0;36mload\u001b[0;34m(handle, tags, options)\u001b[0m\n\u001b[1;32m    <a href='file:///home/acarlier/code/OrnithoScope/ornithoScope_virtualenv/lib/python3.8/site-packages/tensorflow_hub/module_v2.py?line=102'>103</a>\u001b[0m   obj \u001b[39m=\u001b[39m tf\u001b[39m.\u001b[39mcompat\u001b[39m.\u001b[39mv1\u001b[39m.\u001b[39msaved_model\u001b[39m.\u001b[39mload_v2(\n\u001b[1;32m    <a href='file:///home/acarlier/code/OrnithoScope/ornithoScope_virtualenv/lib/python3.8/site-packages/tensorflow_hub/module_v2.py?line=103'>104</a>\u001b[0m       module_path, tags\u001b[39m=\u001b[39mtags, options\u001b[39m=\u001b[39moptions)\n\u001b[1;32m    <a href='file:///home/acarlier/code/OrnithoScope/ornithoScope_virtualenv/lib/python3.8/site-packages/tensorflow_hub/module_v2.py?line=104'>105</a>\u001b[0m \u001b[39melse\u001b[39;00m:\n\u001b[0;32m--> <a href='file:///home/acarlier/code/OrnithoScope/ornithoScope_virtualenv/lib/python3.8/site-packages/tensorflow_hub/module_v2.py?line=105'>106</a>\u001b[0m   obj \u001b[39m=\u001b[39m tf\u001b[39m.\u001b[39;49mcompat\u001b[39m.\u001b[39;49mv1\u001b[39m.\u001b[39;49msaved_model\u001b[39m.\u001b[39;49mload_v2(module_path, tags\u001b[39m=\u001b[39;49mtags)\n\u001b[1;32m    <a href='file:///home/acarlier/code/OrnithoScope/ornithoScope_virtualenv/lib/python3.8/site-packages/tensorflow_hub/module_v2.py?line=106'>107</a>\u001b[0m obj\u001b[39m.\u001b[39m_is_hub_module_v1 \u001b[39m=\u001b[39m is_hub_module_v1  \u001b[39m# pylint: disable=protected-access\u001b[39;00m\n\u001b[1;32m    <a href='file:///home/acarlier/code/OrnithoScope/ornithoScope_virtualenv/lib/python3.8/site-packages/tensorflow_hub/module_v2.py?line=107'>108</a>\u001b[0m \u001b[39mreturn\u001b[39;00m obj\n",
      "File \u001b[0;32m~/code/OrnithoScope/ornithoScope_virtualenv/lib/python3.8/site-packages/tensorflow/python/saved_model/load.py:936\u001b[0m, in \u001b[0;36mload\u001b[0;34m(export_dir, tags, options)\u001b[0m\n\u001b[1;32m    <a href='file:///home/acarlier/code/OrnithoScope/ornithoScope_virtualenv/lib/python3.8/site-packages/tensorflow/python/saved_model/load.py?line=844'>845</a>\u001b[0m \u001b[39m@tf_export\u001b[39m(\u001b[39m\"\u001b[39m\u001b[39msaved_model.load\u001b[39m\u001b[39m\"\u001b[39m, v1\u001b[39m=\u001b[39m[\u001b[39m\"\u001b[39m\u001b[39msaved_model.load_v2\u001b[39m\u001b[39m\"\u001b[39m])\n\u001b[1;32m    <a href='file:///home/acarlier/code/OrnithoScope/ornithoScope_virtualenv/lib/python3.8/site-packages/tensorflow/python/saved_model/load.py?line=845'>846</a>\u001b[0m \u001b[39mdef\u001b[39;00m \u001b[39mload\u001b[39m(export_dir, tags\u001b[39m=\u001b[39m\u001b[39mNone\u001b[39;00m, options\u001b[39m=\u001b[39m\u001b[39mNone\u001b[39;00m):\n\u001b[1;32m    <a href='file:///home/acarlier/code/OrnithoScope/ornithoScope_virtualenv/lib/python3.8/site-packages/tensorflow/python/saved_model/load.py?line=846'>847</a>\u001b[0m   \u001b[39m\"\"\"Load a SavedModel from `export_dir`.\u001b[39;00m\n\u001b[1;32m    <a href='file:///home/acarlier/code/OrnithoScope/ornithoScope_virtualenv/lib/python3.8/site-packages/tensorflow/python/saved_model/load.py?line=847'>848</a>\u001b[0m \n\u001b[1;32m    <a href='file:///home/acarlier/code/OrnithoScope/ornithoScope_virtualenv/lib/python3.8/site-packages/tensorflow/python/saved_model/load.py?line=848'>849</a>\u001b[0m \u001b[39m  Signatures associated with the SavedModel are available as functions:\u001b[39;00m\n\u001b[0;32m   (...)\u001b[0m\n\u001b[1;32m    <a href='file:///home/acarlier/code/OrnithoScope/ornithoScope_virtualenv/lib/python3.8/site-packages/tensorflow/python/saved_model/load.py?line=933'>934</a>\u001b[0m \u001b[39m    ValueError: If `tags` don't match a MetaGraph in the SavedModel.\u001b[39;00m\n\u001b[1;32m    <a href='file:///home/acarlier/code/OrnithoScope/ornithoScope_virtualenv/lib/python3.8/site-packages/tensorflow/python/saved_model/load.py?line=934'>935</a>\u001b[0m \u001b[39m  \"\"\"\u001b[39;00m\n\u001b[0;32m--> <a href='file:///home/acarlier/code/OrnithoScope/ornithoScope_virtualenv/lib/python3.8/site-packages/tensorflow/python/saved_model/load.py?line=935'>936</a>\u001b[0m   result \u001b[39m=\u001b[39m load_internal(export_dir, tags, options)[\u001b[39m\"\u001b[39m\u001b[39mroot\u001b[39m\u001b[39m\"\u001b[39m]\n\u001b[1;32m    <a href='file:///home/acarlier/code/OrnithoScope/ornithoScope_virtualenv/lib/python3.8/site-packages/tensorflow/python/saved_model/load.py?line=936'>937</a>\u001b[0m   \u001b[39mreturn\u001b[39;00m result\n",
      "File \u001b[0;32m~/code/OrnithoScope/ornithoScope_virtualenv/lib/python3.8/site-packages/tensorflow/python/saved_model/load.py:974\u001b[0m, in \u001b[0;36mload_internal\u001b[0;34m(export_dir, tags, options, loader_cls, filters)\u001b[0m\n\u001b[1;32m    <a href='file:///home/acarlier/code/OrnithoScope/ornithoScope_virtualenv/lib/python3.8/site-packages/tensorflow/python/saved_model/load.py?line=971'>972</a>\u001b[0m \u001b[39mwith\u001b[39;00m ops\u001b[39m.\u001b[39minit_scope():\n\u001b[1;32m    <a href='file:///home/acarlier/code/OrnithoScope/ornithoScope_virtualenv/lib/python3.8/site-packages/tensorflow/python/saved_model/load.py?line=972'>973</a>\u001b[0m   \u001b[39mtry\u001b[39;00m:\n\u001b[0;32m--> <a href='file:///home/acarlier/code/OrnithoScope/ornithoScope_virtualenv/lib/python3.8/site-packages/tensorflow/python/saved_model/load.py?line=973'>974</a>\u001b[0m     loader \u001b[39m=\u001b[39m loader_cls(object_graph_proto, saved_model_proto, export_dir,\n\u001b[1;32m    <a href='file:///home/acarlier/code/OrnithoScope/ornithoScope_virtualenv/lib/python3.8/site-packages/tensorflow/python/saved_model/load.py?line=974'>975</a>\u001b[0m                         ckpt_options, options, filters)\n\u001b[1;32m    <a href='file:///home/acarlier/code/OrnithoScope/ornithoScope_virtualenv/lib/python3.8/site-packages/tensorflow/python/saved_model/load.py?line=975'>976</a>\u001b[0m   \u001b[39mexcept\u001b[39;00m errors\u001b[39m.\u001b[39mNotFoundError \u001b[39mas\u001b[39;00m err:\n\u001b[1;32m    <a href='file:///home/acarlier/code/OrnithoScope/ornithoScope_virtualenv/lib/python3.8/site-packages/tensorflow/python/saved_model/load.py?line=976'>977</a>\u001b[0m     \u001b[39mraise\u001b[39;00m \u001b[39mFileNotFoundError\u001b[39;00m(\n\u001b[1;32m    <a href='file:///home/acarlier/code/OrnithoScope/ornithoScope_virtualenv/lib/python3.8/site-packages/tensorflow/python/saved_model/load.py?line=977'>978</a>\u001b[0m         \u001b[39mstr\u001b[39m(err) \u001b[39m+\u001b[39m \u001b[39m\"\u001b[39m\u001b[39m\\n\u001b[39;00m\u001b[39m You may be trying to load on a different device \u001b[39m\u001b[39m\"\u001b[39m\n\u001b[1;32m    <a href='file:///home/acarlier/code/OrnithoScope/ornithoScope_virtualenv/lib/python3.8/site-packages/tensorflow/python/saved_model/load.py?line=978'>979</a>\u001b[0m         \u001b[39m\"\u001b[39m\u001b[39mfrom the computational device. Consider setting the \u001b[39m\u001b[39m\"\u001b[39m\n\u001b[1;32m    <a href='file:///home/acarlier/code/OrnithoScope/ornithoScope_virtualenv/lib/python3.8/site-packages/tensorflow/python/saved_model/load.py?line=979'>980</a>\u001b[0m         \u001b[39m\"\u001b[39m\u001b[39m`experimental_io_device` option in `tf.saved_model.LoadOptions` \u001b[39m\u001b[39m\"\u001b[39m\n\u001b[1;32m    <a href='file:///home/acarlier/code/OrnithoScope/ornithoScope_virtualenv/lib/python3.8/site-packages/tensorflow/python/saved_model/load.py?line=980'>981</a>\u001b[0m         \u001b[39m\"\u001b[39m\u001b[39mto the io_device such as \u001b[39m\u001b[39m'\u001b[39m\u001b[39m/job:localhost\u001b[39m\u001b[39m'\u001b[39m\u001b[39m.\u001b[39m\u001b[39m\"\u001b[39m)\n",
      "File \u001b[0;32m~/code/OrnithoScope/ornithoScope_virtualenv/lib/python3.8/site-packages/tensorflow/python/saved_model/load.py:149\u001b[0m, in \u001b[0;36mLoader.__init__\u001b[0;34m(self, object_graph_proto, saved_model_proto, export_dir, ckpt_options, save_options, filters)\u001b[0m\n\u001b[1;32m    <a href='file:///home/acarlier/code/OrnithoScope/ornithoScope_virtualenv/lib/python3.8/site-packages/tensorflow/python/saved_model/load.py?line=145'>146</a>\u001b[0m \u001b[39mself\u001b[39m\u001b[39m.\u001b[39m_proto \u001b[39m=\u001b[39m object_graph_proto\n\u001b[1;32m    <a href='file:///home/acarlier/code/OrnithoScope/ornithoScope_virtualenv/lib/python3.8/site-packages/tensorflow/python/saved_model/load.py?line=146'>147</a>\u001b[0m \u001b[39mself\u001b[39m\u001b[39m.\u001b[39m_export_dir \u001b[39m=\u001b[39m export_dir\n\u001b[1;32m    <a href='file:///home/acarlier/code/OrnithoScope/ornithoScope_virtualenv/lib/python3.8/site-packages/tensorflow/python/saved_model/load.py?line=147'>148</a>\u001b[0m \u001b[39mself\u001b[39m\u001b[39m.\u001b[39m_concrete_functions \u001b[39m=\u001b[39m (\n\u001b[0;32m--> <a href='file:///home/acarlier/code/OrnithoScope/ornithoScope_virtualenv/lib/python3.8/site-packages/tensorflow/python/saved_model/load.py?line=148'>149</a>\u001b[0m     function_deserialization\u001b[39m.\u001b[39;49mload_function_def_library(\n\u001b[1;32m    <a href='file:///home/acarlier/code/OrnithoScope/ornithoScope_virtualenv/lib/python3.8/site-packages/tensorflow/python/saved_model/load.py?line=149'>150</a>\u001b[0m         library\u001b[39m=\u001b[39;49mmeta_graph\u001b[39m.\u001b[39;49mgraph_def\u001b[39m.\u001b[39;49mlibrary,\n\u001b[1;32m    <a href='file:///home/acarlier/code/OrnithoScope/ornithoScope_virtualenv/lib/python3.8/site-packages/tensorflow/python/saved_model/load.py?line=150'>151</a>\u001b[0m         saved_object_graph\u001b[39m=\u001b[39;49m\u001b[39mself\u001b[39;49m\u001b[39m.\u001b[39;49m_proto,\n\u001b[1;32m    <a href='file:///home/acarlier/code/OrnithoScope/ornithoScope_virtualenv/lib/python3.8/site-packages/tensorflow/python/saved_model/load.py?line=151'>152</a>\u001b[0m         wrapper_function\u001b[39m=\u001b[39;49m_WrapperFunction))\n\u001b[1;32m    <a href='file:///home/acarlier/code/OrnithoScope/ornithoScope_virtualenv/lib/python3.8/site-packages/tensorflow/python/saved_model/load.py?line=152'>153</a>\u001b[0m \u001b[39m# Store a set of all concrete functions that have been set up with\u001b[39;00m\n\u001b[1;32m    <a href='file:///home/acarlier/code/OrnithoScope/ornithoScope_virtualenv/lib/python3.8/site-packages/tensorflow/python/saved_model/load.py?line=153'>154</a>\u001b[0m \u001b[39m# captures.\u001b[39;00m\n\u001b[1;32m    <a href='file:///home/acarlier/code/OrnithoScope/ornithoScope_virtualenv/lib/python3.8/site-packages/tensorflow/python/saved_model/load.py?line=154'>155</a>\u001b[0m \u001b[39mself\u001b[39m\u001b[39m.\u001b[39m_restored_concrete_functions \u001b[39m=\u001b[39m \u001b[39mset\u001b[39m()\n",
      "File \u001b[0;32m~/code/OrnithoScope/ornithoScope_virtualenv/lib/python3.8/site-packages/tensorflow/python/saved_model/function_deserialization.py:376\u001b[0m, in \u001b[0;36mload_function_def_library\u001b[0;34m(library, saved_object_graph, load_shared_name_suffix, wrapper_function)\u001b[0m\n\u001b[1;32m    <a href='file:///home/acarlier/code/OrnithoScope/ornithoScope_virtualenv/lib/python3.8/site-packages/tensorflow/python/saved_model/function_deserialization.py?line=373'>374</a>\u001b[0m loaded_gradients \u001b[39m=\u001b[39m {}\n\u001b[1;32m    <a href='file:///home/acarlier/code/OrnithoScope/ornithoScope_virtualenv/lib/python3.8/site-packages/tensorflow/python/saved_model/function_deserialization.py?line=374'>375</a>\u001b[0m \u001b[39mfor\u001b[39;00m fdef \u001b[39min\u001b[39;00m _sort_function_defs(library, function_deps):\n\u001b[0;32m--> <a href='file:///home/acarlier/code/OrnithoScope/ornithoScope_virtualenv/lib/python3.8/site-packages/tensorflow/python/saved_model/function_deserialization.py?line=375'>376</a>\u001b[0m   copy \u001b[39m=\u001b[39m _fix_fdef(fdef, functions, load_shared_name_suffix,\n\u001b[1;32m    <a href='file:///home/acarlier/code/OrnithoScope/ornithoScope_virtualenv/lib/python3.8/site-packages/tensorflow/python/saved_model/function_deserialization.py?line=376'>377</a>\u001b[0m                    new_gradient_op_types)\n\u001b[1;32m    <a href='file:///home/acarlier/code/OrnithoScope/ornithoScope_virtualenv/lib/python3.8/site-packages/tensorflow/python/saved_model/function_deserialization.py?line=378'>379</a>\u001b[0m   \u001b[39m# Setup function signatures and outputs\u001b[39;00m\n\u001b[1;32m    <a href='file:///home/acarlier/code/OrnithoScope/ornithoScope_virtualenv/lib/python3.8/site-packages/tensorflow/python/saved_model/function_deserialization.py?line=379'>380</a>\u001b[0m   \u001b[39m#\u001b[39;00m\n\u001b[1;32m    <a href='file:///home/acarlier/code/OrnithoScope/ornithoScope_virtualenv/lib/python3.8/site-packages/tensorflow/python/saved_model/function_deserialization.py?line=380'>381</a>\u001b[0m   \u001b[39m# When concrete functions are created normally (i.e. when they're originally\u001b[39;00m\n\u001b[0;32m   (...)\u001b[0m\n\u001b[1;32m    <a href='file:///home/acarlier/code/OrnithoScope/ornithoScope_virtualenv/lib/python3.8/site-packages/tensorflow/python/saved_model/function_deserialization.py?line=383'>384</a>\u001b[0m   \u001b[39m# original function, respectively. We don't have access to those anymore at\u001b[39;00m\n\u001b[1;32m    <a href='file:///home/acarlier/code/OrnithoScope/ornithoScope_virtualenv/lib/python3.8/site-packages/tensorflow/python/saved_model/function_deserialization.py?line=384'>385</a>\u001b[0m   \u001b[39m# restore time, so we must instead pass them to the FuncGraph explicitly.\u001b[39;00m\n\u001b[1;32m    <a href='file:///home/acarlier/code/OrnithoScope/ornithoScope_virtualenv/lib/python3.8/site-packages/tensorflow/python/saved_model/function_deserialization.py?line=385'>386</a>\u001b[0m   structured_input_signature \u001b[39m=\u001b[39m \u001b[39mNone\u001b[39;00m\n",
      "File \u001b[0;32m~/code/OrnithoScope/ornithoScope_virtualenv/lib/python3.8/site-packages/tensorflow/python/saved_model/function_deserialization.py:590\u001b[0m, in \u001b[0;36m_fix_fdef\u001b[0;34m(orig_fdef, functions, shared_name_suffix, new_gradient_op_types)\u001b[0m\n\u001b[1;32m    <a href='file:///home/acarlier/code/OrnithoScope/ornithoScope_virtualenv/lib/python3.8/site-packages/tensorflow/python/saved_model/function_deserialization.py?line=586'>587</a>\u001b[0m contains_unsaved_custom_gradients \u001b[39m=\u001b[39m \u001b[39mFalse\u001b[39;00m\n\u001b[1;32m    <a href='file:///home/acarlier/code/OrnithoScope/ornithoScope_virtualenv/lib/python3.8/site-packages/tensorflow/python/saved_model/function_deserialization.py?line=588'>589</a>\u001b[0m \u001b[39mfor\u001b[39;00m node_def \u001b[39min\u001b[39;00m fdef\u001b[39m.\u001b[39mnode_def:\n\u001b[0;32m--> <a href='file:///home/acarlier/code/OrnithoScope/ornithoScope_virtualenv/lib/python3.8/site-packages/tensorflow/python/saved_model/function_deserialization.py?line=589'>590</a>\u001b[0m   fix_node_def(node_def, functions, shared_name_suffix)\n\u001b[1;32m    <a href='file:///home/acarlier/code/OrnithoScope/ornithoScope_virtualenv/lib/python3.8/site-packages/tensorflow/python/saved_model/function_deserialization.py?line=590'>591</a>\u001b[0m   op_type \u001b[39m=\u001b[39m _get_gradient_op_type(node_def)\n\u001b[1;32m    <a href='file:///home/acarlier/code/OrnithoScope/ornithoScope_virtualenv/lib/python3.8/site-packages/tensorflow/python/saved_model/function_deserialization.py?line=591'>592</a>\u001b[0m   \u001b[39mif\u001b[39;00m op_type \u001b[39mis\u001b[39;00m \u001b[39mnot\u001b[39;00m \u001b[39mNone\u001b[39;00m:\n",
      "File \u001b[0;32m~/code/OrnithoScope/ornithoScope_virtualenv/lib/python3.8/site-packages/tensorflow/python/saved_model/function_deserialization.py:534\u001b[0m, in \u001b[0;36mfix_node_def\u001b[0;34m(node_def, functions, shared_name_suffix)\u001b[0m\n\u001b[1;32m    <a href='file:///home/acarlier/code/OrnithoScope/ornithoScope_virtualenv/lib/python3.8/site-packages/tensorflow/python/saved_model/function_deserialization.py?line=531'>532</a>\u001b[0m     attr_value\u001b[39m.\u001b[39mfunc\u001b[39m.\u001b[39mname \u001b[39m=\u001b[39m functions[attr_value\u001b[39m.\u001b[39mfunc\u001b[39m.\u001b[39mname]\u001b[39m.\u001b[39mname\n\u001b[1;32m    <a href='file:///home/acarlier/code/OrnithoScope/ornithoScope_virtualenv/lib/python3.8/site-packages/tensorflow/python/saved_model/function_deserialization.py?line=532'>533</a>\u001b[0m   \u001b[39melif\u001b[39;00m attr_value\u001b[39m.\u001b[39mWhichOneof(\u001b[39m\"\u001b[39m\u001b[39mvalue\u001b[39m\u001b[39m\"\u001b[39m) \u001b[39m==\u001b[39m \u001b[39m\"\u001b[39m\u001b[39mlist\u001b[39m\u001b[39m\"\u001b[39m:\n\u001b[0;32m--> <a href='file:///home/acarlier/code/OrnithoScope/ornithoScope_virtualenv/lib/python3.8/site-packages/tensorflow/python/saved_model/function_deserialization.py?line=533'>534</a>\u001b[0m     \u001b[39mfor\u001b[39;00m fn \u001b[39min\u001b[39;00m attr_value\u001b[39m.\u001b[39mlist\u001b[39m.\u001b[39mfunc:\n\u001b[1;32m    <a href='file:///home/acarlier/code/OrnithoScope/ornithoScope_virtualenv/lib/python3.8/site-packages/tensorflow/python/saved_model/function_deserialization.py?line=534'>535</a>\u001b[0m       fn\u001b[39m.\u001b[39mname \u001b[39m=\u001b[39m functions[fn\u001b[39m.\u001b[39mname]\u001b[39m.\u001b[39mname\n\u001b[1;32m    <a href='file:///home/acarlier/code/OrnithoScope/ornithoScope_virtualenv/lib/python3.8/site-packages/tensorflow/python/saved_model/function_deserialization.py?line=536'>537</a>\u001b[0m \u001b[39m# Fix old table creation bug.\u001b[39;00m\n",
      "\u001b[0;31mKeyboardInterrupt\u001b[0m: "
     ]
    }
   ],
   "source": [
    "model = object_detector.create(train_data, model_spec=spec, epochs=50, batch_size=8, train_whole_model=True, validation_data=validation_data)"
   ]
  },
  {
   "cell_type": "code",
   "execution_count": 7,
   "id": "5c10217f",
   "metadata": {},
   "outputs": [
    {
     "name": "stdout",
     "output_type": "stream",
     "text": [
      "55/55 [==============================] - 104s 1s/step\n",
      "\n"
     ]
    },
    {
     "data": {
      "text/plain": [
       "{'AP': 0.44256458,\n",
       " 'AP50': 0.5849199,\n",
       " 'AP75': 0.49843588,\n",
       " 'APs': 0.0,\n",
       " 'APm': 0.0,\n",
       " 'APl': 0.4427226,\n",
       " 'ARmax1': 0.61067027,\n",
       " 'ARmax10': 0.68151987,\n",
       " 'ARmax100': 0.68543166,\n",
       " 'ARs': 0.0,\n",
       " 'ARm': 0.0,\n",
       " 'ARl': 0.6856036,\n",
       " 'AP_/MESCHA': 0.6608563,\n",
       " 'AP_/SITTOR': 0.23225628,\n",
       " 'AP_/MESBLE': 0.45923606,\n",
       " 'AP_/MESNON': 0.44640568,\n",
       " 'AP_/PINARB': 0.6586634,\n",
       " 'AP_/ACCMOU': 0.45011985,\n",
       " 'AP_/ROUGOR': 0.291742,\n",
       " 'AP_/VEREUR': 0.8040663,\n",
       " 'AP_/MOIDOM': 0.04796806,\n",
       " 'AP_/TOUTUR': 0.45361435,\n",
       " 'AP_/ECUROU': 0.7086992,\n",
       " 'AP_/PIEBAV': 0.79749256,\n",
       " 'AP_/MULGRI': 0.02553748,\n",
       " 'AP_/CAMPAG': -1.0,\n",
       " 'AP_/MESNOI': 0.15924649,\n",
       " 'AP_/MESHUP': -1.0}"
      ]
     },
     "execution_count": 7,
     "metadata": {},
     "output_type": "execute_result"
    }
   ],
   "source": [
    "model.evaluate(test_data)"
   ]
  },
  {
   "cell_type": "code",
   "execution_count": null,
   "id": "caefaeac",
   "metadata": {},
   "outputs": [],
   "source": []
  }
 ],
 "metadata": {
  "kernelspec": {
   "display_name": "Python 3 (ipykernel)",
   "language": "python",
   "name": "python3"
  },
  "language_info": {
   "codemirror_mode": {
    "name": "ipython",
    "version": 3
   },
   "file_extension": ".py",
   "mimetype": "text/x-python",
   "name": "python",
   "nbconvert_exporter": "python",
   "pygments_lexer": "ipython3",
   "version": "3.8.10"
  }
 },
 "nbformat": 4,
 "nbformat_minor": 5
}

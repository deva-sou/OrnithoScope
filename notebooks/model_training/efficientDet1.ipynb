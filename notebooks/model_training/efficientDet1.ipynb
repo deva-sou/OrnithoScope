{
 "cells": [
  {
   "cell_type": "code",
   "execution_count": 1,
   "id": "57a6e8d9",
   "metadata": {
    "collapsed": false,
    "pycharm": {
     "name": "#%%\n"
    }
   },
   "outputs": [
    {
     "name": "stdout",
     "output_type": "stream",
     "text": [
      "<module 'tensorflow._api.v2.version' from '/home/deva/code/OrnithoScope/ornithoScope_virtualenv/lib/python3.8/site-packages/tensorflow/_api/v2/version/__init__.py'>\n",
      "GPU available?  True\n"
     ]
    },
    {
     "name": "stderr",
     "output_type": "stream",
     "text": [
      "2022-03-18 12:15:17.155369: I tensorflow/core/platform/cpu_feature_guard.cc:151] This TensorFlow binary is optimized with oneAPI Deep Neural Network Library (oneDNN) to use the following CPU instructions in performance-critical operations:  AVX2 FMA\n",
      "To enable them in other operations, rebuild TensorFlow with the appropriate compiler flags.\n",
      "2022-03-18 12:15:17.179362: I tensorflow/stream_executor/cuda/cuda_gpu_executor.cc:936] successful NUMA node read from SysFS had negative value (-1), but there must be at least one NUMA node, so returning NUMA node zero\n",
      "2022-03-18 12:15:17.249297: I tensorflow/stream_executor/cuda/cuda_gpu_executor.cc:936] successful NUMA node read from SysFS had negative value (-1), but there must be at least one NUMA node, so returning NUMA node zero\n",
      "2022-03-18 12:15:17.249553: I tensorflow/stream_executor/cuda/cuda_gpu_executor.cc:936] successful NUMA node read from SysFS had negative value (-1), but there must be at least one NUMA node, so returning NUMA node zero\n",
      "2022-03-18 12:15:18.119315: I tensorflow/stream_executor/cuda/cuda_gpu_executor.cc:936] successful NUMA node read from SysFS had negative value (-1), but there must be at least one NUMA node, so returning NUMA node zero\n",
      "2022-03-18 12:15:18.119489: I tensorflow/stream_executor/cuda/cuda_gpu_executor.cc:936] successful NUMA node read from SysFS had negative value (-1), but there must be at least one NUMA node, so returning NUMA node zero\n",
      "2022-03-18 12:15:18.119621: I tensorflow/stream_executor/cuda/cuda_gpu_executor.cc:936] successful NUMA node read from SysFS had negative value (-1), but there must be at least one NUMA node, so returning NUMA node zero\n",
      "2022-03-18 12:15:18.120319: I tensorflow/core/common_runtime/gpu/gpu_device.cc:1525] Created device /device:GPU:0 with 5691 MB memory:  -> device: 0, name: NVIDIA GeForce RTX 3070, pci bus id: 0000:01:00.0, compute capability: 8.6\n"
     ]
    }
   ],
   "source": [
    "import numpy as np\n",
    "import os\n",
    "import tensorflow as tf\n",
    "print(tf.version)\n",
    "from tflite_model_maker.config import ExportFormat\n",
    "from tflite_model_maker import model_spec\n",
    "from tflite_model_maker import object_detector\n",
    "\n",
    "assert tf.__version__.startswith('2')\n",
    "tf.get_logger().setLevel('ERROR')\n",
    "from absl import logging\n",
    "logging.set_verbosity(logging.ERROR)\n",
    "print(\"GPU available? \",tf.test.is_gpu_available())"
   ]
  },
  {
   "cell_type": "code",
   "execution_count": 2,
   "id": "69b8efba",
   "metadata": {
    "collapsed": false,
    "pycharm": {
     "name": "#%%\n"
    }
   },
   "outputs": [
    {
     "name": "stderr",
     "output_type": "stream",
     "text": [
      "2022-03-18 12:15:28.169345: I tensorflow/stream_executor/cuda/cuda_gpu_executor.cc:936] successful NUMA node read from SysFS had negative value (-1), but there must be at least one NUMA node, so returning NUMA node zero\n",
      "2022-03-18 12:15:28.169565: I tensorflow/stream_executor/cuda/cuda_gpu_executor.cc:936] successful NUMA node read from SysFS had negative value (-1), but there must be at least one NUMA node, so returning NUMA node zero\n",
      "2022-03-18 12:15:28.169666: I tensorflow/stream_executor/cuda/cuda_gpu_executor.cc:936] successful NUMA node read from SysFS had negative value (-1), but there must be at least one NUMA node, so returning NUMA node zero\n",
      "2022-03-18 12:15:28.170817: I tensorflow/stream_executor/cuda/cuda_gpu_executor.cc:936] successful NUMA node read from SysFS had negative value (-1), but there must be at least one NUMA node, so returning NUMA node zero\n",
      "2022-03-18 12:15:28.170925: I tensorflow/stream_executor/cuda/cuda_gpu_executor.cc:936] successful NUMA node read from SysFS had negative value (-1), but there must be at least one NUMA node, so returning NUMA node zero\n",
      "2022-03-18 12:15:28.171021: I tensorflow/stream_executor/cuda/cuda_gpu_executor.cc:936] successful NUMA node read from SysFS had negative value (-1), but there must be at least one NUMA node, so returning NUMA node zero\n",
      "2022-03-18 12:15:28.171147: I tensorflow/stream_executor/cuda/cuda_gpu_executor.cc:936] successful NUMA node read from SysFS had negative value (-1), but there must be at least one NUMA node, so returning NUMA node zero\n",
      "2022-03-18 12:15:28.171247: I tensorflow/stream_executor/cuda/cuda_gpu_executor.cc:936] successful NUMA node read from SysFS had negative value (-1), but there must be at least one NUMA node, so returning NUMA node zero\n",
      "2022-03-18 12:15:28.171311: I tensorflow/core/common_runtime/gpu/gpu_device.cc:1525] Created device /job:localhost/replica:0/task:0/device:GPU:0 with 5691 MB memory:  -> device: 0, name: NVIDIA GeForce RTX 3070, pci bus id: 0000:01:00.0, compute capability: 8.6\n"
     ]
    }
   ],
   "source": [
    "spec = model_spec.get('efficientdet_lite1')"
   ]
  },
  {
   "cell_type": "code",
   "execution_count": 3,
   "id": "883e8d6a",
   "metadata": {},
   "outputs": [],
   "source": [
    "train_data, validation_data, test_data = object_detector.DataLoader.from_csv('/home/acarlier/code/OrnithoScope/data/input.csv')"
   ]
  },
  {
   "cell_type": "code",
   "execution_count": 4,
   "id": "2642773e",
   "metadata": {},
   "outputs": [
    {
     "name": "stdout",
     "output_type": "stream",
     "text": [
      "Epoch 1/50\n"
     ]
    },
    {
     "name": "stderr",
     "output_type": "stream",
     "text": [
      "2022-03-16 10:34:36.238800: I tensorflow/stream_executor/cuda/cuda_dnn.cc:368] Loaded cuDNN version 8302\n"
     ]
    },
    {
     "name": "stdout",
     "output_type": "stream",
     "text": [
      "1052/1052 [==============================] - 345s 284ms/step - det_loss: 0.7273 - cls_loss: 0.5474 - box_loss: 0.0036 - reg_l2_loss: 0.0738 - loss: 0.8012 - learning_rate: 0.0090 - gradient_norm: 3.0923 - val_det_loss: 0.8679 - val_cls_loss: 0.6565 - val_box_loss: 0.0042 - val_reg_l2_loss: 0.0744 - val_loss: 0.9424\n",
      "Epoch 2/50\n",
      "1052/1052 [==============================] - 280s 266ms/step - det_loss: 0.5015 - cls_loss: 0.3742 - box_loss: 0.0025 - reg_l2_loss: 0.0749 - loss: 0.5765 - learning_rate: 0.0100 - gradient_norm: 2.6088 - val_det_loss: 0.6050 - val_cls_loss: 0.4991 - val_box_loss: 0.0021 - val_reg_l2_loss: 0.0754 - val_loss: 0.6803\n",
      "Epoch 3/50\n",
      "1052/1052 [==============================] - 277s 263ms/step - det_loss: 0.4595 - cls_loss: 0.3465 - box_loss: 0.0023 - reg_l2_loss: 0.0757 - loss: 0.5352 - learning_rate: 0.0099 - gradient_norm: 2.3584 - val_det_loss: 0.5267 - val_cls_loss: 0.4537 - val_box_loss: 0.0015 - val_reg_l2_loss: 0.0761 - val_loss: 0.6028\n",
      "Epoch 4/50\n",
      "1052/1052 [==============================] - 284s 270ms/step - det_loss: 0.4342 - cls_loss: 0.3300 - box_loss: 0.0021 - reg_l2_loss: 0.0764 - loss: 0.5106 - learning_rate: 0.0099 - gradient_norm: 2.2927 - val_det_loss: 0.5107 - val_cls_loss: 0.4223 - val_box_loss: 0.0018 - val_reg_l2_loss: 0.0767 - val_loss: 0.5874\n",
      "Epoch 5/50\n",
      "1052/1052 [==============================] - 332s 316ms/step - det_loss: 0.4209 - cls_loss: 0.3199 - box_loss: 0.0020 - reg_l2_loss: 0.0769 - loss: 0.4979 - learning_rate: 0.0098 - gradient_norm: 2.1955 - val_det_loss: 0.5894 - val_cls_loss: 0.4714 - val_box_loss: 0.0024 - val_reg_l2_loss: 0.0772 - val_loss: 0.6666\n",
      "Epoch 6/50\n",
      "1052/1052 [==============================] - 304s 289ms/step - det_loss: 0.4053 - cls_loss: 0.3081 - box_loss: 0.0019 - reg_l2_loss: 0.0774 - loss: 0.4827 - learning_rate: 0.0097 - gradient_norm: 2.1855 - val_det_loss: 0.5957 - val_cls_loss: 0.4608 - val_box_loss: 0.0027 - val_reg_l2_loss: 0.0776 - val_loss: 0.6733\n",
      "Epoch 7/50\n",
      "1052/1052 [==============================] - 272s 259ms/step - det_loss: 0.3927 - cls_loss: 0.2978 - box_loss: 0.0019 - reg_l2_loss: 0.0779 - loss: 0.4705 - learning_rate: 0.0096 - gradient_norm: 2.2077 - val_det_loss: 0.5662 - val_cls_loss: 0.4831 - val_box_loss: 0.0017 - val_reg_l2_loss: 0.0781 - val_loss: 0.6443\n",
      "Epoch 8/50\n",
      "1052/1052 [==============================] - 264s 251ms/step - det_loss: 0.3770 - cls_loss: 0.2876 - box_loss: 0.0018 - reg_l2_loss: 0.0783 - loss: 0.4553 - learning_rate: 0.0094 - gradient_norm: 2.1941 - val_det_loss: 0.4954 - val_cls_loss: 0.4131 - val_box_loss: 0.0016 - val_reg_l2_loss: 0.0785 - val_loss: 0.5739\n",
      "Epoch 9/50\n",
      "1052/1052 [==============================] - 269s 256ms/step - det_loss: 0.3721 - cls_loss: 0.2825 - box_loss: 0.0018 - reg_l2_loss: 0.0788 - loss: 0.4509 - learning_rate: 0.0093 - gradient_norm: 2.1926 - val_det_loss: 0.5011 - val_cls_loss: 0.4392 - val_box_loss: 0.0012 - val_reg_l2_loss: 0.0789 - val_loss: 0.5800\n",
      "Epoch 10/50\n",
      "1052/1052 [==============================] - 292s 278ms/step - det_loss: 0.3612 - cls_loss: 0.2753 - box_loss: 0.0017 - reg_l2_loss: 0.0791 - loss: 0.4404 - learning_rate: 0.0091 - gradient_norm: 2.1249 - val_det_loss: 0.5409 - val_cls_loss: 0.4450 - val_box_loss: 0.0019 - val_reg_l2_loss: 0.0793 - val_loss: 0.6202\n",
      "Epoch 11/50\n",
      "1052/1052 [==============================] - 270s 257ms/step - det_loss: 0.3493 - cls_loss: 0.2657 - box_loss: 0.0017 - reg_l2_loss: 0.0795 - loss: 0.4287 - learning_rate: 0.0089 - gradient_norm: 2.1394 - val_det_loss: 0.5705 - val_cls_loss: 0.4785 - val_box_loss: 0.0018 - val_reg_l2_loss: 0.0796 - val_loss: 0.6501\n",
      "Epoch 12/50\n",
      "1052/1052 [==============================] - 280s 266ms/step - det_loss: 0.3352 - cls_loss: 0.2552 - box_loss: 0.0016 - reg_l2_loss: 0.0798 - loss: 0.4150 - learning_rate: 0.0087 - gradient_norm: 2.1803 - val_det_loss: 0.4801 - val_cls_loss: 0.4306 - val_box_loss: 9.9001e-04 - val_reg_l2_loss: 0.0800 - val_loss: 0.5600\n",
      "Epoch 13/50\n",
      "1052/1052 [==============================] - 278s 264ms/step - det_loss: 0.3287 - cls_loss: 0.2493 - box_loss: 0.0016 - reg_l2_loss: 0.0802 - loss: 0.4089 - learning_rate: 0.0085 - gradient_norm: 2.2031 - val_det_loss: 0.5869 - val_cls_loss: 0.5380 - val_box_loss: 9.7723e-04 - val_reg_l2_loss: 0.0803 - val_loss: 0.6672\n",
      "Epoch 14/50\n",
      "1052/1052 [==============================] - 269s 256ms/step - det_loss: 0.3235 - cls_loss: 0.2436 - box_loss: 0.0016 - reg_l2_loss: 0.0805 - loss: 0.4040 - learning_rate: 0.0082 - gradient_norm: 2.1611 - val_det_loss: 0.5260 - val_cls_loss: 0.4686 - val_box_loss: 0.0011 - val_reg_l2_loss: 0.0806 - val_loss: 0.6065\n",
      "Epoch 15/50\n",
      "1052/1052 [==============================] - 288s 274ms/step - det_loss: 0.3154 - cls_loss: 0.2387 - box_loss: 0.0015 - reg_l2_loss: 0.0807 - loss: 0.3962 - learning_rate: 0.0080 - gradient_norm: 2.2211 - val_det_loss: 0.4092 - val_cls_loss: 0.3413 - val_box_loss: 0.0014 - val_reg_l2_loss: 0.0808 - val_loss: 0.4900\n",
      "Epoch 16/50\n",
      "1052/1052 [==============================] - 266s 252ms/step - det_loss: 0.3028 - cls_loss: 0.2283 - box_loss: 0.0015 - reg_l2_loss: 0.0810 - loss: 0.3838 - learning_rate: 0.0077 - gradient_norm: 2.1631 - val_det_loss: 0.4357 - val_cls_loss: 0.3566 - val_box_loss: 0.0016 - val_reg_l2_loss: 0.0811 - val_loss: 0.5167\n",
      "Epoch 17/50\n",
      "1052/1052 [==============================] - 266s 253ms/step - det_loss: 0.3036 - cls_loss: 0.2291 - box_loss: 0.0015 - reg_l2_loss: 0.0812 - loss: 0.3848 - learning_rate: 0.0075 - gradient_norm: 2.1420 - val_det_loss: 0.4399 - val_cls_loss: 0.3989 - val_box_loss: 8.2034e-04 - val_reg_l2_loss: 0.0813 - val_loss: 0.5212\n",
      "Epoch 18/50\n",
      "1052/1052 [==============================] - 264s 251ms/step - det_loss: 0.2929 - cls_loss: 0.2202 - box_loss: 0.0015 - reg_l2_loss: 0.0814 - loss: 0.3743 - learning_rate: 0.0072 - gradient_norm: 2.2420 - val_det_loss: 0.4022 - val_cls_loss: 0.3506 - val_box_loss: 0.0010 - val_reg_l2_loss: 0.0815 - val_loss: 0.4837\n",
      "Epoch 19/50\n",
      "1052/1052 [==============================] - 267s 254ms/step - det_loss: 0.2861 - cls_loss: 0.2150 - box_loss: 0.0014 - reg_l2_loss: 0.0815 - loss: 0.3676 - learning_rate: 0.0069 - gradient_norm: 2.1554 - val_det_loss: 0.3770 - val_cls_loss: 0.3093 - val_box_loss: 0.0014 - val_reg_l2_loss: 0.0816 - val_loss: 0.4585\n",
      "Epoch 20/50\n",
      "1052/1052 [==============================] - 290s 276ms/step - det_loss: 0.2789 - cls_loss: 0.2100 - box_loss: 0.0014 - reg_l2_loss: 0.0817 - loss: 0.3606 - learning_rate: 0.0066 - gradient_norm: 2.1701 - val_det_loss: 0.5422 - val_cls_loss: 0.4580 - val_box_loss: 0.0017 - val_reg_l2_loss: 0.0817 - val_loss: 0.6238\n",
      "Epoch 21/50\n",
      "1052/1052 [==============================] - 264s 251ms/step - det_loss: 0.2763 - cls_loss: 0.2091 - box_loss: 0.0013 - reg_l2_loss: 0.0818 - loss: 0.3581 - learning_rate: 0.0063 - gradient_norm: 2.1929 - val_det_loss: 0.5173 - val_cls_loss: 0.4483 - val_box_loss: 0.0014 - val_reg_l2_loss: 0.0818 - val_loss: 0.5991\n",
      "Epoch 22/50\n",
      "1052/1052 [==============================] - 267s 254ms/step - det_loss: 0.2690 - cls_loss: 0.2017 - box_loss: 0.0013 - reg_l2_loss: 0.0819 - loss: 0.3509 - learning_rate: 0.0060 - gradient_norm: 2.2596 - val_det_loss: 0.3846 - val_cls_loss: 0.3404 - val_box_loss: 8.8432e-04 - val_reg_l2_loss: 0.0819 - val_loss: 0.4665\n",
      "Epoch 23/50\n",
      "1052/1052 [==============================] - 263s 250ms/step - det_loss: 0.2630 - cls_loss: 0.1969 - box_loss: 0.0013 - reg_l2_loss: 0.0819 - loss: 0.3449 - learning_rate: 0.0056 - gradient_norm: 2.2174 - val_det_loss: 0.4429 - val_cls_loss: 0.3670 - val_box_loss: 0.0015 - val_reg_l2_loss: 0.0819 - val_loss: 0.5249\n",
      "Epoch 24/50\n",
      "1052/1052 [==============================] - 266s 252ms/step - det_loss: 0.2606 - cls_loss: 0.1960 - box_loss: 0.0013 - reg_l2_loss: 0.0820 - loss: 0.3425 - learning_rate: 0.0053 - gradient_norm: 2.2024 - val_det_loss: 0.4229 - val_cls_loss: 0.3849 - val_box_loss: 7.6010e-04 - val_reg_l2_loss: 0.0820 - val_loss: 0.5049\n",
      "Epoch 25/50\n",
      "1052/1052 [==============================] - 286s 272ms/step - det_loss: 0.2563 - cls_loss: 0.1935 - box_loss: 0.0013 - reg_l2_loss: 0.0820 - loss: 0.3383 - learning_rate: 0.0050 - gradient_norm: 2.3020 - val_det_loss: 0.4056 - val_cls_loss: 0.3548 - val_box_loss: 0.0010 - val_reg_l2_loss: 0.0820 - val_loss: 0.4876\n",
      "Epoch 26/50\n",
      "1052/1052 [==============================] - 267s 253ms/step - det_loss: 0.2470 - cls_loss: 0.1855 - box_loss: 0.0012 - reg_l2_loss: 0.0820 - loss: 0.3290 - learning_rate: 0.0047 - gradient_norm: 2.2583 - val_det_loss: 0.3056 - val_cls_loss: 0.2621 - val_box_loss: 8.7035e-04 - val_reg_l2_loss: 0.0820 - val_loss: 0.3877\n",
      "Epoch 27/50\n",
      "1052/1052 [==============================] - 266s 252ms/step - det_loss: 0.2446 - cls_loss: 0.1837 - box_loss: 0.0012 - reg_l2_loss: 0.0820 - loss: 0.3266 - learning_rate: 0.0044 - gradient_norm: 2.2532 - val_det_loss: 0.4479 - val_cls_loss: 0.4125 - val_box_loss: 7.0828e-04 - val_reg_l2_loss: 0.0820 - val_loss: 0.5299\n",
      "Epoch 28/50\n",
      "1052/1052 [==============================] - 266s 252ms/step - det_loss: 0.2368 - cls_loss: 0.1775 - box_loss: 0.0012 - reg_l2_loss: 0.0820 - loss: 0.3188 - learning_rate: 0.0040 - gradient_norm: 2.1803 - val_det_loss: 0.3299 - val_cls_loss: 0.2695 - val_box_loss: 0.0012 - val_reg_l2_loss: 0.0820 - val_loss: 0.4118\n",
      "Epoch 29/50\n",
      "1052/1052 [==============================] - 267s 254ms/step - det_loss: 0.2375 - cls_loss: 0.1781 - box_loss: 0.0012 - reg_l2_loss: 0.0819 - loss: 0.3194 - learning_rate: 0.0037 - gradient_norm: 2.2362 - val_det_loss: 0.3218 - val_cls_loss: 0.2773 - val_box_loss: 8.9042e-04 - val_reg_l2_loss: 0.0819 - val_loss: 0.4037\n",
      "Epoch 30/50\n",
      "1052/1052 [==============================] - 291s 276ms/step - det_loss: 0.2329 - cls_loss: 0.1751 - box_loss: 0.0012 - reg_l2_loss: 0.0819 - loss: 0.3148 - learning_rate: 0.0034 - gradient_norm: 2.2191 - val_det_loss: 0.3379 - val_cls_loss: 0.2846 - val_box_loss: 0.0011 - val_reg_l2_loss: 0.0819 - val_loss: 0.4197\n",
      "Epoch 31/50\n",
      "1052/1052 [==============================] - 265s 252ms/step - det_loss: 0.2250 - cls_loss: 0.1679 - box_loss: 0.0011 - reg_l2_loss: 0.0818 - loss: 0.3068 - learning_rate: 0.0031 - gradient_norm: 2.2139 - val_det_loss: 0.3612 - val_cls_loss: 0.3295 - val_box_loss: 6.3378e-04 - val_reg_l2_loss: 0.0818 - val_loss: 0.4430\n",
      "Epoch 32/50\n",
      "1052/1052 [==============================] - 264s 251ms/step - det_loss: 0.2200 - cls_loss: 0.1656 - box_loss: 0.0011 - reg_l2_loss: 0.0817 - loss: 0.3017 - learning_rate: 0.0028 - gradient_norm: 2.1581 - val_det_loss: 0.2620 - val_cls_loss: 0.2309 - val_box_loss: 6.2176e-04 - val_reg_l2_loss: 0.0817 - val_loss: 0.3437\n",
      "Epoch 33/50\n",
      "1052/1052 [==============================] - 266s 253ms/step - det_loss: 0.2160 - cls_loss: 0.1624 - box_loss: 0.0011 - reg_l2_loss: 0.0817 - loss: 0.2977 - learning_rate: 0.0025 - gradient_norm: 2.1986 - val_det_loss: 0.2741 - val_cls_loss: 0.2416 - val_box_loss: 6.4946e-04 - val_reg_l2_loss: 0.0816 - val_loss: 0.3557\n",
      "Epoch 34/50\n",
      "1052/1052 [==============================] - 268s 254ms/step - det_loss: 0.2157 - cls_loss: 0.1622 - box_loss: 0.0011 - reg_l2_loss: 0.0816 - loss: 0.2973 - learning_rate: 0.0023 - gradient_norm: 2.2225 - val_det_loss: 0.2980 - val_cls_loss: 0.2522 - val_box_loss: 9.1619e-04 - val_reg_l2_loss: 0.0816 - val_loss: 0.3795\n",
      "Epoch 35/50\n",
      "1052/1052 [==============================] - 290s 275ms/step - det_loss: 0.2085 - cls_loss: 0.1570 - box_loss: 0.0010 - reg_l2_loss: 0.0815 - loss: 0.2900 - learning_rate: 0.0020 - gradient_norm: 2.1722 - val_det_loss: 0.2815 - val_cls_loss: 0.2545 - val_box_loss: 5.3904e-04 - val_reg_l2_loss: 0.0815 - val_loss: 0.3629\n",
      "Epoch 36/50\n",
      "1052/1052 [==============================] - 264s 251ms/step - det_loss: 0.2069 - cls_loss: 0.1558 - box_loss: 0.0010 - reg_l2_loss: 0.0814 - loss: 0.2884 - learning_rate: 0.0018 - gradient_norm: 2.2251 - val_det_loss: 0.2617 - val_cls_loss: 0.2195 - val_box_loss: 8.4356e-04 - val_reg_l2_loss: 0.0814 - val_loss: 0.3431\n",
      "Epoch 37/50\n",
      "1052/1052 [==============================] - 264s 251ms/step - det_loss: 0.2047 - cls_loss: 0.1541 - box_loss: 0.0010 - reg_l2_loss: 0.0814 - loss: 0.2861 - learning_rate: 0.0015 - gradient_norm: 2.2170 - val_det_loss: 0.2445 - val_cls_loss: 0.2114 - val_box_loss: 6.6283e-04 - val_reg_l2_loss: 0.0813 - val_loss: 0.3258\n",
      "Epoch 38/50\n",
      "1052/1052 [==============================] - 266s 252ms/step - det_loss: 0.2017 - cls_loss: 0.1521 - box_loss: 9.9196e-04 - reg_l2_loss: 0.0813 - loss: 0.2830 - learning_rate: 0.0013 - gradient_norm: 2.1830 - val_det_loss: 0.2519 - val_cls_loss: 0.2205 - val_box_loss: 6.2999e-04 - val_reg_l2_loss: 0.0813 - val_loss: 0.3332\n",
      "Epoch 39/50\n",
      "1052/1052 [==============================] - 265s 252ms/step - det_loss: 0.1979 - cls_loss: 0.1496 - box_loss: 9.6716e-04 - reg_l2_loss: 0.0813 - loss: 0.2792 - learning_rate: 0.0011 - gradient_norm: 2.1500 - val_det_loss: 0.2519 - val_cls_loss: 0.2236 - val_box_loss: 5.6533e-04 - val_reg_l2_loss: 0.0812 - val_loss: 0.3331\n",
      "Epoch 40/50\n",
      "1052/1052 [==============================] - 286s 272ms/step - det_loss: 0.1999 - cls_loss: 0.1500 - box_loss: 9.9893e-04 - reg_l2_loss: 0.0812 - loss: 0.2812 - learning_rate: 8.9984e-04 - gradient_norm: 2.1903 - val_det_loss: 0.2500 - val_cls_loss: 0.2242 - val_box_loss: 5.1689e-04 - val_reg_l2_loss: 0.0812 - val_loss: 0.3312\n",
      "Epoch 41/50\n",
      "1052/1052 [==============================] - 263s 250ms/step - det_loss: 0.1976 - cls_loss: 0.1474 - box_loss: 0.0010 - reg_l2_loss: 0.0812 - loss: 0.2788 - learning_rate: 7.2502e-04 - gradient_norm: 2.1787 - val_det_loss: 0.2392 - val_cls_loss: 0.2163 - val_box_loss: 4.5678e-04 - val_reg_l2_loss: 0.0812 - val_loss: 0.3203\n",
      "Epoch 42/50\n",
      "1052/1052 [==============================] - 265s 252ms/step - det_loss: 0.1936 - cls_loss: 0.1456 - box_loss: 9.5904e-04 - reg_l2_loss: 0.0811 - loss: 0.2747 - learning_rate: 5.6776e-04 - gradient_norm: 2.1630 - val_det_loss: 0.2541 - val_cls_loss: 0.2264 - val_box_loss: 5.5421e-04 - val_reg_l2_loss: 0.0811 - val_loss: 0.3352\n",
      "Epoch 43/50\n",
      "1052/1052 [==============================] - 265s 252ms/step - det_loss: 0.1920 - cls_loss: 0.1445 - box_loss: 9.5070e-04 - reg_l2_loss: 0.0811 - loss: 0.2732 - learning_rate: 4.2872e-04 - gradient_norm: 2.1882 - val_det_loss: 0.2612 - val_cls_loss: 0.2350 - val_box_loss: 5.2386e-04 - val_reg_l2_loss: 0.0811 - val_loss: 0.3423\n",
      "Epoch 44/50\n",
      "1052/1052 [==============================] - 264s 251ms/step - det_loss: 0.1907 - cls_loss: 0.1435 - box_loss: 9.4526e-04 - reg_l2_loss: 0.0811 - loss: 0.2718 - learning_rate: 3.0846e-04 - gradient_norm: 2.1557 - val_det_loss: 0.2466 - val_cls_loss: 0.2192 - val_box_loss: 5.4713e-04 - val_reg_l2_loss: 0.0811 - val_loss: 0.3277\n",
      "Epoch 45/50\n",
      "1052/1052 [==============================] - 290s 275ms/step - det_loss: 0.1918 - cls_loss: 0.1431 - box_loss: 9.7271e-04 - reg_l2_loss: 0.0811 - loss: 0.2728 - learning_rate: 2.0748e-04 - gradient_norm: 2.1265 - val_det_loss: 0.2574 - val_cls_loss: 0.2281 - val_box_loss: 5.8611e-04 - val_reg_l2_loss: 0.0811 - val_loss: 0.3385\n",
      "Epoch 46/50\n",
      "1052/1052 [==============================] - 268s 254ms/step - det_loss: 0.1905 - cls_loss: 0.1423 - box_loss: 9.6490e-04 - reg_l2_loss: 0.0811 - loss: 0.2716 - learning_rate: 1.2620e-04 - gradient_norm: 2.1374 - val_det_loss: 0.2490 - val_cls_loss: 0.2217 - val_box_loss: 5.4438e-04 - val_reg_l2_loss: 0.0811 - val_loss: 0.3300\n",
      "Epoch 47/50\n",
      "1052/1052 [==============================] - 269s 256ms/step - det_loss: 0.1893 - cls_loss: 0.1417 - box_loss: 9.5201e-04 - reg_l2_loss: 0.0811 - loss: 0.2703 - learning_rate: 6.4938e-05 - gradient_norm: 2.0735 - val_det_loss: 0.2551 - val_cls_loss: 0.2262 - val_box_loss: 5.7722e-04 - val_reg_l2_loss: 0.0811 - val_loss: 0.3361\n",
      "Epoch 48/50\n",
      "1052/1052 [==============================] - 265s 252ms/step - det_loss: 0.1891 - cls_loss: 0.1412 - box_loss: 9.5770e-04 - reg_l2_loss: 0.0811 - loss: 0.2702 - learning_rate: 2.3958e-05 - gradient_norm: 2.1257 - val_det_loss: 0.2575 - val_cls_loss: 0.2273 - val_box_loss: 6.0323e-04 - val_reg_l2_loss: 0.0811 - val_loss: 0.3386\n",
      "Epoch 49/50\n",
      "1052/1052 [==============================] - 265s 252ms/step - det_loss: 0.1902 - cls_loss: 0.1421 - box_loss: 9.6262e-04 - reg_l2_loss: 0.0811 - loss: 0.2713 - learning_rate: 3.4264e-06 - gradient_norm: 2.0840 - val_det_loss: 0.2583 - val_cls_loss: 0.2283 - val_box_loss: 6.0140e-04 - val_reg_l2_loss: 0.0811 - val_loss: 0.3394\n",
      "Epoch 50/50\n",
      "1052/1052 [==============================] - 287s 273ms/step - det_loss: 0.1918 - cls_loss: 0.1436 - box_loss: 9.6319e-04 - reg_l2_loss: 0.0811 - loss: 0.2728 - learning_rate: 3.4264e-06 - gradient_norm: 2.1742 - val_det_loss: 0.2585 - val_cls_loss: 0.2282 - val_box_loss: 6.0533e-04 - val_reg_l2_loss: 0.0811 - val_loss: 0.3396\n"
     ]
    }
   ],
   "source": [
    "model = object_detector.create(train_data, model_spec=spec, epochs=50, batch_size=8, train_whole_model=True, validation_data=validation_data)"
   ]
  },
  {
   "cell_type": "code",
   "execution_count": 5,
   "id": "5c10217f",
   "metadata": {},
   "outputs": [
    {
     "name": "stderr",
     "output_type": "stream",
     "text": [
      "2022-03-16 15:59:00.053904: W tensorflow/core/framework/cpu_allocator_impl.cc:82] Allocation of 113246208 exceeds 10% of free system memory.\n",
      "2022-03-16 15:59:00.131164: W tensorflow/core/framework/cpu_allocator_impl.cc:82] Allocation of 113246208 exceeds 10% of free system memory.\n",
      "2022-03-16 15:59:00.198263: W tensorflow/core/framework/cpu_allocator_impl.cc:82] Allocation of 113246208 exceeds 10% of free system memory.\n",
      "2022-03-16 15:59:00.261678: W tensorflow/core/framework/cpu_allocator_impl.cc:82] Allocation of 113246208 exceeds 10% of free system memory.\n",
      "2022-03-16 15:59:00.306752: W tensorflow/core/framework/cpu_allocator_impl.cc:82] Allocation of 113246208 exceeds 10% of free system memory.\n"
     ]
    },
    {
     "name": "stdout",
     "output_type": "stream",
     "text": [
      "55/55 [==============================] - 102s 1s/step\n",
      "\n"
     ]
    },
    {
     "data": {
      "text/plain": [
       "{'AP': 0.47342607,\n",
       " 'AP50': 0.62739,\n",
       " 'AP75': 0.53197074,\n",
       " 'APs': 4.967703e-05,\n",
       " 'APm': 0.42508075,\n",
       " 'APl': 0.48513296,\n",
       " 'ARmax1': 0.6407223,\n",
       " 'ARmax10': 0.70438623,\n",
       " 'ARmax100': 0.70720196,\n",
       " 'ARs': 0.03,\n",
       " 'ARm': 0.6552768,\n",
       " 'ARl': 0.70813453,\n",
       " 'AP_/MESCHA': 0.6630255,\n",
       " 'AP_/SITTOR': 0.5440656,\n",
       " 'AP_/MESBLE': 0.49720743,\n",
       " 'AP_/MESNON': 0.47994584,\n",
       " 'AP_/PINARB': 0.6928495,\n",
       " 'AP_/ACCMOU': 0.52950525,\n",
       " 'AP_/ROUGOR': 0.39602327,\n",
       " 'AP_/VEREUR': 0.7617827,\n",
       " 'AP_/MOIDOM': 0.005314789,\n",
       " 'AP_/TOUTUR': 0.3010383,\n",
       " 'AP_/ECUROU': 0.45060304,\n",
       " 'AP_/PIEBAV': 0.8296493,\n",
       " 'AP_/MULGRI': 0.09313826,\n",
       " 'AP_/CAMPAG': -1.0,\n",
       " 'AP_/MESNOI': 0.38381603,\n",
       " 'AP_/MESHUP': -1.0}"
      ]
     },
     "execution_count": 5,
     "metadata": {},
     "output_type": "execute_result"
    }
   ],
   "source": [
    "model.evaluate(test_data)"
   ]
  },
  {
   "cell_type": "code",
   "execution_count": 6,
   "id": "caefaeac",
   "metadata": {},
   "outputs": [
    {
     "name": "stderr",
     "output_type": "stream",
     "text": [
      "2022-03-16 16:01:29.668056: W tensorflow/python/util/util.cc:368] Sets are not currently considered sequences, but this may change in the future, so consider avoiding using them.\n",
      "2022-03-16 16:02:02.503557: W tensorflow/core/common_runtime/graph_constructor.cc:803] Node 'resample_p7/PartitionedCall' has 1 outputs but the _output_shapes attribute specifies shapes for 3 outputs. Output shapes may be inaccurate.\n",
      "2022-03-16 16:02:17.412418: W tensorflow/compiler/mlir/lite/python/tf_tfl_flatbuffer_helpers.cc:357] Ignored output_format.\n",
      "2022-03-16 16:02:17.412479: W tensorflow/compiler/mlir/lite/python/tf_tfl_flatbuffer_helpers.cc:360] Ignored drop_control_dependency.\n",
      "2022-03-16 16:02:17.415420: I tensorflow/cc/saved_model/reader.cc:43] Reading SavedModel from: /tmp/tmpeaw3x4cj\n",
      "2022-03-16 16:02:17.594458: I tensorflow/cc/saved_model/reader.cc:78] Reading meta graph with tags { serve }\n",
      "2022-03-16 16:02:17.594509: I tensorflow/cc/saved_model/reader.cc:119] Reading SavedModel debug info (if present) from: /tmp/tmpeaw3x4cj\n",
      "2022-03-16 16:02:18.177743: I tensorflow/cc/saved_model/loader.cc:228] Restoring SavedModel bundle.\n",
      "2022-03-16 16:02:21.462059: I tensorflow/cc/saved_model/loader.cc:212] Running initialization op on SavedModel bundle at path: /tmp/tmpeaw3x4cj\n",
      "2022-03-16 16:02:22.794356: I tensorflow/cc/saved_model/loader.cc:301] SavedModel load for tags { serve }; Status: success: OK. Took 5378945 microseconds.\n",
      "2022-03-16 16:02:25.086238: I tensorflow/compiler/mlir/tensorflow/utils/dump_mlir_util.cc:237] disabling MLIR crash reproducer, set env var `MLIR_CRASH_REPRODUCER_DIRECTORY` to enable.\n",
      "2022-03-16 16:02:27.960803: I tensorflow/compiler/mlir/lite/flatbuffer_export.cc:1963] Estimated count of arithmetic ops: 3.640 G  ops, equivalently 1.820 G  MACs\n",
      "\n"
     ]
    },
    {
     "name": "stdout",
     "output_type": "stream",
     "text": [
      "Estimated count of arithmetic ops: 3.640 G  ops, equivalently 1.820 G  MACs\n",
      "Estimated count of arithmetic ops: 3.640 G  ops, equivalently 1.820 G  MACs\n"
     ]
    },
    {
     "name": "stderr",
     "output_type": "stream",
     "text": [
      "fully_quantize: 0, inference_type: 6, input_inference_type: 3, output_inference_type: 0\n",
      "2022-03-16 16:06:47.153230: I tensorflow/compiler/mlir/lite/flatbuffer_export.cc:1963] Estimated count of arithmetic ops: 3.640 G  ops, equivalently 1.820 G  MACs\n",
      "\n"
     ]
    }
   ],
   "source": [
    "model.export(export_dir='/home/acarlier/code/OrnithoScope/saved_models')"
   ]
  },
  {
   "cell_type": "code",
   "execution_count": 7,
   "id": "ff232fed",
   "metadata": {},
   "outputs": [
    {
     "name": "stderr",
     "output_type": "stream",
     "text": [
      "INFO: Created TensorFlow Lite XNNPACK delegate for CPU.\n"
     ]
    },
    {
     "name": "stdout",
     "output_type": "stream",
     "text": [
      "3516/3516 [==============================] - 18315s 5s/step\n",
      "\n"
     ]
    },
    {
     "data": {
      "text/plain": [
       "{'AP': 0.42126223,\n",
       " 'AP50': 0.56338125,\n",
       " 'AP75': 0.47351792,\n",
       " 'APs': 0.0,\n",
       " 'APm': 0.3753649,\n",
       " 'APl': 0.4292997,\n",
       " 'ARmax1': 0.508728,\n",
       " 'ARmax10': 0.53081197,\n",
       " 'ARmax100': 0.5338507,\n",
       " 'ARs': 0.0,\n",
       " 'ARm': 0.4817503,\n",
       " 'ARl': 0.5418761,\n",
       " 'AP_/MESCHA': 0.65495986,\n",
       " 'AP_/SITTOR': 0.44575328,\n",
       " 'AP_/MESBLE': 0.4475383,\n",
       " 'AP_/MESNON': 0.45474896,\n",
       " 'AP_/PINARB': 0.6639658,\n",
       " 'AP_/ACCMOU': 0.51533806,\n",
       " 'AP_/ROUGOR': 0.22951227,\n",
       " 'AP_/VEREUR': 0.7335272,\n",
       " 'AP_/MOIDOM': 0.0005127493,\n",
       " 'AP_/TOUTUR': 0.20094268,\n",
       " 'AP_/ECUROU': 0.42516315,\n",
       " 'AP_/PIEBAV': 0.7733013,\n",
       " 'AP_/MULGRI': 0.10718025,\n",
       " 'AP_/CAMPAG': -1.0,\n",
       " 'AP_/MESNOI': 0.24522743,\n",
       " 'AP_/MESHUP': -1.0}"
      ]
     },
     "execution_count": 7,
     "metadata": {},
     "output_type": "execute_result"
    }
   ],
   "source": [
    "model.evaluate_tflite('/home/acarlier/code/OrnithoScope/saved_models/model_efficientDet1.tflite', test_data)"
   ]
  },
  {
   "cell_type": "code",
   "execution_count": 8,
   "id": "60d74ae1",
   "metadata": {},
   "outputs": [
    {
     "name": "stderr",
     "output_type": "stream",
     "text": [
      "2022-03-16 21:15:33.621689: W tensorflow/core/common_runtime/graph_constructor.cc:803] Node 'resample_p7/PartitionedCall' has 1 outputs but the _output_shapes attribute specifies shapes for 3 outputs. Output shapes may be inaccurate.\n"
     ]
    },
    {
     "name": "stdout",
     "output_type": "stream",
     "text": [
      "Estimated count of arithmetic ops: 3.640 G  ops, equivalently 1.820 G  MACs\n"
     ]
    },
    {
     "name": "stderr",
     "output_type": "stream",
     "text": [
      "2022-03-16 21:15:48.004515: W tensorflow/compiler/mlir/lite/python/tf_tfl_flatbuffer_helpers.cc:357] Ignored output_format.\n",
      "2022-03-16 21:15:48.004582: W tensorflow/compiler/mlir/lite/python/tf_tfl_flatbuffer_helpers.cc:360] Ignored drop_control_dependency.\n",
      "2022-03-16 21:15:48.005109: I tensorflow/cc/saved_model/reader.cc:43] Reading SavedModel from: /tmp/tmpwpwhd8gt\n",
      "2022-03-16 21:15:48.207872: I tensorflow/cc/saved_model/reader.cc:78] Reading meta graph with tags { serve }\n",
      "2022-03-16 21:15:48.207925: I tensorflow/cc/saved_model/reader.cc:119] Reading SavedModel debug info (if present) from: /tmp/tmpwpwhd8gt\n",
      "2022-03-16 21:15:48.718119: I tensorflow/cc/saved_model/loader.cc:228] Restoring SavedModel bundle.\n",
      "2022-03-16 21:15:51.583891: I tensorflow/cc/saved_model/loader.cc:212] Running initialization op on SavedModel bundle at path: /tmp/tmpwpwhd8gt\n",
      "2022-03-16 21:15:52.853320: I tensorflow/cc/saved_model/loader.cc:301] SavedModel load for tags { serve }; Status: success: OK. Took 4848214 microseconds.\n",
      "2022-03-16 21:15:57.717228: I tensorflow/compiler/mlir/lite/flatbuffer_export.cc:1963] Estimated count of arithmetic ops: 3.640 G  ops, equivalently 1.820 G  MACs\n",
      "\n"
     ]
    }
   ],
   "source": [
    "from tflite_model_maker.config import QuantizationConfig\n",
    "config = QuantizationConfig.for_float16()\n",
    "model.export(export_dir='/home/acarlier/code/OrnithoScope/saved_models/', tflite_filename='model_efficientDet1_fp16.tflite', quantization_config=config)"
   ]
  },
  {
   "cell_type": "code",
   "execution_count": 9,
   "id": "ce0ab048",
   "metadata": {},
   "outputs": [],
   "source": [
    "pid = os.getpid()\n",
    "!kill -9 $pid"
   ]
  }
 ],
 "metadata": {
  "kernelspec": {
   "display_name": "Python 3 (ipykernel)",
   "language": "python",
   "name": "python3"
  },
  "language_info": {
   "codemirror_mode": {
    "name": "ipython",
    "version": 3
   },
   "file_extension": ".py",
   "mimetype": "text/x-python",
   "name": "python",
   "nbconvert_exporter": "python",
   "pygments_lexer": "ipython3",
   "version": "3.8.10"
  }
 },
 "nbformat": 4,
 "nbformat_minor": 5
}

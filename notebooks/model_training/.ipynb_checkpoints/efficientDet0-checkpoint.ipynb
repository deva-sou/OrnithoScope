{
 "cells": [
  {
   "cell_type": "code",
   "execution_count": 1,
   "id": "5785122b",
   "metadata": {
    "pycharm": {
     "name": "#%%\n"
    }
   },
   "outputs": [],
   "source": [
    "import numpy as np\n",
    "import os"
   ]
  },
  {
   "cell_type": "code",
   "execution_count": 2,
   "id": "3a94c0c3",
   "metadata": {},
   "outputs": [
    {
     "name": "stdout",
     "output_type": "stream",
     "text": [
      "<module 'tensorflow._api.v2.version' from '/home/acarlier/.local/lib/python3.8/site-packages/tensorflow/_api/v2/version/__init__.py'>\n"
     ]
    },
    {
     "ename": "AttributeError",
     "evalue": "module 'keras.api._v2.keras' has no attribute 'optimizers'",
     "output_type": "error",
     "traceback": [
      "\u001b[0;31m---------------------------------------------------------------------------\u001b[0m",
      "\u001b[0;31mAttributeError\u001b[0m                            Traceback (most recent call last)",
      "Input \u001b[0;32mIn [2]\u001b[0m, in \u001b[0;36m<module>\u001b[0;34m\u001b[0m\n\u001b[1;32m      1\u001b[0m \u001b[38;5;28;01mimport\u001b[39;00m \u001b[38;5;21;01mtensorflow\u001b[39;00m \u001b[38;5;28;01mas\u001b[39;00m \u001b[38;5;21;01mtf\u001b[39;00m\n\u001b[1;32m      2\u001b[0m \u001b[38;5;28mprint\u001b[39m(tf\u001b[38;5;241m.\u001b[39mversion)\n\u001b[0;32m----> 3\u001b[0m \u001b[38;5;28;01mfrom\u001b[39;00m \u001b[38;5;21;01mtflite_model_maker\u001b[39;00m\u001b[38;5;21;01m.\u001b[39;00m\u001b[38;5;21;01mconfig\u001b[39;00m \u001b[38;5;28;01mimport\u001b[39;00m ExportFormat\n\u001b[1;32m      4\u001b[0m \u001b[38;5;28;01mfrom\u001b[39;00m \u001b[38;5;21;01mtflite_model_maker\u001b[39;00m \u001b[38;5;28;01mimport\u001b[39;00m model_spec\n\u001b[1;32m      5\u001b[0m \u001b[38;5;28;01mfrom\u001b[39;00m \u001b[38;5;21;01mtflite_model_maker\u001b[39;00m \u001b[38;5;28;01mimport\u001b[39;00m object_detector\n",
      "File \u001b[0;32m~/.local/lib/python3.8/site-packages/tflite_model_maker/__init__.py:44\u001b[0m, in \u001b[0;36m<module>\u001b[0;34m\u001b[0m\n\u001b[1;32m      1\u001b[0m \u001b[38;5;66;03m# Copyright 2021 The TensorFlow Authors. All Rights Reserved.\u001b[39;00m\n\u001b[1;32m      2\u001b[0m \u001b[38;5;66;03m#\u001b[39;00m\n\u001b[1;32m      3\u001b[0m \u001b[38;5;66;03m# Licensed under the Apache License, Version 2.0 (the \"License\");\u001b[39;00m\n\u001b[0;32m   (...)\u001b[0m\n\u001b[1;32m     13\u001b[0m \u001b[38;5;66;03m# limitations under the License.\u001b[39;00m\n\u001b[1;32m     14\u001b[0m \u001b[38;5;66;03m# pylint: disable=g-bad-import-order,redefined-builtin\u001b[39;00m\n\u001b[1;32m     15\u001b[0m \u001b[38;5;124;03m\"\"\"Public APIs for TFLite Model Maker, a transfer learning library to train custom TFLite models.\u001b[39;00m\n\u001b[1;32m     16\u001b[0m \n\u001b[1;32m     17\u001b[0m \u001b[38;5;124;03mYou can install the package with\u001b[39;00m\n\u001b[0;32m   (...)\u001b[0m\n\u001b[1;32m     41\u001b[0m \u001b[38;5;124;03mhttps://www.tensorflow.org/lite/guide/model_maker.\u001b[39;00m\n\u001b[1;32m     42\u001b[0m \u001b[38;5;124;03m\"\"\"\u001b[39;00m\n\u001b[0;32m---> 44\u001b[0m \u001b[38;5;28;01mfrom\u001b[39;00m \u001b[38;5;21;01mtflite_model_maker\u001b[39;00m \u001b[38;5;28;01mimport\u001b[39;00m audio_classifier\n\u001b[1;32m     45\u001b[0m \u001b[38;5;28;01mfrom\u001b[39;00m \u001b[38;5;21;01mtflite_model_maker\u001b[39;00m \u001b[38;5;28;01mimport\u001b[39;00m config\n\u001b[1;32m     46\u001b[0m \u001b[38;5;28;01mfrom\u001b[39;00m \u001b[38;5;21;01mtflite_model_maker\u001b[39;00m \u001b[38;5;28;01mimport\u001b[39;00m image_classifier\n",
      "File \u001b[0;32m~/.local/lib/python3.8/site-packages/tflite_model_maker/audio_classifier/__init__.py:24\u001b[0m, in \u001b[0;36m<module>\u001b[0;34m\u001b[0m\n\u001b[1;32m      1\u001b[0m \u001b[38;5;66;03m# Copyright 2021 The TensorFlow Authors. All Rights Reserved.\u001b[39;00m\n\u001b[1;32m      2\u001b[0m \u001b[38;5;66;03m#\u001b[39;00m\n\u001b[1;32m      3\u001b[0m \u001b[38;5;66;03m# Licensed under the Apache License, Version 2.0 (the \"License\");\u001b[39;00m\n\u001b[0;32m   (...)\u001b[0m\n\u001b[1;32m     13\u001b[0m \u001b[38;5;66;03m# limitations under the License.\u001b[39;00m\n\u001b[1;32m     14\u001b[0m \u001b[38;5;66;03m# pylint: disable=g-bad-import-order,redefined-builtin\u001b[39;00m\n\u001b[1;32m     15\u001b[0m \u001b[38;5;124;03m\"\"\"APIs to train an audio classification model.\u001b[39;00m\n\u001b[1;32m     16\u001b[0m \n\u001b[1;32m     17\u001b[0m \u001b[38;5;124;03mTutorial:\u001b[39;00m\n\u001b[0;32m   (...)\u001b[0m\n\u001b[1;32m     21\u001b[0m \u001b[38;5;124;03mhttps://github.com/tensorflow/examples/blob/master/tensorflow_examples/lite/model_maker/demo/audio_classification_demo.py\u001b[39;00m\n\u001b[1;32m     22\u001b[0m \u001b[38;5;124;03m\"\"\"\u001b[39;00m\n\u001b[0;32m---> 24\u001b[0m \u001b[38;5;28;01mfrom\u001b[39;00m \u001b[38;5;21;01mtensorflow_examples\u001b[39;00m\u001b[38;5;21;01m.\u001b[39;00m\u001b[38;5;21;01mlite\u001b[39;00m\u001b[38;5;21;01m.\u001b[39;00m\u001b[38;5;21;01mmodel_maker\u001b[39;00m\u001b[38;5;21;01m.\u001b[39;00m\u001b[38;5;21;01mcore\u001b[39;00m\u001b[38;5;21;01m.\u001b[39;00m\u001b[38;5;21;01mdata_util\u001b[39;00m\u001b[38;5;21;01m.\u001b[39;00m\u001b[38;5;21;01maudio_dataloader\u001b[39;00m \u001b[38;5;28;01mimport\u001b[39;00m DataLoader\n\u001b[1;32m     25\u001b[0m \u001b[38;5;28;01mfrom\u001b[39;00m \u001b[38;5;21;01mtensorflow_examples\u001b[39;00m\u001b[38;5;21;01m.\u001b[39;00m\u001b[38;5;21;01mlite\u001b[39;00m\u001b[38;5;21;01m.\u001b[39;00m\u001b[38;5;21;01mmodel_maker\u001b[39;00m\u001b[38;5;21;01m.\u001b[39;00m\u001b[38;5;21;01mcore\u001b[39;00m\u001b[38;5;21;01m.\u001b[39;00m\u001b[38;5;21;01mtask\u001b[39;00m\u001b[38;5;21;01m.\u001b[39;00m\u001b[38;5;21;01maudio_classifier\u001b[39;00m \u001b[38;5;28;01mimport\u001b[39;00m AudioClassifier\n\u001b[1;32m     26\u001b[0m \u001b[38;5;28;01mfrom\u001b[39;00m \u001b[38;5;21;01mtensorflow_examples\u001b[39;00m\u001b[38;5;21;01m.\u001b[39;00m\u001b[38;5;21;01mlite\u001b[39;00m\u001b[38;5;21;01m.\u001b[39;00m\u001b[38;5;21;01mmodel_maker\u001b[39;00m\u001b[38;5;21;01m.\u001b[39;00m\u001b[38;5;21;01mcore\u001b[39;00m\u001b[38;5;21;01m.\u001b[39;00m\u001b[38;5;21;01mtask\u001b[39;00m\u001b[38;5;21;01m.\u001b[39;00m\u001b[38;5;21;01maudio_classifier\u001b[39;00m \u001b[38;5;28;01mimport\u001b[39;00m create\n",
      "File \u001b[0;32m~/.local/lib/python3.8/site-packages/tensorflow_examples/lite/model_maker/core/data_util/audio_dataloader.py:27\u001b[0m, in \u001b[0;36m<module>\u001b[0;34m\u001b[0m\n\u001b[1;32m     25\u001b[0m \u001b[38;5;28;01mfrom\u001b[39;00m \u001b[38;5;21;01mtensorflow_examples\u001b[39;00m\u001b[38;5;21;01m.\u001b[39;00m\u001b[38;5;21;01mlite\u001b[39;00m\u001b[38;5;21;01m.\u001b[39;00m\u001b[38;5;21;01mmodel_maker\u001b[39;00m\u001b[38;5;21;01m.\u001b[39;00m\u001b[38;5;21;01mcore\u001b[39;00m\u001b[38;5;21;01m.\u001b[39;00m\u001b[38;5;21;01mapi\u001b[39;00m\u001b[38;5;21;01m.\u001b[39;00m\u001b[38;5;21;01mapi_util\u001b[39;00m \u001b[38;5;28;01mimport\u001b[39;00m mm_export\n\u001b[1;32m     26\u001b[0m \u001b[38;5;28;01mfrom\u001b[39;00m \u001b[38;5;21;01mtensorflow_examples\u001b[39;00m\u001b[38;5;21;01m.\u001b[39;00m\u001b[38;5;21;01mlite\u001b[39;00m\u001b[38;5;21;01m.\u001b[39;00m\u001b[38;5;21;01mmodel_maker\u001b[39;00m\u001b[38;5;21;01m.\u001b[39;00m\u001b[38;5;21;01mcore\u001b[39;00m\u001b[38;5;21;01m.\u001b[39;00m\u001b[38;5;21;01mdata_util\u001b[39;00m \u001b[38;5;28;01mimport\u001b[39;00m dataloader\n\u001b[0;32m---> 27\u001b[0m \u001b[38;5;28;01mfrom\u001b[39;00m \u001b[38;5;21;01mtensorflow_examples\u001b[39;00m\u001b[38;5;21;01m.\u001b[39;00m\u001b[38;5;21;01mlite\u001b[39;00m\u001b[38;5;21;01m.\u001b[39;00m\u001b[38;5;21;01mmodel_maker\u001b[39;00m\u001b[38;5;21;01m.\u001b[39;00m\u001b[38;5;21;01mcore\u001b[39;00m\u001b[38;5;21;01m.\u001b[39;00m\u001b[38;5;21;01mtask\u001b[39;00m\u001b[38;5;21;01m.\u001b[39;00m\u001b[38;5;21;01mmodel_spec\u001b[39;00m \u001b[38;5;28;01mimport\u001b[39;00m audio_spec\n\u001b[1;32m     29\u001b[0m error_import_librosa \u001b[38;5;241m=\u001b[39m \u001b[38;5;28;01mNone\u001b[39;00m\n\u001b[1;32m     30\u001b[0m \u001b[38;5;28;01mtry\u001b[39;00m:\n",
      "File \u001b[0;32m~/.local/lib/python3.8/site-packages/tensorflow_examples/lite/model_maker/core/task/model_spec/__init__.py:20\u001b[0m, in \u001b[0;36m<module>\u001b[0;34m\u001b[0m\n\u001b[1;32m     17\u001b[0m \u001b[38;5;28;01mimport\u001b[39;00m \u001b[38;5;21;01minspect\u001b[39;00m\n\u001b[1;32m     19\u001b[0m \u001b[38;5;28;01mfrom\u001b[39;00m \u001b[38;5;21;01mtensorflow_examples\u001b[39;00m\u001b[38;5;21;01m.\u001b[39;00m\u001b[38;5;21;01mlite\u001b[39;00m\u001b[38;5;21;01m.\u001b[39;00m\u001b[38;5;21;01mmodel_maker\u001b[39;00m\u001b[38;5;21;01m.\u001b[39;00m\u001b[38;5;21;01mcore\u001b[39;00m\u001b[38;5;21;01m.\u001b[39;00m\u001b[38;5;21;01mapi\u001b[39;00m \u001b[38;5;28;01mimport\u001b[39;00m mm_export\n\u001b[0;32m---> 20\u001b[0m \u001b[38;5;28;01mfrom\u001b[39;00m \u001b[38;5;21;01mtensorflow_examples\u001b[39;00m\u001b[38;5;21;01m.\u001b[39;00m\u001b[38;5;21;01mlite\u001b[39;00m\u001b[38;5;21;01m.\u001b[39;00m\u001b[38;5;21;01mmodel_maker\u001b[39;00m\u001b[38;5;21;01m.\u001b[39;00m\u001b[38;5;21;01mcore\u001b[39;00m\u001b[38;5;21;01m.\u001b[39;00m\u001b[38;5;21;01mtask\u001b[39;00m\u001b[38;5;21;01m.\u001b[39;00m\u001b[38;5;21;01mmodel_spec\u001b[39;00m \u001b[38;5;28;01mimport\u001b[39;00m audio_spec\n\u001b[1;32m     21\u001b[0m \u001b[38;5;28;01mfrom\u001b[39;00m \u001b[38;5;21;01mtensorflow_examples\u001b[39;00m\u001b[38;5;21;01m.\u001b[39;00m\u001b[38;5;21;01mlite\u001b[39;00m\u001b[38;5;21;01m.\u001b[39;00m\u001b[38;5;21;01mmodel_maker\u001b[39;00m\u001b[38;5;21;01m.\u001b[39;00m\u001b[38;5;21;01mcore\u001b[39;00m\u001b[38;5;21;01m.\u001b[39;00m\u001b[38;5;21;01mtask\u001b[39;00m\u001b[38;5;21;01m.\u001b[39;00m\u001b[38;5;21;01mmodel_spec\u001b[39;00m \u001b[38;5;28;01mimport\u001b[39;00m image_spec\n\u001b[1;32m     22\u001b[0m \u001b[38;5;28;01mfrom\u001b[39;00m \u001b[38;5;21;01mtensorflow_examples\u001b[39;00m\u001b[38;5;21;01m.\u001b[39;00m\u001b[38;5;21;01mlite\u001b[39;00m\u001b[38;5;21;01m.\u001b[39;00m\u001b[38;5;21;01mmodel_maker\u001b[39;00m\u001b[38;5;21;01m.\u001b[39;00m\u001b[38;5;21;01mcore\u001b[39;00m\u001b[38;5;21;01m.\u001b[39;00m\u001b[38;5;21;01mtask\u001b[39;00m\u001b[38;5;21;01m.\u001b[39;00m\u001b[38;5;21;01mmodel_spec\u001b[39;00m \u001b[38;5;28;01mimport\u001b[39;00m object_detector_spec\n",
      "File \u001b[0;32m~/.local/lib/python3.8/site-packages/tensorflow_examples/lite/model_maker/core/task/model_spec/audio_spec.py:29\u001b[0m, in \u001b[0;36m<module>\u001b[0;34m\u001b[0m\n\u001b[1;32m     27\u001b[0m \u001b[38;5;28;01mimport\u001b[39;00m \u001b[38;5;21;01mtensorflow\u001b[39;00m \u001b[38;5;28;01mas\u001b[39;00m \u001b[38;5;21;01mtf\u001b[39;00m\n\u001b[1;32m     28\u001b[0m \u001b[38;5;28;01mfrom\u001b[39;00m \u001b[38;5;21;01mtensorflow_examples\u001b[39;00m\u001b[38;5;21;01m.\u001b[39;00m\u001b[38;5;21;01mlite\u001b[39;00m\u001b[38;5;21;01m.\u001b[39;00m\u001b[38;5;21;01mmodel_maker\u001b[39;00m\u001b[38;5;21;01m.\u001b[39;00m\u001b[38;5;21;01mcore\u001b[39;00m\u001b[38;5;21;01m.\u001b[39;00m\u001b[38;5;21;01mapi\u001b[39;00m\u001b[38;5;21;01m.\u001b[39;00m\u001b[38;5;21;01mapi_util\u001b[39;00m \u001b[38;5;28;01mimport\u001b[39;00m mm_export\n\u001b[0;32m---> 29\u001b[0m \u001b[38;5;28;01mfrom\u001b[39;00m \u001b[38;5;21;01mtensorflow_examples\u001b[39;00m\u001b[38;5;21;01m.\u001b[39;00m\u001b[38;5;21;01mlite\u001b[39;00m\u001b[38;5;21;01m.\u001b[39;00m\u001b[38;5;21;01mmodel_maker\u001b[39;00m\u001b[38;5;21;01m.\u001b[39;00m\u001b[38;5;21;01mcore\u001b[39;00m\u001b[38;5;21;01m.\u001b[39;00m\u001b[38;5;21;01mtask\u001b[39;00m \u001b[38;5;28;01mimport\u001b[39;00m model_util\n\u001b[1;32m     30\u001b[0m \u001b[38;5;28;01mimport\u001b[39;00m \u001b[38;5;21;01mtensorflow_hub\u001b[39;00m \u001b[38;5;28;01mas\u001b[39;00m \u001b[38;5;21;01mhub\u001b[39;00m\n\u001b[1;32m     32\u001b[0m \u001b[38;5;28;01mtry\u001b[39;00m:\n",
      "File \u001b[0;32m~/.local/lib/python3.8/site-packages/tensorflow_examples/lite/model_maker/core/task/model_util.py:28\u001b[0m, in \u001b[0;36m<module>\u001b[0;34m\u001b[0m\n\u001b[1;32m     25\u001b[0m \u001b[38;5;28;01mimport\u001b[39;00m \u001b[38;5;21;01mtensorflow\u001b[39;00m \u001b[38;5;28;01mas\u001b[39;00m \u001b[38;5;21;01mtf\u001b[39;00m\n\u001b[1;32m     27\u001b[0m \u001b[38;5;28;01mfrom\u001b[39;00m \u001b[38;5;21;01mtensorflow_examples\u001b[39;00m\u001b[38;5;21;01m.\u001b[39;00m\u001b[38;5;21;01mlite\u001b[39;00m\u001b[38;5;21;01m.\u001b[39;00m\u001b[38;5;21;01mmodel_maker\u001b[39;00m\u001b[38;5;21;01m.\u001b[39;00m\u001b[38;5;21;01mcore\u001b[39;00m \u001b[38;5;28;01mimport\u001b[39;00m compat\n\u001b[0;32m---> 28\u001b[0m \u001b[38;5;28;01mfrom\u001b[39;00m \u001b[38;5;21;01mtensorflowjs\u001b[39;00m\u001b[38;5;21;01m.\u001b[39;00m\u001b[38;5;21;01mconverters\u001b[39;00m \u001b[38;5;28;01mimport\u001b[39;00m converter \u001b[38;5;28;01mas\u001b[39;00m tfjs_converter\n\u001b[1;32m     29\u001b[0m \u001b[38;5;28;01mfrom\u001b[39;00m \u001b[38;5;21;01mtflite_support\u001b[39;00m \u001b[38;5;28;01mimport\u001b[39;00m metadata \u001b[38;5;28;01mas\u001b[39;00m _metadata\n\u001b[1;32m     31\u001b[0m DEFAULT_SCALE, DEFAULT_ZERO_POINT \u001b[38;5;241m=\u001b[39m \u001b[38;5;241m0\u001b[39m, \u001b[38;5;241m0\u001b[39m\n",
      "File \u001b[0;32m~/.local/lib/python3.8/site-packages/tensorflowjs/__init__.py:21\u001b[0m, in \u001b[0;36m<module>\u001b[0;34m\u001b[0m\n\u001b[1;32m     18\u001b[0m \u001b[38;5;28;01mfrom\u001b[39;00m \u001b[38;5;21;01m__future__\u001b[39;00m \u001b[38;5;28;01mimport\u001b[39;00m print_function\n\u001b[1;32m     20\u001b[0m \u001b[38;5;66;03m# pylint: disable=unused-imports\u001b[39;00m\n\u001b[0;32m---> 21\u001b[0m \u001b[38;5;28;01mfrom\u001b[39;00m \u001b[38;5;21;01mtensorflowjs\u001b[39;00m \u001b[38;5;28;01mimport\u001b[39;00m converters\n\u001b[1;32m     22\u001b[0m \u001b[38;5;28;01mfrom\u001b[39;00m \u001b[38;5;21;01mtensorflowjs\u001b[39;00m \u001b[38;5;28;01mimport\u001b[39;00m quantization\n\u001b[1;32m     23\u001b[0m \u001b[38;5;28;01mfrom\u001b[39;00m \u001b[38;5;21;01mtensorflowjs\u001b[39;00m \u001b[38;5;28;01mimport\u001b[39;00m version\n",
      "File \u001b[0;32m~/.local/lib/python3.8/site-packages/tensorflowjs/converters/__init__.py:21\u001b[0m, in \u001b[0;36m<module>\u001b[0;34m\u001b[0m\n\u001b[1;32m     18\u001b[0m \u001b[38;5;28;01mfrom\u001b[39;00m \u001b[38;5;21;01m__future__\u001b[39;00m \u001b[38;5;28;01mimport\u001b[39;00m print_function\n\u001b[1;32m     20\u001b[0m \u001b[38;5;66;03m# pylint: disable=unused-imports,line-too-long\u001b[39;00m\n\u001b[0;32m---> 21\u001b[0m \u001b[38;5;28;01mfrom\u001b[39;00m \u001b[38;5;21;01mtensorflowjs\u001b[39;00m\u001b[38;5;21;01m.\u001b[39;00m\u001b[38;5;21;01mconverters\u001b[39;00m\u001b[38;5;21;01m.\u001b[39;00m\u001b[38;5;21;01mconverter\u001b[39;00m \u001b[38;5;28;01mimport\u001b[39;00m convert\n\u001b[1;32m     22\u001b[0m \u001b[38;5;28;01mfrom\u001b[39;00m \u001b[38;5;21;01mtensorflowjs\u001b[39;00m\u001b[38;5;21;01m.\u001b[39;00m\u001b[38;5;21;01mconverters\u001b[39;00m\u001b[38;5;21;01m.\u001b[39;00m\u001b[38;5;21;01mkeras_h5_conversion\u001b[39;00m \u001b[38;5;28;01mimport\u001b[39;00m save_keras_model\n\u001b[1;32m     23\u001b[0m \u001b[38;5;28;01mfrom\u001b[39;00m \u001b[38;5;21;01mtensorflowjs\u001b[39;00m\u001b[38;5;21;01m.\u001b[39;00m\u001b[38;5;21;01mconverters\u001b[39;00m\u001b[38;5;21;01m.\u001b[39;00m\u001b[38;5;21;01mkeras_tfjs_loader\u001b[39;00m \u001b[38;5;28;01mimport\u001b[39;00m deserialize_keras_model\n",
      "File \u001b[0;32m~/.local/lib/python3.8/site-packages/tensorflowjs/converters/converter.py:37\u001b[0m, in \u001b[0;36m<module>\u001b[0;34m\u001b[0m\n\u001b[1;32m     35\u001b[0m \u001b[38;5;28;01mfrom\u001b[39;00m \u001b[38;5;21;01mtensorflowjs\u001b[39;00m\u001b[38;5;21;01m.\u001b[39;00m\u001b[38;5;21;01mconverters\u001b[39;00m \u001b[38;5;28;01mimport\u001b[39;00m keras_h5_conversion \u001b[38;5;28;01mas\u001b[39;00m conversion\n\u001b[1;32m     36\u001b[0m \u001b[38;5;28;01mfrom\u001b[39;00m \u001b[38;5;21;01mtensorflowjs\u001b[39;00m\u001b[38;5;21;01m.\u001b[39;00m\u001b[38;5;21;01mconverters\u001b[39;00m \u001b[38;5;28;01mimport\u001b[39;00m keras_tfjs_loader\n\u001b[0;32m---> 37\u001b[0m \u001b[38;5;28;01mfrom\u001b[39;00m \u001b[38;5;21;01mtensorflowjs\u001b[39;00m\u001b[38;5;21;01m.\u001b[39;00m\u001b[38;5;21;01mconverters\u001b[39;00m \u001b[38;5;28;01mimport\u001b[39;00m tf_saved_model_conversion_v2\n\u001b[1;32m     40\u001b[0m \u001b[38;5;28;01mdef\u001b[39;00m \u001b[38;5;21mdispatch_keras_h5_to_tfjs_layers_model_conversion\u001b[39m(\n\u001b[1;32m     41\u001b[0m     h5_path, output_dir\u001b[38;5;241m=\u001b[39m\u001b[38;5;28;01mNone\u001b[39;00m, quantization_dtype_map\u001b[38;5;241m=\u001b[39m\u001b[38;5;28;01mNone\u001b[39;00m,\n\u001b[1;32m     42\u001b[0m     split_weights_by_layer\u001b[38;5;241m=\u001b[39m\u001b[38;5;28;01mFalse\u001b[39;00m,\n\u001b[1;32m     43\u001b[0m     weight_shard_size_bytes\u001b[38;5;241m=\u001b[39m\u001b[38;5;241m1024\u001b[39m \u001b[38;5;241m*\u001b[39m \u001b[38;5;241m1024\u001b[39m \u001b[38;5;241m*\u001b[39m \u001b[38;5;241m4\u001b[39m,\n\u001b[1;32m     44\u001b[0m     metadata\u001b[38;5;241m=\u001b[39m\u001b[38;5;28;01mNone\u001b[39;00m):\n\u001b[1;32m     45\u001b[0m   \u001b[38;5;124;03m\"\"\"Converts a Keras HDF5 saved-model file to TensorFlow.js format.\u001b[39;00m\n\u001b[1;32m     46\u001b[0m \n\u001b[1;32m     47\u001b[0m \u001b[38;5;124;03m  Auto-detects saved_model versus weights-only and generates the correct\u001b[39;00m\n\u001b[0;32m   (...)\u001b[0m\n\u001b[1;32m     73\u001b[0m \u001b[38;5;124;03m      groups: an array of weight_groups as defined in tfjs weights_writer.\u001b[39;00m\n\u001b[1;32m     74\u001b[0m \u001b[38;5;124;03m  \"\"\"\u001b[39;00m\n",
      "File \u001b[0;32m~/.local/lib/python3.8/site-packages/tensorflowjs/converters/tf_saved_model_conversion_v2.py:42\u001b[0m, in \u001b[0;36m<module>\u001b[0;34m\u001b[0m\n\u001b[1;32m     40\u001b[0m \u001b[38;5;28;01mfrom\u001b[39;00m \u001b[38;5;21;01mtensorflow\u001b[39;00m\u001b[38;5;21;01m.\u001b[39;00m\u001b[38;5;21;01mpython\u001b[39;00m\u001b[38;5;21;01m.\u001b[39;00m\u001b[38;5;21;01mtools\u001b[39;00m\u001b[38;5;21;01m.\u001b[39;00m\u001b[38;5;21;01msaved_model_cli\u001b[39;00m \u001b[38;5;28;01mimport\u001b[39;00m get_signature_def_map\n\u001b[1;32m     41\u001b[0m \u001b[38;5;28;01mfrom\u001b[39;00m \u001b[38;5;21;01mgoogle\u001b[39;00m\u001b[38;5;21;01m.\u001b[39;00m\u001b[38;5;21;01mprotobuf\u001b[39;00m\u001b[38;5;21;01m.\u001b[39;00m\u001b[38;5;21;01mjson_format\u001b[39;00m \u001b[38;5;28;01mimport\u001b[39;00m MessageToDict\n\u001b[0;32m---> 42\u001b[0m \u001b[38;5;28;01mimport\u001b[39;00m \u001b[38;5;21;01mtensorflow_hub\u001b[39;00m \u001b[38;5;28;01mas\u001b[39;00m \u001b[38;5;21;01mhub\u001b[39;00m\n\u001b[1;32m     44\u001b[0m \u001b[38;5;28;01mfrom\u001b[39;00m \u001b[38;5;21;01mtensorflowjs\u001b[39;00m \u001b[38;5;28;01mimport\u001b[39;00m write_weights\n\u001b[1;32m     45\u001b[0m \u001b[38;5;28;01mfrom\u001b[39;00m \u001b[38;5;21;01mtensorflowjs\u001b[39;00m\u001b[38;5;21;01m.\u001b[39;00m\u001b[38;5;21;01mconverters\u001b[39;00m \u001b[38;5;28;01mimport\u001b[39;00m common\n",
      "File \u001b[0;32m~/.local/lib/python3.8/site-packages/tensorflow_hub/__init__.py:88\u001b[0m, in \u001b[0;36m<module>\u001b[0;34m\u001b[0m\n\u001b[1;32m     76\u001b[0m     \u001b[38;5;28;01mraise\u001b[39;00m \u001b[38;5;167;01mImportError\u001b[39;00m(\n\u001b[1;32m     77\u001b[0m         \u001b[38;5;124m\"\u001b[39m\u001b[38;5;130;01m\\n\u001b[39;00m\u001b[38;5;130;01m\\n\u001b[39;00m\u001b[38;5;124mThis version of tensorflow_hub requires tensorflow \u001b[39m\u001b[38;5;124m\"\u001b[39m\n\u001b[1;32m     78\u001b[0m         \u001b[38;5;124m\"\u001b[39m\u001b[38;5;124mversion >= \u001b[39m\u001b[38;5;132;01m{required}\u001b[39;00m\u001b[38;5;124m; Detected an installation of version \u001b[39m\u001b[38;5;132;01m{present}\u001b[39;00m\u001b[38;5;124m. \u001b[39m\u001b[38;5;124m\"\u001b[39m\n\u001b[0;32m   (...)\u001b[0m\n\u001b[1;32m     82\u001b[0m             required\u001b[38;5;241m=\u001b[39mrequired_tensorflow_version,\n\u001b[1;32m     83\u001b[0m             present\u001b[38;5;241m=\u001b[39mtf\u001b[38;5;241m.\u001b[39m__version__))\n\u001b[1;32m     85\u001b[0m _ensure_tf_install()\n\u001b[0;32m---> 88\u001b[0m \u001b[38;5;28;01mfrom\u001b[39;00m \u001b[38;5;21;01mtensorflow_hub\u001b[39;00m\u001b[38;5;21;01m.\u001b[39;00m\u001b[38;5;21;01mestimator\u001b[39;00m \u001b[38;5;28;01mimport\u001b[39;00m LatestModuleExporter\n\u001b[1;32m     89\u001b[0m \u001b[38;5;28;01mfrom\u001b[39;00m \u001b[38;5;21;01mtensorflow_hub\u001b[39;00m\u001b[38;5;21;01m.\u001b[39;00m\u001b[38;5;21;01mestimator\u001b[39;00m \u001b[38;5;28;01mimport\u001b[39;00m register_module_for_export\n\u001b[1;32m     90\u001b[0m \u001b[38;5;28;01mfrom\u001b[39;00m \u001b[38;5;21;01mtensorflow_hub\u001b[39;00m\u001b[38;5;21;01m.\u001b[39;00m\u001b[38;5;21;01mfeature_column\u001b[39;00m \u001b[38;5;28;01mimport\u001b[39;00m image_embedding_column\n",
      "File \u001b[0;32m~/.local/lib/python3.8/site-packages/tensorflow_hub/estimator.py:62\u001b[0m, in \u001b[0;36m<module>\u001b[0;34m\u001b[0m\n\u001b[1;32m     55\u001b[0m       \u001b[38;5;28;01mraise\u001b[39;00m \u001b[38;5;167;01mValueError\u001b[39;00m(\n\u001b[1;32m     56\u001b[0m           \u001b[38;5;124m\"\u001b[39m\u001b[38;5;124mThere is already a module registered to be exported as \u001b[39m\u001b[38;5;132;01m%r\u001b[39;00m\u001b[38;5;124m\"\u001b[39m\n\u001b[1;32m     57\u001b[0m           \u001b[38;5;241m%\u001b[39m export_name)\n\u001b[1;32m     58\u001b[0m   tf\u001b[38;5;241m.\u001b[39mcompat\u001b[38;5;241m.\u001b[39mv1\u001b[38;5;241m.\u001b[39madd_to_collection(_EXPORT_MODULES_COLLECTION,\n\u001b[1;32m     59\u001b[0m                                  (export_name, module))\n\u001b[0;32m---> 62\u001b[0m \u001b[38;5;28;01mclass\u001b[39;00m \u001b[38;5;21;01mLatestModuleExporter\u001b[39;00m(\u001b[43mtf\u001b[49m\u001b[38;5;241;43m.\u001b[39;49m\u001b[43mcompat\u001b[49m\u001b[38;5;241;43m.\u001b[39;49m\u001b[43mv1\u001b[49m\u001b[38;5;241;43m.\u001b[39;49m\u001b[43mestimator\u001b[49m\u001b[38;5;241;43m.\u001b[39;49m\u001b[43mExporter\u001b[49m):\n\u001b[1;32m     63\u001b[0m   \u001b[38;5;124;03m\"\"\"Regularly exports registered modules into timestamped directories.\u001b[39;00m\n\u001b[1;32m     64\u001b[0m \n\u001b[1;32m     65\u001b[0m \u001b[38;5;124;03m  Warning: Deprecated. This belongs to the hub.Module API and TF1 Hub format.\u001b[39;00m\n\u001b[0;32m   (...)\u001b[0m\n\u001b[1;32m     88\u001b[0m \u001b[38;5;124;03m  THIS FUNCTION IS DEPRECATED.\u001b[39;00m\n\u001b[1;32m     89\u001b[0m \u001b[38;5;124;03m  \"\"\"\u001b[39;00m\n\u001b[1;32m     91\u001b[0m   \u001b[38;5;28;01mdef\u001b[39;00m \u001b[38;5;21m__init__\u001b[39m(\u001b[38;5;28mself\u001b[39m, name, serving_input_fn, exports_to_keep\u001b[38;5;241m=\u001b[39m\u001b[38;5;241m5\u001b[39m):\n",
      "File \u001b[0;32m~/.local/lib/python3.8/site-packages/tensorflow/python/util/lazy_loader.py:58\u001b[0m, in \u001b[0;36mLazyLoader.__getattr__\u001b[0;34m(self, item)\u001b[0m\n\u001b[1;32m     57\u001b[0m \u001b[38;5;28;01mdef\u001b[39;00m \u001b[38;5;21m__getattr__\u001b[39m(\u001b[38;5;28mself\u001b[39m, item):\n\u001b[0;32m---> 58\u001b[0m   module \u001b[38;5;241m=\u001b[39m \u001b[38;5;28;43mself\u001b[39;49m\u001b[38;5;241;43m.\u001b[39;49m\u001b[43m_load\u001b[49m\u001b[43m(\u001b[49m\u001b[43m)\u001b[49m\n\u001b[1;32m     59\u001b[0m   \u001b[38;5;28;01mreturn\u001b[39;00m \u001b[38;5;28mgetattr\u001b[39m(module, item)\n",
      "File \u001b[0;32m~/.local/lib/python3.8/site-packages/tensorflow/python/util/lazy_loader.py:41\u001b[0m, in \u001b[0;36mLazyLoader._load\u001b[0;34m(self)\u001b[0m\n\u001b[1;32m     39\u001b[0m \u001b[38;5;124;03m\"\"\"Load the module and insert it into the parent's globals.\"\"\"\u001b[39;00m\n\u001b[1;32m     40\u001b[0m \u001b[38;5;66;03m# Import the target module and insert it into the parent's namespace\u001b[39;00m\n\u001b[0;32m---> 41\u001b[0m module \u001b[38;5;241m=\u001b[39m \u001b[43mimportlib\u001b[49m\u001b[38;5;241;43m.\u001b[39;49m\u001b[43mimport_module\u001b[49m\u001b[43m(\u001b[49m\u001b[38;5;28;43mself\u001b[39;49m\u001b[38;5;241;43m.\u001b[39;49m\u001b[38;5;18;43m__name__\u001b[39;49m\u001b[43m)\u001b[49m\n\u001b[1;32m     42\u001b[0m \u001b[38;5;28mself\u001b[39m\u001b[38;5;241m.\u001b[39m_parent_module_globals[\u001b[38;5;28mself\u001b[39m\u001b[38;5;241m.\u001b[39m_local_name] \u001b[38;5;241m=\u001b[39m module\n\u001b[1;32m     44\u001b[0m \u001b[38;5;66;03m# Emit a warning if one was specified\u001b[39;00m\n",
      "File \u001b[0;32m/usr/lib/python3.8/importlib/__init__.py:127\u001b[0m, in \u001b[0;36mimport_module\u001b[0;34m(name, package)\u001b[0m\n\u001b[1;32m    125\u001b[0m             \u001b[38;5;28;01mbreak\u001b[39;00m\n\u001b[1;32m    126\u001b[0m         level \u001b[38;5;241m+\u001b[39m\u001b[38;5;241m=\u001b[39m \u001b[38;5;241m1\u001b[39m\n\u001b[0;32m--> 127\u001b[0m \u001b[38;5;28;01mreturn\u001b[39;00m \u001b[43m_bootstrap\u001b[49m\u001b[38;5;241;43m.\u001b[39;49m\u001b[43m_gcd_import\u001b[49m\u001b[43m(\u001b[49m\u001b[43mname\u001b[49m\u001b[43m[\u001b[49m\u001b[43mlevel\u001b[49m\u001b[43m:\u001b[49m\u001b[43m]\u001b[49m\u001b[43m,\u001b[49m\u001b[43m \u001b[49m\u001b[43mpackage\u001b[49m\u001b[43m,\u001b[49m\u001b[43m \u001b[49m\u001b[43mlevel\u001b[49m\u001b[43m)\u001b[49m\n",
      "File \u001b[0;32m~/.local/lib/python3.8/site-packages/tensorflow_estimator/__init__.py:8\u001b[0m, in \u001b[0;36m<module>\u001b[0;34m\u001b[0m\n\u001b[1;32m      3\u001b[0m \u001b[38;5;124;03m\"\"\"Public API for tf. namespace.\u001b[39;00m\n\u001b[1;32m      4\u001b[0m \u001b[38;5;124;03m\"\"\"\u001b[39;00m\n\u001b[1;32m      6\u001b[0m \u001b[38;5;28;01mimport\u001b[39;00m \u001b[38;5;21;01msys\u001b[39;00m \u001b[38;5;28;01mas\u001b[39;00m \u001b[38;5;21;01m_sys\u001b[39;00m\n\u001b[0;32m----> 8\u001b[0m \u001b[38;5;28;01mfrom\u001b[39;00m \u001b[38;5;21;01mtensorflow_estimator\u001b[39;00m\u001b[38;5;21;01m.\u001b[39;00m\u001b[38;5;21;01m_api\u001b[39;00m\u001b[38;5;21;01m.\u001b[39;00m\u001b[38;5;21;01mv1\u001b[39;00m \u001b[38;5;28;01mimport\u001b[39;00m estimator\n\u001b[1;32m      9\u001b[0m \u001b[38;5;28;01mfrom\u001b[39;00m \u001b[38;5;21;01mtensorflow\u001b[39;00m\u001b[38;5;21;01m.\u001b[39;00m\u001b[38;5;21;01mpython\u001b[39;00m\u001b[38;5;21;01m.\u001b[39;00m\u001b[38;5;21;01mutil\u001b[39;00m \u001b[38;5;28;01mimport\u001b[39;00m module_wrapper \u001b[38;5;28;01mas\u001b[39;00m _module_wrapper\n\u001b[1;32m     11\u001b[0m \u001b[38;5;28;01mif\u001b[39;00m \u001b[38;5;129;01mnot\u001b[39;00m \u001b[38;5;28misinstance\u001b[39m(_sys\u001b[38;5;241m.\u001b[39mmodules[\u001b[38;5;18m__name__\u001b[39m], _module_wrapper\u001b[38;5;241m.\u001b[39mTFModuleWrapper):\n",
      "File \u001b[0;32m~/.local/lib/python3.8/site-packages/tensorflow_estimator/_api/v1/estimator/__init__.py:8\u001b[0m, in \u001b[0;36m<module>\u001b[0;34m\u001b[0m\n\u001b[1;32m      3\u001b[0m \u001b[38;5;124;03m\"\"\"Estimator: High level tools for working with models.\u001b[39;00m\n\u001b[1;32m      4\u001b[0m \u001b[38;5;124;03m\"\"\"\u001b[39;00m\n\u001b[1;32m      6\u001b[0m \u001b[38;5;28;01mimport\u001b[39;00m \u001b[38;5;21;01msys\u001b[39;00m \u001b[38;5;28;01mas\u001b[39;00m \u001b[38;5;21;01m_sys\u001b[39;00m\n\u001b[0;32m----> 8\u001b[0m \u001b[38;5;28;01mfrom\u001b[39;00m \u001b[38;5;21;01mtensorflow_estimator\u001b[39;00m\u001b[38;5;21;01m.\u001b[39;00m\u001b[38;5;21;01m_api\u001b[39;00m\u001b[38;5;21;01m.\u001b[39;00m\u001b[38;5;21;01mv1\u001b[39;00m\u001b[38;5;21;01m.\u001b[39;00m\u001b[38;5;21;01mestimator\u001b[39;00m \u001b[38;5;28;01mimport\u001b[39;00m experimental\n\u001b[1;32m      9\u001b[0m \u001b[38;5;28;01mfrom\u001b[39;00m \u001b[38;5;21;01mtensorflow_estimator\u001b[39;00m\u001b[38;5;21;01m.\u001b[39;00m\u001b[38;5;21;01m_api\u001b[39;00m\u001b[38;5;21;01m.\u001b[39;00m\u001b[38;5;21;01mv1\u001b[39;00m\u001b[38;5;21;01m.\u001b[39;00m\u001b[38;5;21;01mestimator\u001b[39;00m \u001b[38;5;28;01mimport\u001b[39;00m export\n\u001b[1;32m     10\u001b[0m \u001b[38;5;28;01mfrom\u001b[39;00m \u001b[38;5;21;01mtensorflow_estimator\u001b[39;00m\u001b[38;5;21;01m.\u001b[39;00m\u001b[38;5;21;01m_api\u001b[39;00m\u001b[38;5;21;01m.\u001b[39;00m\u001b[38;5;21;01mv1\u001b[39;00m\u001b[38;5;21;01m.\u001b[39;00m\u001b[38;5;21;01mestimator\u001b[39;00m \u001b[38;5;28;01mimport\u001b[39;00m inputs\n",
      "File \u001b[0;32m~/.local/lib/python3.8/site-packages/tensorflow_estimator/_api/v1/estimator/experimental/__init__.py:8\u001b[0m, in \u001b[0;36m<module>\u001b[0;34m\u001b[0m\n\u001b[1;32m      3\u001b[0m \u001b[38;5;124;03m\"\"\"Public API for tf.estimator.experimental namespace.\u001b[39;00m\n\u001b[1;32m      4\u001b[0m \u001b[38;5;124;03m\"\"\"\u001b[39;00m\n\u001b[1;32m      6\u001b[0m \u001b[38;5;28;01mimport\u001b[39;00m \u001b[38;5;21;01msys\u001b[39;00m \u001b[38;5;28;01mas\u001b[39;00m \u001b[38;5;21;01m_sys\u001b[39;00m\n\u001b[0;32m----> 8\u001b[0m \u001b[38;5;28;01mfrom\u001b[39;00m \u001b[38;5;21;01mtensorflow_estimator\u001b[39;00m\u001b[38;5;21;01m.\u001b[39;00m\u001b[38;5;21;01mpython\u001b[39;00m\u001b[38;5;21;01m.\u001b[39;00m\u001b[38;5;21;01mestimator\u001b[39;00m\u001b[38;5;21;01m.\u001b[39;00m\u001b[38;5;21;01mcanned\u001b[39;00m\u001b[38;5;21;01m.\u001b[39;00m\u001b[38;5;21;01mdnn\u001b[39;00m \u001b[38;5;28;01mimport\u001b[39;00m dnn_logit_fn_builder\n\u001b[1;32m      9\u001b[0m \u001b[38;5;28;01mfrom\u001b[39;00m \u001b[38;5;21;01mtensorflow_estimator\u001b[39;00m\u001b[38;5;21;01m.\u001b[39;00m\u001b[38;5;21;01mpython\u001b[39;00m\u001b[38;5;21;01m.\u001b[39;00m\u001b[38;5;21;01mestimator\u001b[39;00m\u001b[38;5;21;01m.\u001b[39;00m\u001b[38;5;21;01mcanned\u001b[39;00m\u001b[38;5;21;01m.\u001b[39;00m\u001b[38;5;21;01mkmeans\u001b[39;00m \u001b[38;5;28;01mimport\u001b[39;00m KMeansClustering \u001b[38;5;28;01mas\u001b[39;00m KMeans\n\u001b[1;32m     10\u001b[0m \u001b[38;5;28;01mfrom\u001b[39;00m \u001b[38;5;21;01mtensorflow_estimator\u001b[39;00m\u001b[38;5;21;01m.\u001b[39;00m\u001b[38;5;21;01mpython\u001b[39;00m\u001b[38;5;21;01m.\u001b[39;00m\u001b[38;5;21;01mestimator\u001b[39;00m\u001b[38;5;21;01m.\u001b[39;00m\u001b[38;5;21;01mcanned\u001b[39;00m\u001b[38;5;21;01m.\u001b[39;00m\u001b[38;5;21;01mlinear\u001b[39;00m \u001b[38;5;28;01mimport\u001b[39;00m LinearSDCA\n",
      "File \u001b[0;32m~/.local/lib/python3.8/site-packages/tensorflow_estimator/python/estimator/canned/dnn.py:29\u001b[0m, in \u001b[0;36m<module>\u001b[0;34m\u001b[0m\n\u001b[1;32m     27\u001b[0m \u001b[38;5;28;01mfrom\u001b[39;00m \u001b[38;5;21;01mtensorflow_estimator\u001b[39;00m\u001b[38;5;21;01m.\u001b[39;00m\u001b[38;5;21;01mpython\u001b[39;00m\u001b[38;5;21;01m.\u001b[39;00m\u001b[38;5;21;01mestimator\u001b[39;00m \u001b[38;5;28;01mimport\u001b[39;00m estimator\n\u001b[1;32m     28\u001b[0m \u001b[38;5;28;01mfrom\u001b[39;00m \u001b[38;5;21;01mtensorflow_estimator\u001b[39;00m\u001b[38;5;21;01m.\u001b[39;00m\u001b[38;5;21;01mpython\u001b[39;00m\u001b[38;5;21;01m.\u001b[39;00m\u001b[38;5;21;01mestimator\u001b[39;00m\u001b[38;5;21;01m.\u001b[39;00m\u001b[38;5;21;01mcanned\u001b[39;00m \u001b[38;5;28;01mimport\u001b[39;00m head \u001b[38;5;28;01mas\u001b[39;00m head_lib\n\u001b[0;32m---> 29\u001b[0m \u001b[38;5;28;01mfrom\u001b[39;00m \u001b[38;5;21;01mtensorflow_estimator\u001b[39;00m\u001b[38;5;21;01m.\u001b[39;00m\u001b[38;5;21;01mpython\u001b[39;00m\u001b[38;5;21;01m.\u001b[39;00m\u001b[38;5;21;01mestimator\u001b[39;00m\u001b[38;5;21;01m.\u001b[39;00m\u001b[38;5;21;01mcanned\u001b[39;00m \u001b[38;5;28;01mimport\u001b[39;00m optimizers\n\u001b[1;32m     30\u001b[0m \u001b[38;5;28;01mfrom\u001b[39;00m \u001b[38;5;21;01mtensorflow_estimator\u001b[39;00m\u001b[38;5;21;01m.\u001b[39;00m\u001b[38;5;21;01mpython\u001b[39;00m\u001b[38;5;21;01m.\u001b[39;00m\u001b[38;5;21;01mestimator\u001b[39;00m\u001b[38;5;21;01m.\u001b[39;00m\u001b[38;5;21;01mhead\u001b[39;00m \u001b[38;5;28;01mimport\u001b[39;00m head_utils\n\u001b[1;32m     31\u001b[0m \u001b[38;5;28;01mfrom\u001b[39;00m \u001b[38;5;21;01mtensorflow_estimator\u001b[39;00m\u001b[38;5;21;01m.\u001b[39;00m\u001b[38;5;21;01mpython\u001b[39;00m\u001b[38;5;21;01m.\u001b[39;00m\u001b[38;5;21;01mestimator\u001b[39;00m\u001b[38;5;21;01m.\u001b[39;00m\u001b[38;5;21;01mhead\u001b[39;00m \u001b[38;5;28;01mimport\u001b[39;00m regression_head\n",
      "File \u001b[0;32m~/.local/lib/python3.8/site-packages/tensorflow_estimator/python/estimator/canned/optimizers.py:34\u001b[0m, in \u001b[0;36m<module>\u001b[0;34m\u001b[0m\n\u001b[1;32m     23\u001b[0m \u001b[38;5;28;01mimport\u001b[39;00m \u001b[38;5;21;01mtensorflow\u001b[39;00m \u001b[38;5;28;01mas\u001b[39;00m \u001b[38;5;21;01mtf\u001b[39;00m\n\u001b[1;32m     25\u001b[0m _OPTIMIZER_CLS_NAMES \u001b[38;5;241m=\u001b[39m {\n\u001b[1;32m     26\u001b[0m     \u001b[38;5;124m'\u001b[39m\u001b[38;5;124mAdagrad\u001b[39m\u001b[38;5;124m'\u001b[39m: tf\u001b[38;5;241m.\u001b[39mcompat\u001b[38;5;241m.\u001b[39mv1\u001b[38;5;241m.\u001b[39mtrain\u001b[38;5;241m.\u001b[39mAdagradOptimizer,\n\u001b[1;32m     27\u001b[0m     \u001b[38;5;124m'\u001b[39m\u001b[38;5;124mAdam\u001b[39m\u001b[38;5;124m'\u001b[39m: tf\u001b[38;5;241m.\u001b[39mcompat\u001b[38;5;241m.\u001b[39mv1\u001b[38;5;241m.\u001b[39mtrain\u001b[38;5;241m.\u001b[39mAdamOptimizer,\n\u001b[0;32m   (...)\u001b[0m\n\u001b[1;32m     30\u001b[0m     \u001b[38;5;124m'\u001b[39m\u001b[38;5;124mSGD\u001b[39m\u001b[38;5;124m'\u001b[39m: tf\u001b[38;5;241m.\u001b[39mcompat\u001b[38;5;241m.\u001b[39mv1\u001b[38;5;241m.\u001b[39mtrain\u001b[38;5;241m.\u001b[39mGradientDescentOptimizer,\n\u001b[1;32m     31\u001b[0m }\n\u001b[1;32m     33\u001b[0m _OPTIMIZER_CLS_NAMES_V2 \u001b[38;5;241m=\u001b[39m {\n\u001b[0;32m---> 34\u001b[0m     \u001b[38;5;124m'\u001b[39m\u001b[38;5;124mAdagrad\u001b[39m\u001b[38;5;124m'\u001b[39m: \u001b[43mtf\u001b[49m\u001b[38;5;241;43m.\u001b[39;49m\u001b[43mkeras\u001b[49m\u001b[38;5;241;43m.\u001b[39;49m\u001b[43moptimizers\u001b[49m\u001b[38;5;241m.\u001b[39mAdagrad,\n\u001b[1;32m     35\u001b[0m     \u001b[38;5;124m'\u001b[39m\u001b[38;5;124mAdam\u001b[39m\u001b[38;5;124m'\u001b[39m: tf\u001b[38;5;241m.\u001b[39mkeras\u001b[38;5;241m.\u001b[39moptimizers\u001b[38;5;241m.\u001b[39mAdam,\n\u001b[1;32m     36\u001b[0m     \u001b[38;5;124m'\u001b[39m\u001b[38;5;124mFtrl\u001b[39m\u001b[38;5;124m'\u001b[39m: tf\u001b[38;5;241m.\u001b[39mkeras\u001b[38;5;241m.\u001b[39moptimizers\u001b[38;5;241m.\u001b[39mFtrl,\n\u001b[1;32m     37\u001b[0m     \u001b[38;5;124m'\u001b[39m\u001b[38;5;124mRMSProp\u001b[39m\u001b[38;5;124m'\u001b[39m: tf\u001b[38;5;241m.\u001b[39mkeras\u001b[38;5;241m.\u001b[39moptimizers\u001b[38;5;241m.\u001b[39mRMSprop,\n\u001b[1;32m     38\u001b[0m     \u001b[38;5;124m'\u001b[39m\u001b[38;5;124mSGD\u001b[39m\u001b[38;5;124m'\u001b[39m: tf\u001b[38;5;241m.\u001b[39mkeras\u001b[38;5;241m.\u001b[39moptimizers\u001b[38;5;241m.\u001b[39mSGD,\n\u001b[1;32m     39\u001b[0m }\n\u001b[1;32m     41\u001b[0m \u001b[38;5;66;03m# The default learning rate of 0.05 is a historical artifact of the initial\u001b[39;00m\n\u001b[1;32m     42\u001b[0m \u001b[38;5;66;03m# implementation, but seems a reasonable choice.\u001b[39;00m\n\u001b[1;32m     43\u001b[0m _LEARNING_RATE \u001b[38;5;241m=\u001b[39m \u001b[38;5;241m0.05\u001b[39m\n",
      "\u001b[0;31mAttributeError\u001b[0m: module 'keras.api._v2.keras' has no attribute 'optimizers'"
     ]
    }
   ],
   "source": [
    "import tensorflow as tf\n",
    "print(tf.version)\n",
    "from tflite_model_maker.config import ExportFormat\n",
    "from tflite_model_maker import model_spec\n",
    "from tflite_model_maker import object_detector\n",
    "\n",
    "assert tf.__version__.startswith('2')\n",
    "tf.get_logger().setLevel('ERROR')\n",
    "from absl import logging\n",
    "logging.set_verbosity(logging.ERROR)"
   ]
  },
  {
   "cell_type": "code",
   "execution_count": 3,
   "id": "783e352e",
   "metadata": {
    "pycharm": {
     "name": "#%%\n"
    }
   },
   "outputs": [
    {
     "name": "stdout",
     "output_type": "stream",
     "text": [
      "True\n"
     ]
    },
    {
     "name": "stderr",
     "output_type": "stream",
     "text": [
      "2022-03-03 15:54:03.015502: I tensorflow/core/platform/cpu_feature_guard.cc:151] This TensorFlow binary is optimized with oneAPI Deep Neural Network Library (oneDNN) to use the following CPU instructions in performance-critical operations:  AVX2 FMA\n",
      "To enable them in other operations, rebuild TensorFlow with the appropriate compiler flags.\n",
      "2022-03-03 15:54:05.234975: I tensorflow/core/common_runtime/gpu/gpu_device.cc:1525] Created device /device:GPU:0 with 10015 MB memory:  -> device: 0, name: NVIDIA GeForce GTX 1080 Ti, pci bus id: 0000:03:00.0, compute capability: 6.1\n",
      "2022-03-03 15:54:05.237437: I tensorflow/core/common_runtime/gpu/gpu_device.cc:1525] Created device /device:GPU:1 with 10406 MB memory:  -> device: 1, name: NVIDIA GeForce GTX 1080 Ti, pci bus id: 0000:a1:00.0, compute capability: 6.1\n"
     ]
    }
   ],
   "source": [
    "print(tf.test.is_gpu_available())\n",
    "#pip list"
   ]
  },
  {
   "cell_type": "code",
   "execution_count": 4,
   "id": "03dcf59c",
   "metadata": {
    "pycharm": {
     "name": "#%%\n"
    }
   },
   "outputs": [
    {
     "name": "stderr",
     "output_type": "stream",
     "text": [
      "2022-03-03 15:54:08.095872: I tensorflow/core/common_runtime/gpu/gpu_device.cc:1525] Created device /job:localhost/replica:0/task:0/device:GPU:0 with 10015 MB memory:  -> device: 0, name: NVIDIA GeForce GTX 1080 Ti, pci bus id: 0000:03:00.0, compute capability: 6.1\n",
      "2022-03-03 15:54:08.096178: I tensorflow/core/common_runtime/gpu/gpu_device.cc:1525] Created device /job:localhost/replica:0/task:0/device:GPU:1 with 10406 MB memory:  -> device: 1, name: NVIDIA GeForce GTX 1080 Ti, pci bus id: 0000:a1:00.0, compute capability: 6.1\n"
     ]
    }
   ],
   "source": [
    "spec = model_spec.get('efficientdet_lite0')"
   ]
  },
  {
   "cell_type": "code",
   "execution_count": 5,
   "id": "c2203f29",
   "metadata": {
    "pycharm": {
     "name": "#%%\n"
    }
   },
   "outputs": [],
   "source": [
    "train_data, validation_data, test_data = object_detector.DataLoader.from_csv('/home/acarlier/code/OrnithoScope/data/input.csv')"
   ]
  },
  {
   "cell_type": "code",
   "execution_count": 8,
   "id": "d75ac1f2",
   "metadata": {
    "pycharm": {
     "name": "#%%\n"
    }
   },
   "outputs": [
    {
     "name": "stdout",
     "output_type": "stream",
     "text": [
      "Epoch 1/50\n",
      "1052/1052 [==============================] - 230s 189ms/step - det_loss: 0.7483 - cls_loss: 0.5410 - box_loss: 0.0041 - reg_l2_loss: 0.0662 - loss: 0.8145 - learning_rate: 0.0090 - gradient_norm: 2.9757 - val_det_loss: 0.6748 - val_cls_loss: 0.5271 - val_box_loss: 0.0030 - val_reg_l2_loss: 0.0667 - val_loss: 0.7416\n",
      "Epoch 2/50\n",
      "1052/1052 [==============================] - 199s 189ms/step - det_loss: 0.5395 - cls_loss: 0.3968 - box_loss: 0.0029 - reg_l2_loss: 0.0673 - loss: 0.6068 - learning_rate: 0.0100 - gradient_norm: 2.6149 - val_det_loss: 0.6235 - val_cls_loss: 0.4863 - val_box_loss: 0.0027 - val_reg_l2_loss: 0.0677 - val_loss: 0.6912\n",
      "Epoch 3/50\n",
      "1052/1052 [==============================] - 201s 191ms/step - det_loss: 0.4900 - cls_loss: 0.3635 - box_loss: 0.0025 - reg_l2_loss: 0.0681 - loss: 0.5581 - learning_rate: 0.0099 - gradient_norm: 2.3156 - val_det_loss: 0.6602 - val_cls_loss: 0.5036 - val_box_loss: 0.0031 - val_reg_l2_loss: 0.0684 - val_loss: 0.7286\n",
      "Epoch 4/50\n",
      "1052/1052 [==============================] - 202s 192ms/step - det_loss: 0.4695 - cls_loss: 0.3493 - box_loss: 0.0024 - reg_l2_loss: 0.0687 - loss: 0.5382 - learning_rate: 0.0099 - gradient_norm: 2.2340 - val_det_loss: 0.6068 - val_cls_loss: 0.4865 - val_box_loss: 0.0024 - val_reg_l2_loss: 0.0690 - val_loss: 0.6758\n",
      "Epoch 5/50\n",
      "1052/1052 [==============================] - 230s 218ms/step - det_loss: 0.4590 - cls_loss: 0.3432 - box_loss: 0.0023 - reg_l2_loss: 0.0692 - loss: 0.5282 - learning_rate: 0.0098 - gradient_norm: 2.1569 - val_det_loss: 0.5611 - val_cls_loss: 0.4484 - val_box_loss: 0.0023 - val_reg_l2_loss: 0.0695 - val_loss: 0.6306\n",
      "Epoch 6/50\n",
      "1052/1052 [==============================] - 202s 192ms/step - det_loss: 0.4420 - cls_loss: 0.3340 - box_loss: 0.0022 - reg_l2_loss: 0.0697 - loss: 0.5117 - learning_rate: 0.0097 - gradient_norm: 2.0478 - val_det_loss: 0.6085 - val_cls_loss: 0.4717 - val_box_loss: 0.0027 - val_reg_l2_loss: 0.0698 - val_loss: 0.6783\n",
      "Epoch 7/50\n",
      "1052/1052 [==============================] - 201s 191ms/step - det_loss: 0.4414 - cls_loss: 0.3318 - box_loss: 0.0022 - reg_l2_loss: 0.0701 - loss: 0.5115 - learning_rate: 0.0096 - gradient_norm: 2.1282 - val_det_loss: 0.5596 - val_cls_loss: 0.4537 - val_box_loss: 0.0021 - val_reg_l2_loss: 0.0703 - val_loss: 0.6299\n",
      "Epoch 8/50\n",
      "1052/1052 [==============================] - 198s 189ms/step - det_loss: 0.4257 - cls_loss: 0.3230 - box_loss: 0.0021 - reg_l2_loss: 0.0705 - loss: 0.4962 - learning_rate: 0.0094 - gradient_norm: 2.0641 - val_det_loss: 0.5960 - val_cls_loss: 0.4576 - val_box_loss: 0.0028 - val_reg_l2_loss: 0.0707 - val_loss: 0.6667\n",
      "Epoch 9/50\n",
      "1052/1052 [==============================] - 201s 191ms/step - det_loss: 0.4205 - cls_loss: 0.3180 - box_loss: 0.0020 - reg_l2_loss: 0.0709 - loss: 0.4914 - learning_rate: 0.0093 - gradient_norm: 2.0385 - val_det_loss: 0.6151 - val_cls_loss: 0.4915 - val_box_loss: 0.0025 - val_reg_l2_loss: 0.0710 - val_loss: 0.6861\n",
      "Epoch 10/50\n",
      "1052/1052 [==============================] - 224s 213ms/step - det_loss: 0.4010 - cls_loss: 0.3050 - box_loss: 0.0019 - reg_l2_loss: 0.0712 - loss: 0.4722 - learning_rate: 0.0091 - gradient_norm: 2.0249 - val_det_loss: 0.5247 - val_cls_loss: 0.4150 - val_box_loss: 0.0022 - val_reg_l2_loss: 0.0713 - val_loss: 0.5960\n",
      "Epoch 11/50\n",
      "1052/1052 [==============================] - 202s 192ms/step - det_loss: 0.3903 - cls_loss: 0.2963 - box_loss: 0.0019 - reg_l2_loss: 0.0715 - loss: 0.4618 - learning_rate: 0.0089 - gradient_norm: 2.1028 - val_det_loss: 0.6093 - val_cls_loss: 0.4473 - val_box_loss: 0.0032 - val_reg_l2_loss: 0.0716 - val_loss: 0.6809\n",
      "Epoch 12/50\n",
      "1052/1052 [==============================] - 200s 190ms/step - det_loss: 0.3845 - cls_loss: 0.2895 - box_loss: 0.0019 - reg_l2_loss: 0.0718 - loss: 0.4563 - learning_rate: 0.0087 - gradient_norm: 2.0994 - val_det_loss: 0.5196 - val_cls_loss: 0.4369 - val_box_loss: 0.0017 - val_reg_l2_loss: 0.0719 - val_loss: 0.5915\n",
      "Epoch 13/50\n",
      "1052/1052 [==============================] - 201s 191ms/step - det_loss: 0.3754 - cls_loss: 0.2824 - box_loss: 0.0019 - reg_l2_loss: 0.0721 - loss: 0.4475 - learning_rate: 0.0085 - gradient_norm: 2.1936 - val_det_loss: 0.5678 - val_cls_loss: 0.4385 - val_box_loss: 0.0026 - val_reg_l2_loss: 0.0723 - val_loss: 0.6401\n",
      "Epoch 14/50\n",
      "1052/1052 [==============================] - 202s 192ms/step - det_loss: 0.3547 - cls_loss: 0.2664 - box_loss: 0.0018 - reg_l2_loss: 0.0724 - loss: 0.4271 - learning_rate: 0.0082 - gradient_norm: 2.0916 - val_det_loss: 0.6095 - val_cls_loss: 0.5010 - val_box_loss: 0.0022 - val_reg_l2_loss: 0.0725 - val_loss: 0.6820\n",
      "Epoch 15/50\n",
      "1052/1052 [==============================] - 223s 212ms/step - det_loss: 0.3546 - cls_loss: 0.2664 - box_loss: 0.0018 - reg_l2_loss: 0.0726 - loss: 0.4272 - learning_rate: 0.0080 - gradient_norm: 2.1046 - val_det_loss: 0.5704 - val_cls_loss: 0.4398 - val_box_loss: 0.0026 - val_reg_l2_loss: 0.0727 - val_loss: 0.6431\n",
      "Epoch 16/50\n",
      "1052/1052 [==============================] - 201s 191ms/step - det_loss: 0.3439 - cls_loss: 0.2575 - box_loss: 0.0017 - reg_l2_loss: 0.0729 - loss: 0.4168 - learning_rate: 0.0077 - gradient_norm: 2.1444 - val_det_loss: 0.5371 - val_cls_loss: 0.4513 - val_box_loss: 0.0017 - val_reg_l2_loss: 0.0730 - val_loss: 0.6100\n",
      "Epoch 17/50\n",
      "1052/1052 [==============================] - 201s 191ms/step - det_loss: 0.3350 - cls_loss: 0.2510 - box_loss: 0.0017 - reg_l2_loss: 0.0731 - loss: 0.4080 - learning_rate: 0.0075 - gradient_norm: 2.1329 - val_det_loss: 0.5654 - val_cls_loss: 0.4829 - val_box_loss: 0.0017 - val_reg_l2_loss: 0.0731 - val_loss: 0.6385\n",
      "Epoch 18/50\n",
      "1052/1052 [==============================] - 202s 192ms/step - det_loss: 0.3330 - cls_loss: 0.2498 - box_loss: 0.0017 - reg_l2_loss: 0.0733 - loss: 0.4063 - learning_rate: 0.0072 - gradient_norm: 2.2083 - val_det_loss: 0.6284 - val_cls_loss: 0.4976 - val_box_loss: 0.0026 - val_reg_l2_loss: 0.0733 - val_loss: 0.7017\n",
      "Epoch 19/50\n",
      "1052/1052 [==============================] - 197s 187ms/step - det_loss: 0.3208 - cls_loss: 0.2388 - box_loss: 0.0016 - reg_l2_loss: 0.0734 - loss: 0.3942 - learning_rate: 0.0069 - gradient_norm: 2.1816 - val_det_loss: 0.5718 - val_cls_loss: 0.4618 - val_box_loss: 0.0022 - val_reg_l2_loss: 0.0735 - val_loss: 0.6453\n",
      "Epoch 20/50\n",
      "1052/1052 [==============================] - 217s 206ms/step - det_loss: 0.3152 - cls_loss: 0.2344 - box_loss: 0.0016 - reg_l2_loss: 0.0736 - loss: 0.3888 - learning_rate: 0.0066 - gradient_norm: 2.2061 - val_det_loss: 0.5818 - val_cls_loss: 0.4761 - val_box_loss: 0.0021 - val_reg_l2_loss: 0.0737 - val_loss: 0.6555\n",
      "Epoch 21/50\n",
      "1052/1052 [==============================] - 197s 188ms/step - det_loss: 0.3124 - cls_loss: 0.2316 - box_loss: 0.0016 - reg_l2_loss: 0.0737 - loss: 0.3862 - learning_rate: 0.0063 - gradient_norm: 2.2385 - val_det_loss: 0.7492 - val_cls_loss: 0.6392 - val_box_loss: 0.0022 - val_reg_l2_loss: 0.0738 - val_loss: 0.8230\n",
      "Epoch 22/50\n",
      "1052/1052 [==============================] - 198s 188ms/step - det_loss: 0.3094 - cls_loss: 0.2303 - box_loss: 0.0016 - reg_l2_loss: 0.0739 - loss: 0.3833 - learning_rate: 0.0060 - gradient_norm: 2.2397 - val_det_loss: 0.6362 - val_cls_loss: 0.5210 - val_box_loss: 0.0023 - val_reg_l2_loss: 0.0739 - val_loss: 0.7101\n",
      "Epoch 23/50\n",
      "1052/1052 [==============================] - 194s 185ms/step - det_loss: 0.2961 - cls_loss: 0.2201 - box_loss: 0.0015 - reg_l2_loss: 0.0739 - loss: 0.3700 - learning_rate: 0.0056 - gradient_norm: 2.1774 - val_det_loss: 0.5405 - val_cls_loss: 0.4693 - val_box_loss: 0.0014 - val_reg_l2_loss: 0.0740 - val_loss: 0.6144\n",
      "Epoch 24/50\n",
      "1052/1052 [==============================] - 196s 187ms/step - det_loss: 0.2954 - cls_loss: 0.2208 - box_loss: 0.0015 - reg_l2_loss: 0.0740 - loss: 0.3694 - learning_rate: 0.0053 - gradient_norm: 2.1977 - val_det_loss: 0.4744 - val_cls_loss: 0.4119 - val_box_loss: 0.0013 - val_reg_l2_loss: 0.0740 - val_loss: 0.5484\n",
      "Epoch 25/50\n",
      "1052/1052 [==============================] - 216s 205ms/step - det_loss: 0.2842 - cls_loss: 0.2112 - box_loss: 0.0015 - reg_l2_loss: 0.0740 - loss: 0.3582 - learning_rate: 0.0050 - gradient_norm: 2.2317 - val_det_loss: 0.4777 - val_cls_loss: 0.4018 - val_box_loss: 0.0015 - val_reg_l2_loss: 0.0740 - val_loss: 0.5517\n",
      "Epoch 26/50\n",
      "1052/1052 [==============================] - 194s 184ms/step - det_loss: 0.2834 - cls_loss: 0.2108 - box_loss: 0.0015 - reg_l2_loss: 0.0740 - loss: 0.3575 - learning_rate: 0.0047 - gradient_norm: 2.2824 - val_det_loss: 0.4244 - val_cls_loss: 0.3593 - val_box_loss: 0.0013 - val_reg_l2_loss: 0.0741 - val_loss: 0.4985\n",
      "Epoch 27/50\n",
      "1052/1052 [==============================] - 194s 184ms/step - det_loss: 0.2760 - cls_loss: 0.2049 - box_loss: 0.0014 - reg_l2_loss: 0.0741 - loss: 0.3501 - learning_rate: 0.0044 - gradient_norm: 2.1959 - val_det_loss: 0.4296 - val_cls_loss: 0.3698 - val_box_loss: 0.0012 - val_reg_l2_loss: 0.0740 - val_loss: 0.5036\n",
      "Epoch 28/50\n",
      "1052/1052 [==============================] - 197s 187ms/step - det_loss: 0.2739 - cls_loss: 0.2048 - box_loss: 0.0014 - reg_l2_loss: 0.0740 - loss: 0.3479 - learning_rate: 0.0040 - gradient_norm: 2.3026 - val_det_loss: 0.4535 - val_cls_loss: 0.3961 - val_box_loss: 0.0011 - val_reg_l2_loss: 0.0740 - val_loss: 0.5275\n",
      "Epoch 29/50\n",
      "1052/1052 [==============================] - 198s 188ms/step - det_loss: 0.2711 - cls_loss: 0.2028 - box_loss: 0.0014 - reg_l2_loss: 0.0740 - loss: 0.3451 - learning_rate: 0.0037 - gradient_norm: 2.2451 - val_det_loss: 0.4230 - val_cls_loss: 0.3728 - val_box_loss: 0.0010 - val_reg_l2_loss: 0.0740 - val_loss: 0.4970\n",
      "Epoch 30/50\n",
      "1052/1052 [==============================] - 219s 208ms/step - det_loss: 0.2633 - cls_loss: 0.1968 - box_loss: 0.0013 - reg_l2_loss: 0.0740 - loss: 0.3373 - learning_rate: 0.0034 - gradient_norm: 2.2520 - val_det_loss: 0.3965 - val_cls_loss: 0.3376 - val_box_loss: 0.0012 - val_reg_l2_loss: 0.0740 - val_loss: 0.4705\n",
      "Epoch 31/50\n",
      "1052/1052 [==============================] - 195s 185ms/step - det_loss: 0.2598 - cls_loss: 0.1933 - box_loss: 0.0013 - reg_l2_loss: 0.0740 - loss: 0.3337 - learning_rate: 0.0031 - gradient_norm: 2.2478 - val_det_loss: 0.4162 - val_cls_loss: 0.3627 - val_box_loss: 0.0011 - val_reg_l2_loss: 0.0739 - val_loss: 0.4901\n",
      "Epoch 32/50\n",
      "1052/1052 [==============================] - 195s 185ms/step - det_loss: 0.2560 - cls_loss: 0.1914 - box_loss: 0.0013 - reg_l2_loss: 0.0739 - loss: 0.3299 - learning_rate: 0.0028 - gradient_norm: 2.3290 - val_det_loss: 0.3999 - val_cls_loss: 0.3422 - val_box_loss: 0.0012 - val_reg_l2_loss: 0.0739 - val_loss: 0.4738\n",
      "Epoch 33/50\n",
      "1052/1052 [==============================] - 196s 186ms/step - det_loss: 0.2523 - cls_loss: 0.1892 - box_loss: 0.0013 - reg_l2_loss: 0.0739 - loss: 0.3262 - learning_rate: 0.0025 - gradient_norm: 2.2651 - val_det_loss: 0.4444 - val_cls_loss: 0.3898 - val_box_loss: 0.0011 - val_reg_l2_loss: 0.0738 - val_loss: 0.5182\n",
      "Epoch 34/50\n",
      "1052/1052 [==============================] - 196s 187ms/step - det_loss: 0.2479 - cls_loss: 0.1847 - box_loss: 0.0013 - reg_l2_loss: 0.0738 - loss: 0.3217 - learning_rate: 0.0023 - gradient_norm: 2.2577 - val_det_loss: 0.3398 - val_cls_loss: 0.2826 - val_box_loss: 0.0011 - val_reg_l2_loss: 0.0738 - val_loss: 0.4135\n",
      "Epoch 35/50\n",
      "1052/1052 [==============================] - 218s 207ms/step - det_loss: 0.2395 - cls_loss: 0.1798 - box_loss: 0.0012 - reg_l2_loss: 0.0737 - loss: 0.3133 - learning_rate: 0.0020 - gradient_norm: 2.2261 - val_det_loss: 0.3922 - val_cls_loss: 0.3349 - val_box_loss: 0.0011 - val_reg_l2_loss: 0.0737 - val_loss: 0.4659\n",
      "Epoch 36/50\n",
      "1052/1052 [==============================] - 197s 187ms/step - det_loss: 0.2378 - cls_loss: 0.1781 - box_loss: 0.0012 - reg_l2_loss: 0.0737 - loss: 0.3115 - learning_rate: 0.0018 - gradient_norm: 2.2618 - val_det_loss: 0.3592 - val_cls_loss: 0.3044 - val_box_loss: 0.0011 - val_reg_l2_loss: 0.0737 - val_loss: 0.4328\n",
      "Epoch 37/50\n",
      "1052/1052 [==============================] - 196s 186ms/step - det_loss: 0.2383 - cls_loss: 0.1785 - box_loss: 0.0012 - reg_l2_loss: 0.0736 - loss: 0.3120 - learning_rate: 0.0015 - gradient_norm: 2.3341 - val_det_loss: 0.3845 - val_cls_loss: 0.3371 - val_box_loss: 9.4835e-04 - val_reg_l2_loss: 0.0736 - val_loss: 0.4581\n",
      "Epoch 38/50\n",
      "1052/1052 [==============================] - 197s 187ms/step - det_loss: 0.2326 - cls_loss: 0.1735 - box_loss: 0.0012 - reg_l2_loss: 0.0736 - loss: 0.3061 - learning_rate: 0.0013 - gradient_norm: 2.2749 - val_det_loss: 0.3799 - val_cls_loss: 0.3156 - val_box_loss: 0.0013 - val_reg_l2_loss: 0.0736 - val_loss: 0.4535\n",
      "Epoch 39/50\n",
      "1052/1052 [==============================] - 198s 188ms/step - det_loss: 0.2298 - cls_loss: 0.1717 - box_loss: 0.0012 - reg_l2_loss: 0.0735 - loss: 0.3033 - learning_rate: 0.0011 - gradient_norm: 2.3132 - val_det_loss: 0.3583 - val_cls_loss: 0.3070 - val_box_loss: 0.0010 - val_reg_l2_loss: 0.0735 - val_loss: 0.4318\n",
      "Epoch 40/50\n",
      "1052/1052 [==============================] - 216s 205ms/step - det_loss: 0.2321 - cls_loss: 0.1721 - box_loss: 0.0012 - reg_l2_loss: 0.0735 - loss: 0.3056 - learning_rate: 8.9984e-04 - gradient_norm: 2.2867 - val_det_loss: 0.3267 - val_cls_loss: 0.2739 - val_box_loss: 0.0011 - val_reg_l2_loss: 0.0735 - val_loss: 0.4002\n",
      "Epoch 41/50\n",
      "1052/1052 [==============================] - 195s 186ms/step - det_loss: 0.2253 - cls_loss: 0.1679 - box_loss: 0.0011 - reg_l2_loss: 0.0735 - loss: 0.2988 - learning_rate: 7.2502e-04 - gradient_norm: 2.2773 - val_det_loss: 0.3285 - val_cls_loss: 0.2814 - val_box_loss: 9.4093e-04 - val_reg_l2_loss: 0.0734 - val_loss: 0.4019\n",
      "Epoch 42/50\n",
      "1052/1052 [==============================] - 197s 188ms/step - det_loss: 0.2258 - cls_loss: 0.1685 - box_loss: 0.0011 - reg_l2_loss: 0.0734 - loss: 0.2992 - learning_rate: 5.6776e-04 - gradient_norm: 2.2930 - val_det_loss: 0.3251 - val_cls_loss: 0.2766 - val_box_loss: 9.7022e-04 - val_reg_l2_loss: 0.0734 - val_loss: 0.3985\n",
      "Epoch 43/50\n",
      "1052/1052 [==============================] - 197s 187ms/step - det_loss: 0.2218 - cls_loss: 0.1647 - box_loss: 0.0011 - reg_l2_loss: 0.0734 - loss: 0.2952 - learning_rate: 4.2872e-04 - gradient_norm: 2.3171 - val_det_loss: 0.3237 - val_cls_loss: 0.2721 - val_box_loss: 0.0010 - val_reg_l2_loss: 0.0734 - val_loss: 0.3971\n",
      "Epoch 44/50\n",
      "1052/1052 [==============================] - 196s 186ms/step - det_loss: 0.2263 - cls_loss: 0.1684 - box_loss: 0.0012 - reg_l2_loss: 0.0734 - loss: 0.2997 - learning_rate: 3.0846e-04 - gradient_norm: 2.3504 - val_det_loss: 0.3225 - val_cls_loss: 0.2714 - val_box_loss: 0.0010 - val_reg_l2_loss: 0.0734 - val_loss: 0.3959\n",
      "Epoch 45/50\n",
      "1052/1052 [==============================] - 216s 205ms/step - det_loss: 0.2225 - cls_loss: 0.1650 - box_loss: 0.0011 - reg_l2_loss: 0.0734 - loss: 0.2958 - learning_rate: 2.0748e-04 - gradient_norm: 2.3136 - val_det_loss: 0.3319 - val_cls_loss: 0.2791 - val_box_loss: 0.0011 - val_reg_l2_loss: 0.0734 - val_loss: 0.4053\n",
      "Epoch 46/50\n",
      "1052/1052 [==============================] - 196s 186ms/step - det_loss: 0.2208 - cls_loss: 0.1641 - box_loss: 0.0011 - reg_l2_loss: 0.0734 - loss: 0.2942 - learning_rate: 1.2620e-04 - gradient_norm: 2.2578 - val_det_loss: 0.3264 - val_cls_loss: 0.2756 - val_box_loss: 0.0010 - val_reg_l2_loss: 0.0734 - val_loss: 0.3998\n",
      "Epoch 47/50\n",
      "1052/1052 [==============================] - 197s 187ms/step - det_loss: 0.2170 - cls_loss: 0.1608 - box_loss: 0.0011 - reg_l2_loss: 0.0734 - loss: 0.2903 - learning_rate: 6.4938e-05 - gradient_norm: 2.2543 - val_det_loss: 0.3312 - val_cls_loss: 0.2807 - val_box_loss: 0.0010 - val_reg_l2_loss: 0.0734 - val_loss: 0.4046\n",
      "Epoch 48/50\n",
      "1052/1052 [==============================] - 196s 187ms/step - det_loss: 0.2201 - cls_loss: 0.1632 - box_loss: 0.0011 - reg_l2_loss: 0.0734 - loss: 0.2935 - learning_rate: 2.3958e-05 - gradient_norm: 2.2626 - val_det_loss: 0.3306 - val_cls_loss: 0.2808 - val_box_loss: 9.9702e-04 - val_reg_l2_loss: 0.0734 - val_loss: 0.4040\n",
      "Epoch 49/50\n",
      "1052/1052 [==============================] - 198s 188ms/step - det_loss: 0.2221 - cls_loss: 0.1644 - box_loss: 0.0012 - reg_l2_loss: 0.0734 - loss: 0.2955 - learning_rate: 3.4264e-06 - gradient_norm: 2.3127 - val_det_loss: 0.3291 - val_cls_loss: 0.2796 - val_box_loss: 9.9138e-04 - val_reg_l2_loss: 0.0734 - val_loss: 0.4025\n",
      "Epoch 50/50\n",
      "1052/1052 [==============================] - 218s 208ms/step - det_loss: 0.2221 - cls_loss: 0.1646 - box_loss: 0.0011 - reg_l2_loss: 0.0734 - loss: 0.2954 - learning_rate: 3.4264e-06 - gradient_norm: 2.3116 - val_det_loss: 0.3310 - val_cls_loss: 0.2815 - val_box_loss: 9.8969e-04 - val_reg_l2_loss: 0.0734 - val_loss: 0.4044\n"
     ]
    }
   ],
   "source": [
    "model = object_detector.create(train_data, model_spec=spec, epochs=50, batch_size=8, train_whole_model=True, validation_data=validation_data)"
   ]
  },
  {
   "cell_type": "code",
   "execution_count": 1,
   "id": "82a44d19",
   "metadata": {
    "pycharm": {
     "name": "#%%\n"
    }
   },
   "outputs": [
    {
     "ename": "NameError",
     "evalue": "name 'model' is not defined",
     "output_type": "error",
     "traceback": [
      "\u001b[0;31m---------------------------------------------------------------------------\u001b[0m",
      "\u001b[0;31mNameError\u001b[0m                                 Traceback (most recent call last)",
      "\u001b[1;32m/home/acarlier/code/OrnithoScope/notebooks/model_training/efficientDet0.ipynb Cell 7'\u001b[0m in \u001b[0;36m<module>\u001b[0;34m\u001b[0m\n\u001b[0;32m----> <a href='vscode-notebook-cell:/home/acarlier/code/OrnithoScope/notebooks/model_training/efficientDet0.ipynb#ch0000006?line=0'>1</a>\u001b[0m model\u001b[39m.\u001b[39mevaluate(test_data)\n",
      "\u001b[0;31mNameError\u001b[0m: name 'model' is not defined"
     ]
    }
   ],
   "source": [
    "model.evaluate(test_data)"
   ]
  },
  {
   "cell_type": "code",
   "execution_count": null,
   "id": "d774f64c",
   "metadata": {
    "pycharm": {
     "name": "#%%\n"
    }
   },
   "outputs": [],
   "source": []
  }
 ],
 "metadata": {
  "kernelspec": {
   "display_name": "Python 3 (ipykernel)",
   "language": "python",
   "name": "python3"
  },
  "language_info": {
   "codemirror_mode": {
    "name": "ipython",
    "version": 3
   },
   "file_extension": ".py",
   "mimetype": "text/x-python",
   "name": "python",
   "nbconvert_exporter": "python",
   "pygments_lexer": "ipython3",
   "version": "3.8.10"
  }
 },
 "nbformat": 4,
 "nbformat_minor": 5
}

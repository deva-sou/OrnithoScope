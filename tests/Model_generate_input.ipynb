{
 "cells": [
  {
   "cell_type": "markdown",
   "id": "c9c20a35-592d-4b10-ac78-7d522084f3a7",
   "metadata": {},
   "source": [
    "# Notebook to generate input for OrnithoScope"
   ]
  },
  {
   "cell_type": "markdown",
   "id": "3d7c27b3-2181-4134-b9b8-f7eb454d8029",
   "metadata": {
    "tags": []
   },
   "source": [
    "## Format des données en input\n",
    "```\n",
    "TRAINING,gs://cloud-ml-data/img/openimage/3/2520/3916261642_0a504acd60_o.jpg,Salad,0.0,0.0954,,,0.977,0.957,,\n",
    "VALIDATION,gs://cloud-ml-data/img/openimage/3/2520/3916261642_0a504acd60_o.jpg,Seafood,0.0154,0.1538,,,1.0,0.802,,\n",
    "TEST,gs://cloud-ml-data/img/openimage/3/2520/3916261642_0a504acd60_o.jpg,Tomato,0.0,0.655,,,0.231,0.839,,\n",
    "```"
   ]
  },
  {
   "cell_type": "code",
   "execution_count": 1,
   "id": "f1ef25ed-3f08-4d61-a9df-101803b10672",
   "metadata": {},
   "outputs": [],
   "source": [
    "import os, os.path\n",
    "import pandas as pd\n",
    "from xml.dom import minidom\n",
    "import matplotlib.pyplot as plt\n",
    "import numpy as np\n",
    "import seaborn as sns"
   ]
  },
  {
   "cell_type": "code",
   "execution_count": 3,
   "id": "d0933864-cbbd-4343-a98d-a5acb116edf7",
   "metadata": {
    "scrolled": true,
    "tags": []
   },
   "outputs": [
    {
     "name": "stdout",
     "output_type": "stream",
     "text": [
      "task_05-01-2021 948 740 812 {'MESCHA': 287, 'SITTOR': 182, 'MESBLE': 69, 'MESNON': 100, 'PINARB': 2, 'ACCMOU': 147, 'ROUGOR': 25}\n"
     ]
    },
    {
     "name": "stderr",
     "output_type": "stream",
     "text": [
      "/tmp/ipykernel_38461/2814961685.py:61: FutureWarning: The frame.append method is deprecated and will be removed from pandas in a future version. Use pandas.concat instead.\n",
      "  df = df.append({'task_name': task_name, 'img_number':len(image_paths),\n",
      "/tmp/ipykernel_38461/2814961685.py:61: FutureWarning: The frame.append method is deprecated and will be removed from pandas in a future version. Use pandas.concat instead.\n",
      "  df = df.append({'task_name': task_name, 'img_number':len(image_paths),\n"
     ]
    },
    {
     "name": "stdout",
     "output_type": "stream",
     "text": [
      "task_06-01-2021 324 225 268 {'MESBLE': 22, 'MESCHA': 135, 'SITTOR': 32, 'MESNON': 29, 'ACCMOU': 30, 'PINARB': 20}\n",
      "task_18-01-2021 297 244 245 {'MESNON': 73, 'ROUGOR': 5, 'MESBLE': 91, 'MESCHA': 76}\n"
     ]
    },
    {
     "name": "stderr",
     "output_type": "stream",
     "text": [
      "/tmp/ipykernel_38461/2814961685.py:61: FutureWarning: The frame.append method is deprecated and will be removed from pandas in a future version. Use pandas.concat instead.\n",
      "  df = df.append({'task_name': task_name, 'img_number':len(image_paths),\n"
     ]
    },
    {
     "name": "stdout",
     "output_type": "stream",
     "text": [
      "task_19-01-2021 737 543 554 {'MESCHA': 344, 'MESNON': 79, 'MESBLE': 74, 'ROUGOR': 57}\n",
      "task_2021-03-01_07 162 124 130 {'MESBLE': 6, 'MESCHA': 17, 'VEREUR': 107}\n",
      "task_2021-03-01_08 317 108 115 {'MESCHA': 61, 'MESBLE': 9, 'VEREUR': 45}\n"
     ]
    },
    {
     "name": "stderr",
     "output_type": "stream",
     "text": [
      "/tmp/ipykernel_38461/2814961685.py:61: FutureWarning: The frame.append method is deprecated and will be removed from pandas in a future version. Use pandas.concat instead.\n",
      "  df = df.append({'task_name': task_name, 'img_number':len(image_paths),\n",
      "/tmp/ipykernel_38461/2814961685.py:61: FutureWarning: The frame.append method is deprecated and will be removed from pandas in a future version. Use pandas.concat instead.\n",
      "  df = df.append({'task_name': task_name, 'img_number':len(image_paths),\n",
      "/tmp/ipykernel_38461/2814961685.py:61: FutureWarning: The frame.append method is deprecated and will be removed from pandas in a future version. Use pandas.concat instead.\n",
      "  df = df.append({'task_name': task_name, 'img_number':len(image_paths),\n"
     ]
    },
    {
     "name": "stdout",
     "output_type": "stream",
     "text": [
      "task_2021-03-01_09 444 196 209 {'VEREUR': 68, 'MESCHA': 68, 'PINARB': 6, 'MOIDOM': 13, 'MESBLE': 15, 'TOUTUR': 39}\n",
      "task_2021-03-01_10 525 169 174 {'PINARB': 20, 'MESCHA': 45, 'VEREUR': 93, 'MESBLE': 16}\n"
     ]
    },
    {
     "name": "stderr",
     "output_type": "stream",
     "text": [
      "/tmp/ipykernel_38461/2814961685.py:61: FutureWarning: The frame.append method is deprecated and will be removed from pandas in a future version. Use pandas.concat instead.\n",
      "  df = df.append({'task_name': task_name, 'img_number':len(image_paths),\n",
      "/tmp/ipykernel_38461/2814961685.py:61: FutureWarning: The frame.append method is deprecated and will be removed from pandas in a future version. Use pandas.concat instead.\n",
      "  df = df.append({'task_name': task_name, 'img_number':len(image_paths),\n"
     ]
    },
    {
     "name": "stdout",
     "output_type": "stream",
     "text": [
      "task_2021-03-01_11 278 128 130 {'MESCHA': 103, 'MESBLE': 17, 'PINARB': 5, 'VEREUR': 5}\n",
      "task_2021-03-01_12 158 115 117 {'MESCHA': 78, 'VEREUR': 33, 'MESBLE': 5, 'PINARB': 1}\n",
      "task_2021-03-01_13 236 208 224 {'MESCHA': 46, 'MESBLE': 12, 'VEREUR': 166}\n"
     ]
    },
    {
     "name": "stderr",
     "output_type": "stream",
     "text": [
      "/tmp/ipykernel_38461/2814961685.py:61: FutureWarning: The frame.append method is deprecated and will be removed from pandas in a future version. Use pandas.concat instead.\n",
      "  df = df.append({'task_name': task_name, 'img_number':len(image_paths),\n",
      "/tmp/ipykernel_38461/2814961685.py:61: FutureWarning: The frame.append method is deprecated and will be removed from pandas in a future version. Use pandas.concat instead.\n",
      "  df = df.append({'task_name': task_name, 'img_number':len(image_paths),\n",
      "/tmp/ipykernel_38461/2814961685.py:61: FutureWarning: The frame.append method is deprecated and will be removed from pandas in a future version. Use pandas.concat instead.\n",
      "  df = df.append({'task_name': task_name, 'img_number':len(image_paths),\n"
     ]
    },
    {
     "name": "stdout",
     "output_type": "stream",
     "text": [
      "task_2021-03-01_14 283 212 224 {'MESCHA': 146, 'MESBLE': 38, 'VEREUR': 40}\n",
      "task_2021-03-01_15 206 131 134 {'MESCHA': 114, 'MESBLE': 19, 'PINARB': 1}\n",
      "task_2021-03-01_16 157 89 95 {'MESCHA': 59, 'MESBLE': 11, 'VEREUR': 25}\n"
     ]
    },
    {
     "name": "stderr",
     "output_type": "stream",
     "text": [
      "/tmp/ipykernel_38461/2814961685.py:61: FutureWarning: The frame.append method is deprecated and will be removed from pandas in a future version. Use pandas.concat instead.\n",
      "  df = df.append({'task_name': task_name, 'img_number':len(image_paths),\n",
      "/tmp/ipykernel_38461/2814961685.py:61: FutureWarning: The frame.append method is deprecated and will be removed from pandas in a future version. Use pandas.concat instead.\n",
      "  df = df.append({'task_name': task_name, 'img_number':len(image_paths),\n",
      "/tmp/ipykernel_38461/2814961685.py:61: FutureWarning: The frame.append method is deprecated and will be removed from pandas in a future version. Use pandas.concat instead.\n",
      "  df = df.append({'task_name': task_name, 'img_number':len(image_paths),\n"
     ]
    },
    {
     "name": "stdout",
     "output_type": "stream",
     "text": [
      "task_2021-03-01_17 350 254 279 {'VEREUR': 57, 'MESCHA': 183, 'MESBLE': 39}\n",
      "task_2021-03-01_18 69 40 41 {'MESCHA': 24, 'MESBLE': 17}\n",
      "task_20210205 147 139 157 {'VEREUR': 60, 'MESCHA': 78, 'MESBLE': 5, 'PINARB': 14}\n",
      "task_20210217 239 226 273 {'MESBLE': 22, 'MESCHA': 188, 'VEREUR': 25, 'TOUTUR': 38}\n"
     ]
    },
    {
     "name": "stderr",
     "output_type": "stream",
     "text": [
      "/tmp/ipykernel_38461/2814961685.py:61: FutureWarning: The frame.append method is deprecated and will be removed from pandas in a future version. Use pandas.concat instead.\n",
      "  df = df.append({'task_name': task_name, 'img_number':len(image_paths),\n",
      "/tmp/ipykernel_38461/2814961685.py:61: FutureWarning: The frame.append method is deprecated and will be removed from pandas in a future version. Use pandas.concat instead.\n",
      "  df = df.append({'task_name': task_name, 'img_number':len(image_paths),\n",
      "/tmp/ipykernel_38461/2814961685.py:61: FutureWarning: The frame.append method is deprecated and will be removed from pandas in a future version. Use pandas.concat instead.\n",
      "  df = df.append({'task_name': task_name, 'img_number':len(image_paths),\n",
      "/tmp/ipykernel_38461/2814961685.py:61: FutureWarning: The frame.append method is deprecated and will be removed from pandas in a future version. Use pandas.concat instead.\n",
      "  df = df.append({'task_name': task_name, 'img_number':len(image_paths),\n"
     ]
    },
    {
     "name": "stdout",
     "output_type": "stream",
     "text": [
      "task_20210227 320 292 346 {'MESCHA': 184, 'VEREUR': 96, 'MESBLE': 40, 'MOIDOM': 8, 'PINARB': 13, 'TOUTUR': 5}\n",
      "task_20210228 223 217 237 {'MESCHA': 158, 'MESBLE': 19, 'PINARB': 12, 'VEREUR': 48}\n",
      "task_20210409 68 64 64 {'MESCHA': 4, 'ECUROU': 60}\n",
      "task_20210411 1 0 0 {}\n",
      "task_20210412 90 52 52 {'MESCHA': 14, 'ECUROU': 38}\n"
     ]
    },
    {
     "name": "stderr",
     "output_type": "stream",
     "text": [
      "/tmp/ipykernel_38461/2814961685.py:61: FutureWarning: The frame.append method is deprecated and will be removed from pandas in a future version. Use pandas.concat instead.\n",
      "  df = df.append({'task_name': task_name, 'img_number':len(image_paths),\n",
      "/tmp/ipykernel_38461/2814961685.py:61: FutureWarning: The frame.append method is deprecated and will be removed from pandas in a future version. Use pandas.concat instead.\n",
      "  df = df.append({'task_name': task_name, 'img_number':len(image_paths),\n",
      "/tmp/ipykernel_38461/2814961685.py:61: FutureWarning: The frame.append method is deprecated and will be removed from pandas in a future version. Use pandas.concat instead.\n",
      "  df = df.append({'task_name': task_name, 'img_number':len(image_paths),\n",
      "/tmp/ipykernel_38461/2814961685.py:61: FutureWarning: The frame.append method is deprecated and will be removed from pandas in a future version. Use pandas.concat instead.\n",
      "  df = df.append({'task_name': task_name, 'img_number':len(image_paths),\n",
      "/tmp/ipykernel_38461/2814961685.py:61: FutureWarning: The frame.append method is deprecated and will be removed from pandas in a future version. Use pandas.concat instead.\n",
      "  df = df.append({'task_name': task_name, 'img_number':len(image_paths),\n"
     ]
    },
    {
     "name": "stdout",
     "output_type": "stream",
     "text": [
      "task_20210413_UPS 94 69 69 {'ECUROU': 58, 'MESCHA': 11}\n",
      "task_20210414 133 119 120 {'MESCHA': 20, 'ECUROU': 100}\n",
      "task_20210415_UPS 211 176 177 {'ECUROU': 157, 'MESCHA': 20}\n"
     ]
    },
    {
     "name": "stderr",
     "output_type": "stream",
     "text": [
      "/tmp/ipykernel_38461/2814961685.py:61: FutureWarning: The frame.append method is deprecated and will be removed from pandas in a future version. Use pandas.concat instead.\n",
      "  df = df.append({'task_name': task_name, 'img_number':len(image_paths),\n",
      "/tmp/ipykernel_38461/2814961685.py:61: FutureWarning: The frame.append method is deprecated and will be removed from pandas in a future version. Use pandas.concat instead.\n",
      "  df = df.append({'task_name': task_name, 'img_number':len(image_paths),\n",
      "/tmp/ipykernel_38461/2814961685.py:61: FutureWarning: The frame.append method is deprecated and will be removed from pandas in a future version. Use pandas.concat instead.\n",
      "  df = df.append({'task_name': task_name, 'img_number':len(image_paths),\n"
     ]
    },
    {
     "name": "stdout",
     "output_type": "stream",
     "text": [
      "task_20210416_UPS 292 262 262 {'ECUROU': 234, 'MESCHA': 27, 'MESBLE': 1}\n",
      "task_20210417_UPS 461 401 404 {'MESCHA': 107, 'PIEBAV': 24, 'ECUROU': 265, 'MESBLE': 8}\n"
     ]
    },
    {
     "name": "stderr",
     "output_type": "stream",
     "text": [
      "/tmp/ipykernel_38461/2814961685.py:61: FutureWarning: The frame.append method is deprecated and will be removed from pandas in a future version. Use pandas.concat instead.\n",
      "  df = df.append({'task_name': task_name, 'img_number':len(image_paths),\n",
      "/tmp/ipykernel_38461/2814961685.py:61: FutureWarning: The frame.append method is deprecated and will be removed from pandas in a future version. Use pandas.concat instead.\n",
      "  df = df.append({'task_name': task_name, 'img_number':len(image_paths),\n"
     ]
    },
    {
     "name": "stdout",
     "output_type": "stream",
     "text": [
      "task_20210418_UPS 358 311 314 {'ECUROU': 251, 'MESCHA': 53, 'MESBLE': 3, 'PIEBAV': 7}\n",
      "task_20210419_UPS 121 94 94 {'PIEBAV': 16, 'ECUROU': 71, 'MESCHA': 7}\n",
      "task_20210420 8 7 7 {'MESCHA': 2, 'PIEBAV': 5}\n",
      "task_20210523_UPS 248 242 268 {'ECUROU': 70, 'MESBLE': 3, 'PIEBAV': 195}\n"
     ]
    },
    {
     "name": "stderr",
     "output_type": "stream",
     "text": [
      "/tmp/ipykernel_38461/2814961685.py:61: FutureWarning: The frame.append method is deprecated and will be removed from pandas in a future version. Use pandas.concat instead.\n",
      "  df = df.append({'task_name': task_name, 'img_number':len(image_paths),\n",
      "/tmp/ipykernel_38461/2814961685.py:61: FutureWarning: The frame.append method is deprecated and will be removed from pandas in a future version. Use pandas.concat instead.\n",
      "  df = df.append({'task_name': task_name, 'img_number':len(image_paths),\n",
      "/tmp/ipykernel_38461/2814961685.py:61: FutureWarning: The frame.append method is deprecated and will be removed from pandas in a future version. Use pandas.concat instead.\n",
      "  df = df.append({'task_name': task_name, 'img_number':len(image_paths),\n",
      "/tmp/ipykernel_38461/2814961685.py:61: FutureWarning: The frame.append method is deprecated and will be removed from pandas in a future version. Use pandas.concat instead.\n",
      "  df = df.append({'task_name': task_name, 'img_number':len(image_paths),\n"
     ]
    },
    {
     "name": "stdout",
     "output_type": "stream",
     "text": [
      "task_20210525_UPS 227 207 207 {'MESCHA': 20, 'PIEBAV': 146, 'ECUROU': 40, 'MESBLE': 1}\n",
      "task_20210526_UPS 232 228 228 {'PIEBAV': 173, 'ECUROU': 31, 'MESBLE': 4, 'MESCHA': 16, 'ROUGOR': 4}\n"
     ]
    },
    {
     "name": "stderr",
     "output_type": "stream",
     "text": [
      "/tmp/ipykernel_38461/2814961685.py:61: FutureWarning: The frame.append method is deprecated and will be removed from pandas in a future version. Use pandas.concat instead.\n",
      "  df = df.append({'task_name': task_name, 'img_number':len(image_paths),\n",
      "/tmp/ipykernel_38461/2814961685.py:61: FutureWarning: The frame.append method is deprecated and will be removed from pandas in a future version. Use pandas.concat instead.\n",
      "  df = df.append({'task_name': task_name, 'img_number':len(image_paths),\n"
     ]
    },
    {
     "name": "stdout",
     "output_type": "stream",
     "text": [
      "task_20210611_Lab 492 411 477 {'MESCHA': 454, 'MESBLE': 13, 'MOIDOM': 10}\n"
     ]
    },
    {
     "name": "stderr",
     "output_type": "stream",
     "text": [
      "/tmp/ipykernel_38461/2814961685.py:61: FutureWarning: The frame.append method is deprecated and will be removed from pandas in a future version. Use pandas.concat instead.\n",
      "  df = df.append({'task_name': task_name, 'img_number':len(image_paths),\n"
     ]
    },
    {
     "name": "stdout",
     "output_type": "stream",
     "text": [
      "task_20210612_1_Lab 556 400 488 {'MESCHA': 488}\n"
     ]
    },
    {
     "name": "stderr",
     "output_type": "stream",
     "text": [
      "/tmp/ipykernel_38461/2814961685.py:61: FutureWarning: The frame.append method is deprecated and will be removed from pandas in a future version. Use pandas.concat instead.\n",
      "  df = df.append({'task_name': task_name, 'img_number':len(image_paths),\n"
     ]
    },
    {
     "name": "stdout",
     "output_type": "stream",
     "text": [
      "task_20210615_Lab 641 546 783 {'MESCHA': 762, 'VEREUR': 12, 'MESBLE': 9}\n"
     ]
    },
    {
     "name": "stderr",
     "output_type": "stream",
     "text": [
      "/tmp/ipykernel_38461/2814961685.py:61: FutureWarning: The frame.append method is deprecated and will be removed from pandas in a future version. Use pandas.concat instead.\n",
      "  df = df.append({'task_name': task_name, 'img_number':len(image_paths),\n"
     ]
    },
    {
     "name": "stdout",
     "output_type": "stream",
     "text": [
      "task_20210616_Lab 478 384 502 {'MESCHA': 465, 'MESBLE': 7, 'VEREUR': 30}\n",
      "task_20210623_balacet 268 213 214 {'MESCHA': 166, 'ACCMOU': 42, 'ROUGOR': 6}\n"
     ]
    },
    {
     "name": "stderr",
     "output_type": "stream",
     "text": [
      "/tmp/ipykernel_38461/2814961685.py:61: FutureWarning: The frame.append method is deprecated and will be removed from pandas in a future version. Use pandas.concat instead.\n",
      "  df = df.append({'task_name': task_name, 'img_number':len(image_paths),\n",
      "/tmp/ipykernel_38461/2814961685.py:61: FutureWarning: The frame.append method is deprecated and will be removed from pandas in a future version. Use pandas.concat instead.\n",
      "  df = df.append({'task_name': task_name, 'img_number':len(image_paths),\n"
     ]
    },
    {
     "name": "stdout",
     "output_type": "stream",
     "text": [
      "task_20210624_balacet 439 370 414 {'MESCHA': 251, 'MULGRI': 68, 'CAMPAG': 16, 'ACCMOU': 75, 'MESBLE': 1, 'ROUGOR': 3}\n",
      "task_20210625_balacet 21 18 23 {'MESCHA': 10, 'MULGRI': 10, 'ACCMOU': 3}\n",
      "task_20210705-07_balacet 335 328 334 {'MESNON': 48, 'MULGRI': 19, 'ROUGOR': 86, 'MESBLE': 40, 'ACCMOU': 92, 'SITTOR': 49}\n"
     ]
    },
    {
     "name": "stderr",
     "output_type": "stream",
     "text": [
      "/tmp/ipykernel_38461/2814961685.py:61: FutureWarning: The frame.append method is deprecated and will be removed from pandas in a future version. Use pandas.concat instead.\n",
      "  df = df.append({'task_name': task_name, 'img_number':len(image_paths),\n",
      "/tmp/ipykernel_38461/2814961685.py:61: FutureWarning: The frame.append method is deprecated and will be removed from pandas in a future version. Use pandas.concat instead.\n",
      "  df = df.append({'task_name': task_name, 'img_number':len(image_paths),\n",
      "/tmp/ipykernel_38461/2814961685.py:61: FutureWarning: The frame.append method is deprecated and will be removed from pandas in a future version. Use pandas.concat instead.\n",
      "  df = df.append({'task_name': task_name, 'img_number':len(image_paths),\n"
     ]
    },
    {
     "name": "stdout",
     "output_type": "stream",
     "text": [
      "task_20211204_Orlu 1499 979 1028 {'MESBLE': 196, 'MESCHA': 631, 'MESNON': 62, 'MESNOI': 34, 'SITTOR': 105}\n"
     ]
    },
    {
     "name": "stderr",
     "output_type": "stream",
     "text": [
      "/tmp/ipykernel_38461/2814961685.py:61: FutureWarning: The frame.append method is deprecated and will be removed from pandas in a future version. Use pandas.concat instead.\n",
      "  df = df.append({'task_name': task_name, 'img_number':len(image_paths),\n"
     ]
    },
    {
     "name": "stdout",
     "output_type": "stream",
     "text": [
      "task_2021_11_03-04_cescau4 1755 1640 1890 {'SITTOR': 188, 'MESCHA': 556, 'MESNOI': 183, 'PINARB': 260, 'MESBLE': 15, 'MESNON': 565, 'MESHUP': 116, 'ROUGOR': 7}\n"
     ]
    },
    {
     "name": "stderr",
     "output_type": "stream",
     "text": [
      "/tmp/ipykernel_38461/2814961685.py:61: FutureWarning: The frame.append method is deprecated and will be removed from pandas in a future version. Use pandas.concat instead.\n",
      "  df = df.append({'task_name': task_name, 'img_number':len(image_paths),\n"
     ]
    },
    {
     "name": "stdout",
     "output_type": "stream",
     "text": [
      "task_21-01-2021 939 805 833 {'MESCHA': 583, 'MESBLE': 142, 'MESNON': 88, 'ROUGOR': 20}\n",
      "task_MOIDOM_ODJ 45 45 69 {'MOIDOM': 69}\n",
      "task_berggris 11 11 11 {'BERGRI': 11}\n"
     ]
    },
    {
     "name": "stderr",
     "output_type": "stream",
     "text": [
      "/tmp/ipykernel_38461/2814961685.py:61: FutureWarning: The frame.append method is deprecated and will be removed from pandas in a future version. Use pandas.concat instead.\n",
      "  df = df.append({'task_name': task_name, 'img_number':len(image_paths),\n",
      "/tmp/ipykernel_38461/2814961685.py:61: FutureWarning: The frame.append method is deprecated and will be removed from pandas in a future version. Use pandas.concat instead.\n",
      "  df = df.append({'task_name': task_name, 'img_number':len(image_paths),\n",
      "/tmp/ipykernel_38461/2814961685.py:61: FutureWarning: The frame.append method is deprecated and will be removed from pandas in a future version. Use pandas.concat instead.\n",
      "  df = df.append({'task_name': task_name, 'img_number':len(image_paths),\n"
     ]
    }
   ],
   "source": [
    "path = '/home/acarlier/OrnithoMate/p0133_bird_data/annotations/'\n",
    "tasks_dir = sorted(os.listdir(path))\n",
    "unwanted_list = ['unknown', 'human', 'noBird']\n",
    "df = pd.DataFrame()\n",
    "\n",
    "def get_info_from_xml(xml_path):\n",
    "    mydoc = minidom.parse(xml_path)\n",
    "    items = mydoc.getElementsByTagName('object')\n",
    "    nb_obj = len(items)\n",
    "    nb_obj_real = 0\n",
    "    birds = []\n",
    "    for k in range(nb_obj):\n",
    "        #bird = items[k].childNodes[7].childNodes[1].childNodes[3].childNodes[0].data\n",
    "        attributes = items[k].getElementsByTagName('attribute')\n",
    "        for a in attributes:\n",
    "            if a.childNodes[1].childNodes[0].data == 'species':\n",
    "                bird = a.childNodes[3].childNodes[0].data\n",
    "                if bird not in unwanted_list:\n",
    "                    birds.append(bird)\n",
    "                    nb_obj_real += 1\n",
    "            \n",
    "    return nb_obj_real, birds\n",
    "\n",
    "\n",
    "total_img = 0\n",
    "total_obj = 0\n",
    "total_obj_dict = {}\n",
    "for i in range(len(tasks_dir)):\n",
    "    # Pour chaque tâche\n",
    "    task_name = tasks_dir[i]\n",
    "    \n",
    "    task_dict = {}\n",
    "    \n",
    "    complete_path = path + task_name + '/Annotations/bird/' + task_name + '/'\n",
    "    # Lister toutes les images de la tâche\n",
    "    image_paths = sorted(os.listdir(complete_path))\n",
    "\n",
    "    nb_img_real = 0\n",
    "    nb_obj_real = 0\n",
    "    for img in range(len(image_paths)):\n",
    "        nb_obj, birds = get_info_from_xml(complete_path + image_paths[img])\n",
    "        \n",
    "        if nb_obj > 0:\n",
    "            nb_img_real += 1\n",
    "            nb_obj_real += len(birds)\n",
    "            \n",
    "            for b in birds:\n",
    "                if b in task_dict:\n",
    "                    task_dict[b] += 1\n",
    "                else:\n",
    "                    task_dict[b] = 1\n",
    "                    \n",
    "                if b in total_obj_dict:\n",
    "                    total_obj_dict[b] += 1\n",
    "                else:\n",
    "                    total_obj_dict[b] = 1\n",
    "    \n",
    "    total_img += nb_img_real\n",
    "    total_obj += nb_obj_real        \n",
    "    print(task_name, len(image_paths), nb_img_real, nb_obj_real, task_dict)\n",
    "    df = df.append({'task_name': task_name, 'img_number':len(image_paths),\n",
    "                   'usable_img':nb_img_real,'obj_detected_number':nb_obj_real,'detected_ojects_number':task_dict},ignore_index=True)"
   ]
  }
 ],
 "metadata": {
  "kernelspec": {
   "display_name": "Python 3 (ipykernel)",
   "language": "python",
   "name": "python3"
  },
  "language_info": {
   "codemirror_mode": {
    "name": "ipython",
    "version": 3
   },
   "file_extension": ".py",
   "mimetype": "text/x-python",
   "name": "python",
   "nbconvert_exporter": "python",
   "pygments_lexer": "ipython3",
   "version": "3.8.10"
  }
 },
 "nbformat": 4,
 "nbformat_minor": 5
}

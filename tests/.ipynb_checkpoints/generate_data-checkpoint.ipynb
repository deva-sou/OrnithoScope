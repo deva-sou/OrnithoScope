{
 "cells": [
  {
   "cell_type": "markdown",
   "id": "c9c20a35-592d-4b10-ac78-7d522084f3a7",
   "metadata": {},
   "source": [
    "# Notebook to generate input for OrnithoScope"
   ]
  }
 ],
 "metadata": {
  "kernelspec": {
   "display_name": "Python 3 (ipykernel)",
   "language": "python",
   "name": "python3"
  },
  "language_info": {
   "codemirror_mode": {
    "name": "ipython",
    "version": 3
   },
   "file_extension": ".py",
   "mimetype": "text/x-python",
   "name": "python",
   "nbconvert_exporter": "python",
   "pygments_lexer": "ipython3",
   "version": "3.8.10"
  }
 },
 "nbformat": 4,
 "nbformat_minor": 5
}
